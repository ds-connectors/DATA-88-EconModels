{
 "cells": [
  {
   "cell_type": "markdown",
   "metadata": {},
   "source": [
    "<table style=\"width: 100%;\" id=\"nb-header\">\n",
    "    <tr style=\"background-color: transparent;\"><td>\n",
    "        <img src=\"https://d8a-88.github.io/econ-fa19/assets/images/blue_text.png\" width=\"250px\" style=\"margin-left: 0;\" />\n",
    "    </td><td>\n",
    "        <p style=\"text-align: right; font-size: 10pt;\"><strong>Economic Models</strong>, Spring 2020<br>\n",
    "            Dr. Eric Van Dusen<br>\n",
    "        Notebook by Umar Maniku</p></td></tr>\n",
    "</table>"
   ]
  },
  {
   "cell_type": "markdown",
   "metadata": {},
   "source": [
    "# Project 1: The Cobb-Douglas Production Function"
   ]
  },
  {
   "cell_type": "markdown",
   "metadata": {},
   "source": [
    "<!-- ## Due Dates and Important Information:\n",
    "\n",
    "- This project is in three parts.\n",
    "- The whole project (all three parts) will be due 2 Mondays from now, on March 16, 2020 at 11:59pm on Gradescope.\n",
    "- **Do not change any of the given variable or function names as this would cause autograder problems. Make sure to name your columns and tables exactly as the questions ask you to.** -->"
   ]
  },
  {
   "cell_type": "code",
   "execution_count": null,
   "metadata": {},
   "outputs": [],
   "source": [
    "from utils import *\n",
    "import pandas as pd\n",
    "from datascience import *\n",
    "from sympy import *\n",
    "import matplotlib.pyplot as plt\n",
    "import numpy as np \n",
    "import seaborn as sns\n",
    "from sklearn.linear_model import LinearRegression\n",
    "import otter\n",
    "grader = otter.Notebook()\n",
    "%matplotlib inline\n",
    "plt.style.use(\"seaborn-notebook\")"
   ]
  },
  {
   "cell_type": "markdown",
   "metadata": {},
   "source": [
    "The goal of this homework is to gain experience completing the following key steps in the data science pipeline:\n",
    "\n",
    "1. Cleaning and filtering data collected from online sources\n",
    "2. Identifying and visualizing overall trends in the data using a process called Exploratory Data Analysis (EDA)\n",
    "3. Using the data to complete a problem of prediction\n",
    "\n",
    "We hope that at the end of this project, you will see how the skills you have learned in Data 8 and this class can prepare you for dealing with real world datasets, and how you can use them to answer questions about the economy or the world."
   ]
  },
  {
   "cell_type": "markdown",
   "metadata": {},
   "source": [
    "The question you will be answering today is the following: \n",
    "\n",
    "> How can we apply the Cobb-Douglas Production Function to understand the different ways countries produce output or GDP?"
   ]
  },
  {
   "cell_type": "markdown",
   "metadata": {},
   "source": [
    "## Part 1: Simplifying the problem"
   ]
  },
  {
   "cell_type": "code",
   "execution_count": null,
   "metadata": {},
   "outputs": [],
   "source": [
    "file_name = \"pwt91.csv\"\n",
    "data = to_table(file_name)"
   ]
  },
  {
   "cell_type": "markdown",
   "metadata": {},
   "source": [
    "Now, this dataset is saved under the table called ```data```. Look at the first 10 rows below:"
   ]
  },
  {
   "cell_type": "code",
   "execution_count": null,
   "metadata": {
    "tags": [
     "gradable"
    ]
   },
   "outputs": [],
   "source": [
    "data"
   ]
  },
  {
   "cell_type": "markdown",
   "metadata": {},
   "source": [
    "Notice that there are a lot of ```-1``` values. These are representative of data being unavailable for that variable, for a given country-year.\n",
    "\n",
    "To get an idea of the dataset's geographic scope, let us find out what countries are included, and if they are spelt in interesting ways. This will be helpful for us later on in our analysis."
   ]
  },
  {
   "cell_type": "markdown",
   "metadata": {},
   "source": [
    "**Question 1.1:** Create a two-column table called `all_countries`. Its first column will be called `Country` and the second `Earliest Year`. It should contain all of the countries that appear in the `data` table sorted in alphabetical order with the earliest year they appear in the dataset where the `cgdpe` column is not `-1`. Assign that table to the variable `all_countries` and display its first 10 rows."
   ]
  },
  {
   "cell_type": "code",
   "execution_count": null,
   "metadata": {},
   "outputs": [],
   "source": [
    "all_countries = ..."
   ]
  },
  {
   "cell_type": "code",
   "execution_count": null,
   "metadata": {},
   "outputs": [],
   "source": [
    "grader.check(\"q1_1\")"
   ]
  },
  {
   "cell_type": "markdown",
   "metadata": {},
   "source": [
    "Take a look at ```data``` again. Notice that it has a lot of columns. We won't need most of them. As we will be using the Cobb-Douglas Production Function, think about what variables are needed in the equation, and which ones are already present in the table. This is an important part of the data science process: understanding the dataset that you are using. Most real-world datasets provide documentation listing the definitions and equations behind each variable. \n",
    "\n",
    "PWT provides this and has identified three variables that will be helpful to us:\n",
    "1. cn $\\Rightarrow$ Capital Stock in millions of USD\n",
    "2. cgdpe $\\Rightarrow$ Expenditure-side Real GDP in millions of USD\n",
    "3. emp $\\Rightarrow$ Number of Persons employed in millions\n",
    "\n",
    "**An important note: for the sake of simplicity, we will be assuming that nations exhibit constant returns to scale.**"
   ]
  },
  {
   "cell_type": "markdown",
   "metadata": {
    "tags": [
     "gradable"
    ]
   },
   "source": [
    "<!-- BEGIN QUESTION -->\n",
    "\n",
    "**Question 1.2:** In the Markdown cell below do the following:\n",
    "\n",
    "1. Rewrite the original Cobb-Douglas function in $\\LaTeX$, under the assumption that are no constant returns to scale. On a separate line, write the restriction implied by constant returns to scale.\n",
    "2. Give a brief explanation of what each variable in the Cobb-Douglas function quantifies (i.e. $K$ measures the amount of \\_\\_\\_)."
   ]
  },
  {
   "cell_type": "markdown",
   "metadata": {
    "tags": [
     "gradable"
    ]
   },
   "source": [
    "_Type your answer here, replacing this text._"
   ]
  },
  {
   "cell_type": "markdown",
   "metadata": {},
   "source": [
    "<!-- END QUESTION -->"
   ]
  },
  {
   "cell_type": "markdown",
   "metadata": {},
   "source": [
    "**Question 1.3:**\n",
    "Assign the variable <code>missing_variables</code> to an array containing the Cobb-Douglas function variables that are missing from the dataset."
   ]
  },
  {
   "cell_type": "code",
   "execution_count": null,
   "metadata": {},
   "outputs": [],
   "source": [
    "missing_variables = ..."
   ]
  },
  {
   "cell_type": "code",
   "execution_count": null,
   "metadata": {},
   "outputs": [],
   "source": [
    "grader.check(\"q1_3\")"
   ]
  },
  {
   "cell_type": "markdown",
   "metadata": {
    "tags": [
     "gradable"
    ]
   },
   "source": [
    "**Question 1.4:**\n",
    "Remove all columns from <code>data</code> except for <code>cn</code>, <code>cgdpe</code>, <code>emp</code>, <code>country</code> and <code>year</code>. Ensure that <code>country</code> and <code>year</code> are the two left-most columns respectively. Call the new table <code>cleaned_data</code> and display its first five rows. Rename the <code>cn</code> column to <code>Capital Stock</code>, <code>cgdpe</code> to <code>Real GDP</code> and <code>emp</code> to <code>Labor Force</code>."
   ]
  },
  {
   "cell_type": "code",
   "execution_count": null,
   "metadata": {
    "tags": [
     "gradable"
    ]
   },
   "outputs": [],
   "source": [
    "cleaned_data = ...\n",
    "cleaned_data"
   ]
  },
  {
   "cell_type": "code",
   "execution_count": null,
   "metadata": {},
   "outputs": [],
   "source": [
    "grader.check(\"q1_4\")"
   ]
  },
  {
   "cell_type": "markdown",
   "metadata": {},
   "source": [
    "Our goal will be to predict what $\\alpha$ and $A$ are for each of the countries that we will be examining. From these, we will be able to explore how output is produced in each of these countries. The question is, how can we use the Cobb-Douglas Production function to solve for the missing variables? An easy way would be to take the natural log of the equation, making it linear, providing us with ways to quantify $\\alpha$ and $A$."
   ]
  },
  {
   "cell_type": "markdown",
   "metadata": {
    "tags": [
     "gradable"
    ]
   },
   "source": [
    "<!-- BEGIN QUESTION -->\n",
    "\n",
    "**Question 1.5:**\n",
    "In the cell below, using LaTeX, take the natural log of the Cobb-Douglas Production Function and rewrite it as a function of one variable. Show all of your work. Full credit will not be given if you just display the final simplified equation without showing any work.\n",
    "\n",
    "_Hint:_ $\\ln Y - \\ln L = \\text{...}$"
   ]
  },
  {
   "cell_type": "markdown",
   "metadata": {
    "tags": [
     "gradable"
    ]
   },
   "source": [
    "_Type your answer here, replacing this text._"
   ]
  },
  {
   "cell_type": "markdown",
   "metadata": {},
   "source": [
    "<!-- END QUESTION -->"
   ]
  },
  {
   "cell_type": "markdown",
   "metadata": {},
   "source": [
    "## Part 2: Exploring the Data"
   ]
  },
  {
   "cell_type": "markdown",
   "metadata": {},
   "source": [
    "Whenever we are dealing with a large dataset like PWT, it is a good idea to see how the variables interact with each other. A common method, especially when dealing with economic data, is to generate a time series. This is a plot of some economic variable on the y-axis and time on the x-axis. We are going to do just that for our important Cobb-Douglas variables for different countries."
   ]
  },
  {
   "cell_type": "markdown",
   "metadata": {
    "tags": [
     "gradable"
    ]
   },
   "source": [
    "**Question 2.1:**\n",
    "Create a table of GDP, Capital Stock and Labor for the USA from 1990 to 2017. Do the same for China and two other countries of your choice. Use the middle cell to check if your countries of choice exist in the dataset. Make sure to use the country name exactly as it appears in the data table. Place all of this data in one table called <code>comparison_data</code>. Display the first 10 rows of <code>comparison_data</code>. Additionally, set the <code>country_array</code> variable to an array of the countries you selected **in alphabetical order**.\n",
    "\n",
    "_Hint:_ Look at the <a href=\"https://d8a-88.github.io/econ-fa19/python-reference.html\"> Python Reference</a> for a table function you can use."
   ]
  },
  {
   "cell_type": "code",
   "execution_count": null,
   "metadata": {},
   "outputs": [],
   "source": [
    "# Run this cell to see a table of all the countries in the dataset.\n",
    "# Select two countries and proceed to the next code cell.\n",
    "all_countries[\"Country\"]"
   ]
  },
  {
   "cell_type": "code",
   "execution_count": null,
   "metadata": {
    "tags": [
     "gradable"
    ]
   },
   "outputs": [],
   "source": [
    "country_array = make_array(\"China\", \"United States\", ..., ...)\n",
    "comparison_data = ..."
   ]
  },
  {
   "cell_type": "code",
   "execution_count": null,
   "metadata": {},
   "outputs": [],
   "source": [
    "grader.check(\"q2_1\")"
   ]
  },
  {
   "cell_type": "markdown",
   "metadata": {},
   "source": [
    "**Note:** If you ever need to refer to a list of the countries you selected in your code, do **not** use ```country_array```. When you place the data in ```comparison_data```, Python will automatically re-order the countries. Using ```country_array``` will cause a mis-match between your rows of data in ```comparison_data``` and the country it is actually from."
   ]
  },
  {
   "cell_type": "markdown",
   "metadata": {
    "tags": [
     "gradable"
    ]
   },
   "source": [
    "**Question 2.2:**\n",
    "To help us in later questions, fill in the blanks in the <code>country_table_plotter</code> function below. Its inputs will be a table of the form <code>comparison_data</code> and the names of the two columns plotted, <code>columnX</code> and <code>columnY</code>. The <code>country_table_plotter</code> function will plot <code>columnX</code> versus <code>columnY</code> using data from <code>data_table</code> for all the countries \n",
    "\n",
    "_Hint:_ Look at the <a href=\"https://matplotlib.org/3.1.1/api/_as_gen/matplotlib.pyplot.plot.html\"> Matplotlib Plotting Reference</a> for ideas of what to place in the blanks."
   ]
  },
  {
   "cell_type": "code",
   "execution_count": null,
   "metadata": {
    "tags": [
     "gradable"
    ]
   },
   "outputs": [],
   "source": [
    "def country_table_plotter(data_table, columnX, columnY):\n",
    "    \n",
    "    for country in ...:\n",
    "        plt.plot(..., ..., label = country, linewidth = 1)    \n",
    "    \n",
    "    ### Do not change the code below ###\n",
    "    plt.legend(loc='center left', bbox_to_anchor=(1, 0.5), fontsize = 'x-large')\n",
    "    plt.xlabel(columnX)\n",
    "    plt.ylabel(f\"{columnY} (Logarithmic Scale)\")\n",
    "    plt.yscale(\"log\")"
   ]
  },
  {
   "cell_type": "markdown",
   "metadata": {
    "tags": [
     "gradable"
    ]
   },
   "source": [
    "<!-- BEGIN QUESTION -->\n",
    "\n",
    "**Question 2.3:**\n",
    "Produce a plot of time and capital stock for the countries in your table. In the Markdown cell below your plot, identify differences between the countries and discuss what surprised you."
   ]
  },
  {
   "cell_type": "code",
   "execution_count": null,
   "metadata": {
    "tags": [
     "gradable"
    ]
   },
   "outputs": [],
   "source": [
    "..."
   ]
  },
  {
   "cell_type": "markdown",
   "metadata": {
    "tags": [
     "gradable"
    ]
   },
   "source": [
    "_Type your answer here, replacing this text._"
   ]
  },
  {
   "cell_type": "markdown",
   "metadata": {
    "tags": [
     "gradable"
    ]
   },
   "source": [
    "**Question 2.4:**\n",
    "Produce a similar plot, but this time of time and labor for the countries in your table. In the Markdown cell below your plot, identify differences between the countries and discuss what surprised you."
   ]
  },
  {
   "cell_type": "code",
   "execution_count": null,
   "metadata": {
    "tags": [
     "gradable"
    ]
   },
   "outputs": [],
   "source": [
    "..."
   ]
  },
  {
   "cell_type": "markdown",
   "metadata": {
    "tags": [
     "gradable"
    ]
   },
   "source": [
    "_Type your answer here, replacing this text._"
   ]
  },
  {
   "cell_type": "markdown",
   "metadata": {
    "tags": [
     "gradable"
    ]
   },
   "source": [
    "**Question 2.5:**\n",
    "Create a plot of time and GDP for the countries in your table. In the text cell below your plot, using your knowledge of the Cobb-Douglas Production Function, identify differences between the countries and discuss these in relation to your findings about each of the country's levels of capital stock and labor. Also note about how these have changed over time, if at all."
   ]
  },
  {
   "cell_type": "code",
   "execution_count": null,
   "metadata": {
    "tags": [
     "gradable"
    ]
   },
   "outputs": [],
   "source": [
    "..."
   ]
  },
  {
   "cell_type": "markdown",
   "metadata": {
    "tags": [
     "gradable"
    ]
   },
   "source": [
    "_Type your answer here, replacing this text._"
   ]
  },
  {
   "cell_type": "markdown",
   "metadata": {},
   "source": [
    "<!-- END QUESTION -->"
   ]
  },
  {
   "cell_type": "markdown",
   "metadata": {},
   "source": [
    "## Part 3: Prediction and Comparison"
   ]
  },
  {
   "cell_type": "markdown",
   "metadata": {},
   "source": [
    "We are now going to provide numerical backing to your discussions of differences between the nations. We will predict values for $\\alpha$ and $A$ for each of the 4 countries that we are examining. To do this, we will revisit the equation that you derived in question 1.4. "
   ]
  },
  {
   "cell_type": "markdown",
   "metadata": {
    "tags": [
     "gradable"
    ]
   },
   "source": [
    "**Question 3.1:**\n",
    "A key step in the original paper by Cobb and Douglas was that they converted the data into an index. This is important because the data is measured in different units. Do this for each country and each of the variables in <code>comparison_data</code>. Let the 2011 value for each variable in each country be the base year, i.e. 100. Place this in a new table called <code>indexed_data</code> together with <code>country</code> and <code>year</code> columns. Display the first few rows. <br />\n",
    "\n",
    "_Hint:_ The formula for calculating an index is as follows:\n",
    "$$\n",
    "\\dfrac{Q_{\\text{current year}}}{Q_{\\text{base year}}} \\cdot 100 \\, \\text{ for some variable } Q\n",
    "$$"
   ]
  },
  {
   "cell_type": "code",
   "execution_count": null,
   "metadata": {
    "tags": [
     "gradable"
    ]
   },
   "outputs": [],
   "source": [
    "base_values = ...\n",
    "countries = ...\n",
    "indexed_Ks = make_array()\n",
    "indexed_Ls = make_array()\n",
    "indexed_Ys = make_array()\n",
    "\n",
    "for country in countries:\n",
    "    ...\n",
    "    \n",
    "indexed_data = Table().with_columns(\n",
    "    \"country\", ...\n",
    "    \"year\", ...\n",
    "    \"Indexed K\", ...\n",
    "    \"Indexed L\", ...\n",
    "    \"Indexed Y\", ...\n",
    ")\n",
    "\n",
    "indexed_data"
   ]
  },
  {
   "cell_type": "code",
   "execution_count": null,
   "metadata": {},
   "outputs": [],
   "source": [
    "grader.check(\"q3_1\")"
   ]
  },
  {
   "cell_type": "markdown",
   "metadata": {
    "tags": [
     "gradable"
    ]
   },
   "source": [
    "**Question 3.2:**\n",
    "Using the equation you derived in part 1 and the <code>indexed_data</code> table, calculate the two log ratios that you need to perform linear regression. Place them in the table <code>log_ratios</code> with <code>country</code> and <code>year</code> as the two leftmost columns respectively. Display the first 10 rows and name the columns appropriately. The <code>log_ratios</code> table should have 4 columns."
   ]
  },
  {
   "cell_type": "code",
   "execution_count": null,
   "metadata": {
    "tags": [
     "gradable"
    ]
   },
   "outputs": [],
   "source": [
    "log_ratios = ...\n",
    "log_ratios"
   ]
  },
  {
   "cell_type": "code",
   "execution_count": null,
   "metadata": {},
   "outputs": [],
   "source": [
    "grader.check(\"q3_2\")"
   ]
  },
  {
   "cell_type": "markdown",
   "metadata": {
    "tags": [
     "gradable"
    ]
   },
   "source": [
    "<!-- BEGIN QUESTION -->\n",
    "\n",
    "**Question 3.3:**\n",
    "Using the <code>country_table_scatter</code> function provided, plot the log ratios for each country from the <code>log_ratios</code> table below."
   ]
  },
  {
   "cell_type": "code",
   "execution_count": null,
   "metadata": {},
   "outputs": [],
   "source": [
    "def country_table_scatter(data_table, columnX, columnY):\n",
    "    # First getting a list of all the countries in data_table\n",
    "    country_list = data_table.group(\"country\").column(\"country\")\n",
    "    \n",
    "    # For each country, creating a scatter plot of columnX vs. columnY\n",
    "    for country in country_list:\n",
    "        curr_data_table = data_table.where(\"country\", country)\n",
    "        curr_data_table.scatter(columnX, columnY)\n",
    "        plt.title(country)"
   ]
  },
  {
   "cell_type": "code",
   "execution_count": null,
   "metadata": {
    "tags": [
     "gradable"
    ]
   },
   "outputs": [],
   "source": [
    "..."
   ]
  },
  {
   "cell_type": "markdown",
   "metadata": {},
   "source": [
    "**Extra Credit Question:**\n",
    "What do you notice about the scatter plot for the US? What could be a possible reason for this?"
   ]
  },
  {
   "cell_type": "markdown",
   "metadata": {},
   "source": [
    "_Type your answer here, replacing this text._"
   ]
  },
  {
   "cell_type": "markdown",
   "metadata": {},
   "source": [
    "<!-- END QUESTION -->"
   ]
  },
  {
   "cell_type": "markdown",
   "metadata": {},
   "source": [
    "To help you compare, the code below will plot all of the scatter plots on the same axis. Remember, the axes are in terms of logarithms. Thus, even small differences in slope or intercepts would yield big changes."
   ]
  },
  {
   "cell_type": "code",
   "execution_count": null,
   "metadata": {},
   "outputs": [],
   "source": [
    "all_scatter(log_ratios, \"ln(K/L)\", \"ln(Y/L)\")"
   ]
  },
  {
   "cell_type": "markdown",
   "metadata": {},
   "source": [
    "Now, we want to make a linear approximation of the curves above. How will we do this? Through linear regression.\n",
    "\n",
    "We will be using Scikit-Learn's (Sk-learn) linear regression function to get the $\\alpha$ and $A$ values for each country. Here is the link to the documentation of the <a href = \"https://scikit-learn.org/stable/modules/generated/sklearn.linear_model.LinearRegression.html\"> function</a>: \n",
    "\n",
    "Let us break down how this function works by taking a look at the examples section of the documentation.\n",
    "\n",
    "```python\n",
    "import numpy as np\n",
    "from sklearn.linear_model import LinearRegression\n",
    "X = np.array([[1, 1], [1, 2], [2, 2], [2, 3]])\n",
    "# y = 1 * x_0 + 2 * x_1 + 3\n",
    "y = np.dot(X, np.array([1, 2])) + 3\n",
    "reg = LinearRegression().fit(X, y)\n",
    "```\n",
    "\n",
    "The `LinearRegression()` function creates a LinearRegression object that has many different functions that we will be using, mainly `.fit()` and attributes like `.coef_` and `.intercept_`. The `.fit(X, y)` function fits a line using the `X` and `y` arrays passed into it.\n",
    "\n",
    "```python\n",
    "reg.coef_\n",
    "array([1., 2.])\n",
    "reg.intercept_ \n",
    "3.0000...\n",
    "reg.predict(np.array([[3, 5]]))\n",
    "array([16.])\n",
    "```\n",
    "\n",
    "After we have fit a line to the data, we can then get the corresponding attributes that we need: the slope coefficient and intercept. Note: the above example uses the equation:\n",
    "\n",
    "$$\n",
    "y = ax_0 + bx_1 + c\n",
    "$$\n",
    "\n",
    "Its data is in 3 dimensions, $x_0$, $x_1$ and $y$. Thus, `reg.coef_` returns a two element array, as there are two slope coefficients for x_0 and x_1. `reg.intercept_` still returns the intercept of the fitted line.\n",
    "\n",
    "Our data is in 2 dimensions, x and y. Thus, the function will attempt to fit the following line for each country:\n",
    "\n",
    "$$\n",
    "y = a + bx\n",
    "$$\n",
    "\n",
    "The function will find the values of $a$ and $b$ that minimize the squared errors at each value of $x$. You don't need to know the specifics of this just yet. Your task will be to figure out what arrays should be passed in as $y$ and $x$. Furthermore, think about the relationship between $\\alpha$ and $A$ with regards to $a$ and $b$ from this linear regression fit."
   ]
  },
  {
   "cell_type": "markdown",
   "metadata": {
    "tags": [
     "gradable"
    ]
   },
   "source": [
    "**Question 3.4:**\n",
    "Using Sklearn's Linear Regression function, fit the data taken from each country. Think about what should be passed into the <code>fit()</code> function. If you are confused about this, take a look at the sklearn <a href =\"https://scikit-learn.org/stable/modules/generated/sklearn.linear_model.LinearRegression.html#sklearn.linear_model.LinearRegression.fit\"> documentation</a> or the example above."
   ]
  },
  {
   "cell_type": "code",
   "execution_count": null,
   "metadata": {
    "tags": [
     "gradable"
    ]
   },
   "outputs": [],
   "source": [
    "# Create arrays of the data we will need from each country.\n",
    "# Think about which variable should be on each axis.\n",
    "\n",
    "china_x = ...\n",
    "china_y = ...\n",
    "us_x = ...\n",
    "us_y = ...\n",
    "country1_x = ...\n",
    "country1_y = ...\n",
    "country2_x = ...\n",
    "country2_y = ...\n",
    "\n",
    "### Do not change the code below ###\n",
    "model_china = LinearRegression().fit(china_x.reshape(-1, 1), china_y.reshape(-1, 1))\n",
    "model_us = LinearRegression().fit(us_x.reshape(-1, 1), us_y.reshape(-1, 1))\n",
    "model_country1 = LinearRegression().fit(country1_x.reshape(-1, 1), country1_y.reshape(-1, 1))\n",
    "model_country2 = LinearRegression().fit(country2_x.reshape(-1, 1), country2_y.reshape(-1, 1))"
   ]
  },
  {
   "cell_type": "code",
   "execution_count": null,
   "metadata": {},
   "outputs": [],
   "source": [
    "grader.check(\"q3_4\")"
   ]
  },
  {
   "cell_type": "markdown",
   "metadata": {
    "tags": [
     "gradable"
    ]
   },
   "source": [
    "<!-- BEGIN QUESTION -->\n",
    "\n",
    "**Question 3.5:**\n",
    "Now that we have fit the data of each country, we can then retrieve the slope and intercept of each fit. Using the equation you derived in question 1.3., fill in the blanks in the print statements below such that they display the $\\alpha$ and $A$ values for each country. Note that you will need to transform at least one of the variables."
   ]
  },
  {
   "cell_type": "code",
   "execution_count": null,
   "metadata": {
    "tags": [
     "gradable"
    ]
   },
   "outputs": [],
   "source": [
    "print(f\"China alpha value: {...}\")\n",
    "print(f\"United States alpha value: {...}\")\n",
    "print(f\"... alpha value: {...}\")\n",
    "print(f\"... alpha value: {...}\")\n",
    "print(\"\\n\")\n",
    "print(f\"China A value: {...}\")\n",
    "print(f\"United States A value: {...}\")\n",
    "print(f\"... A value: {...}\")\n",
    "print(f\"... A value: {...}\")"
   ]
  },
  {
   "cell_type": "markdown",
   "metadata": {
    "tags": [
     "gradable"
    ]
   },
   "source": [
    "**Question 3.6:**\n",
    "With reference to the $\\alpha$ and $A$ values for each of the countries you have examined, do they indicate about that country's ability to produce output as measured through GDP? Compare and contrast how each country allocates capital and labor when producing output. How about the role of technology or research and development? 3-4 sentences should suffice."
   ]
  },
  {
   "cell_type": "markdown",
   "metadata": {
    "tags": [
     "gradable"
    ]
   },
   "source": [
    "_Type your answer here, replacing this text._"
   ]
  },
  {
   "cell_type": "markdown",
   "metadata": {},
   "source": [
    "<!-- END QUESTION -->"
   ]
  },
  {
   "cell_type": "markdown",
   "metadata": {},
   "source": [
    "<!-- END QUESTION -->\n",
    "\n",
    "---\n",
    "\n",
    "**Congratulations! You've completed the project!** To double-check your work, the cell below will rerun all of the autograder tests for you."
   ]
  },
  {
   "cell_type": "code",
   "execution_count": null,
   "metadata": {
    "scrolled": true
   },
   "outputs": [],
   "source": [
    "grader.check_all()"
   ]
  },
  {
   "cell_type": "markdown",
   "metadata": {},
   "source": [
    "**Acknowledgements:**\n",
    "We would like to thank Professor Raymond Hawkins for his Economics 100B Problem Set that served as the basis for this assignment."
   ]
  },
  {
   "cell_type": "markdown",
   "metadata": {},
   "source": [
    "## Submission\n",
    "\n",
    "Congrats on finishing a homework notebook! To turn in this homework assignment, click the **Save** icon at the top, **save this file** by going to File > Download As and select **Notebook**; then, run the cell below to generate a PDF of this assignment and download it. Submit this assignment by uploading **BOTH the .ipynb and .pdf files** to Gradescope. *We will be deducting points for submissions that don't include both files or which upload a PDF not generated using the cell below.*"
   ]
  },
  {
   "cell_type": "code",
   "execution_count": null,
   "metadata": {},
   "outputs": [],
   "source": [
    "grader.export(\"proj01.ipynb\")"
   ]
  },
  {
   "cell_type": "markdown",
   "metadata": {},
   "source": [
    " "
   ]
  }
 ],
 "metadata": {
  "kernelspec": {
   "display_name": "Python 3",
   "language": "python",
   "name": "python3"
  },
  "language_info": {
   "codemirror_mode": {
    "name": "ipython",
    "version": 3
   },
   "file_extension": ".py",
   "mimetype": "text/x-python",
   "name": "python",
   "nbconvert_exporter": "python",
   "pygments_lexer": "ipython3",
   "version": "3.6.5"
  },
  "varInspector": {
   "cols": {
    "lenName": 16,
    "lenType": 16,
    "lenVar": 40
   },
   "kernels_config": {
    "python": {
     "delete_cmd_postfix": "",
     "delete_cmd_prefix": "del ",
     "library": "var_list.py",
     "varRefreshCmd": "print(var_dic_list())"
    },
    "r": {
     "delete_cmd_postfix": ") ",
     "delete_cmd_prefix": "rm(",
     "library": "var_list.r",
     "varRefreshCmd": "cat(var_dic_list()) "
    }
   },
   "types_to_exclude": [
    "module",
    "function",
    "builtin_function_or_method",
    "instance",
    "_Feature"
   ],
   "window_display": false
  }
 },
 "nbformat": 4,
 "nbformat_minor": 2
}
