{
 "cells": [
  {
   "cell_type": "markdown",
   "metadata": {},
   "source": [
    "# Charting the Charts\n",
    "## Sahil Chinoy\n",
    "\n",
    "Analysis of the similarity of summer hits for a [New York Times story](https://www.nytimes.com/interactive/2018/08/09/opinion/do-songs-of-the-summer-sound-the-same.html). Billboard data is scraped from Bob Borst's website. Spotify data is from their API.\n",
    "\n",
    "[Here's an interactive visualization](https://observablehq.com/@sahilchinoy/charting-the-charts) (with audio!) of every summer's hits."
   ]
  },
  {
   "cell_type": "code",
   "execution_count": null,
   "metadata": {},
   "outputs": [],
   "source": [
    "import itertools\n",
    "import numpy as np\n",
    "import pandas as pd\n",
    "import seaborn as sns\n",
    "from scipy.stats import zscore\n",
    "import matplotlib.pyplot as plt\n",
    "%matplotlib inline"
   ]
  },
  {
   "cell_type": "code",
   "execution_count": null,
   "metadata": {},
   "outputs": [],
   "source": [
    "# Data is from the Billboard Hot 100, merged with Spotify acoustic characteristics\n",
    "df = pd.read_csv('spotify_data.csv')"
   ]
  },
  {
   "cell_type": "code",
   "execution_count": null,
   "metadata": {},
   "outputs": [],
   "source": [
    "df.head()"
   ]
  },
  {
   "cell_type": "code",
   "execution_count": null,
   "metadata": {},
   "outputs": [],
   "source": [
    "# These are the Spotify acoustic characteristics we will analyze\n",
    "cols = [\n",
    "    'acousticness',\n",
    "    'loudness',\n",
    "    'energy',\n",
    "    'danceability',\n",
    "    'tempo',\n",
    "    'valence',\n",
    "    'instrumentalness',\n",
    "    'liveness',\n",
    "    'speechiness',\n",
    "    'duration_ms'\n",
    "]"
   ]
  },
  {
   "cell_type": "code",
   "execution_count": null,
   "metadata": {
    "scrolled": true
   },
   "outputs": [],
   "source": [
    "df[cols].describe()"
   ]
  },
  {
   "cell_type": "code",
   "execution_count": null,
   "metadata": {},
   "outputs": [],
   "source": [
    "f, axs = plt.subplots(3, 4, figsize=(16, 10))\n",
    "axs = np.ravel(axs)\n",
    "for i, col in enumerate(cols):\n",
    "    sns.distplot(df[col], ax=axs[i])"
   ]
  },
  {
   "cell_type": "code",
   "execution_count": null,
   "metadata": {},
   "outputs": [],
   "source": [
    "z_cols = [col + '_z' for col in cols]"
   ]
  },
  {
   "cell_type": "code",
   "execution_count": null,
   "metadata": {},
   "outputs": [],
   "source": [
    "df[z_cols] = df[cols].apply(zscore)"
   ]
  },
  {
   "cell_type": "markdown",
   "metadata": {},
   "source": [
    "## Over time"
   ]
  },
  {
   "cell_type": "code",
   "execution_count": null,
   "metadata": {
    "scrolled": false
   },
   "outputs": [],
   "source": [
    "# Plot of five-year rolling averages of acoustic characteristics\n",
    "df.groupby('year').mean().rolling(window=5).mean()[z_cols].plot(figsize=(10,6))"
   ]
  },
  {
   "cell_type": "markdown",
   "metadata": {},
   "source": [
    "## Distance metrics"
   ]
  },
  {
   "cell_type": "code",
   "execution_count": null,
   "metadata": {},
   "outputs": [],
   "source": [
    "# Looks like there's a lot of variation in these columns, so let's use them\n",
    "keys = ['acousticness_z', 'loudness_z', 'energy_z', 'danceability_z', 'valence_z']"
   ]
  },
  {
   "cell_type": "code",
   "execution_count": null,
   "metadata": {},
   "outputs": [],
   "source": [
    "def get_vector(a):\n",
    "    return np.array([a[key] for key in keys])"
   ]
  },
  {
   "cell_type": "code",
   "execution_count": null,
   "metadata": {},
   "outputs": [],
   "source": [
    "def euclidean_distance(a, b):\n",
    "    v1 = get_vector(a)\n",
    "    v2 = get_vector(b)\n",
    "    return np.linalg.norm(v1 - v2)"
   ]
  },
  {
   "cell_type": "code",
   "execution_count": null,
   "metadata": {},
   "outputs": [],
   "source": [
    "def cosine_similarity(a, b):\n",
    "    v1 = get_vector(a)\n",
    "    v2 = get_vector(b)\n",
    "    return np.inner(v1, v2) / (np.linalg.norm(v1) * np.linalg.norm(v2))"
   ]
  },
  {
   "cell_type": "code",
   "execution_count": null,
   "metadata": {},
   "outputs": [],
   "source": [
    "# Average distance between two songs for each year, using both metrics\n",
    "records = []\n",
    "for year in range(1970, 2019):\n",
    "    # List of song pairs for this year\n",
    "    combinations = list(itertools.combinations(df[df.year == year].to_dict('records'), 2))\n",
    "    records.append({\n",
    "        'year': year,\n",
    "        'euclidean_dist': np.mean([euclidean_distance(*c) for c in combinations]),\n",
    "        'cosine_similarity': np.mean([cosine_similarity(*c) for c in combinations])\n",
    "    })\n",
    "years = pd.DataFrame.from_records(records)"
   ]
  },
  {
   "cell_type": "code",
   "execution_count": null,
   "metadata": {
    "scrolled": true
   },
   "outputs": [],
   "source": [
    "# Most similar years, by cosine similarity\n",
    "years.sort_values('cosine_similarity', ascending=False).head()"
   ]
  },
  {
   "cell_type": "code",
   "execution_count": null,
   "metadata": {},
   "outputs": [],
   "source": [
    "# Most similar years, by euclidean distance\n",
    "years.sort_values('euclidean_dist').head()"
   ]
  },
  {
   "cell_type": "code",
   "execution_count": null,
   "metadata": {},
   "outputs": [],
   "source": [
    "# Most different years, by cosine similarity\n",
    "years.sort_values('cosine_similarity').head()"
   ]
  },
  {
   "cell_type": "code",
   "execution_count": null,
   "metadata": {},
   "outputs": [],
   "source": [
    "# Most different years, by euclidean distance\n",
    "years.sort_values('euclidean_dist', ascending=False).head()"
   ]
  },
  {
   "cell_type": "code",
   "execution_count": null,
   "metadata": {},
   "outputs": [],
   "source": [
    "# Five-year rolling average\n",
    "rolling = years.rolling(window=5).mean()"
   ]
  },
  {
   "cell_type": "code",
   "execution_count": null,
   "metadata": {
    "scrolled": false
   },
   "outputs": [],
   "source": [
    "rolling.plot(x='year', y='cosine_similarity')"
   ]
  },
  {
   "cell_type": "code",
   "execution_count": null,
   "metadata": {},
   "outputs": [],
   "source": [
    "rolling.plot(x='year', y='euclidean_dist')"
   ]
  },
  {
   "cell_type": "markdown",
   "metadata": {},
   "source": [
    " "
   ]
  }
 ],
 "metadata": {
  "kernelspec": {
   "display_name": "Python 3",
   "language": "python",
   "name": "python3"
  },
  "language_info": {
   "codemirror_mode": {
    "name": "ipython",
    "version": 3
   },
   "file_extension": ".py",
   "mimetype": "text/x-python",
   "name": "python",
   "nbconvert_exporter": "python",
   "pygments_lexer": "ipython3",
   "version": "3.6.9"
  }
 },
 "nbformat": 4,
 "nbformat_minor": 2
}
