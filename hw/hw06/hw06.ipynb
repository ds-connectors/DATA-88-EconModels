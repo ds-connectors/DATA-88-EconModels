{
 "cells": [
  {
   "cell_type": "markdown",
   "metadata": {
    "tags": [
     "ignore"
    ]
   },
   "source": [
    "<table style=\"width: 100%;\" id=\"nb-header\">\n",
    "    <tr style=\"background-color: transparent;\"><td>\n",
    "        <img src=\"https://d8a-88.github.io/econ-fa19/assets/images/blue_text.png\" width=\"250px\" style=\"margin-left: 0;\" />\n",
    "    </td><td>\n",
    "        <p style=\"text-align: right; font-size: 10pt;\"><strong>Economic Models</strong>, Spring 2020<br>\n",
    "            Dr. Eric Van Dusen <br>\n",
    "        Alan Liang <br>\n",
    "        Amal Bhatnagar</p></td></tr>\n",
    "</table>"
   ]
  },
  {
   "cell_type": "markdown",
   "metadata": {},
   "source": [
    "# Homework 6: Modeling Income Inequality"
   ]
  },
  {
   "cell_type": "code",
   "execution_count": null,
   "metadata": {
    "tags": [
     "ignore"
    ]
   },
   "outputs": [],
   "source": [
    "from datascience import *\n",
    "import numpy as np\n",
    "import matplotlib.pyplot as plt\n",
    "from sympy import * \n",
    "from scipy.optimize import minimize\n",
    "import otter\n",
    "grader = otter.Notebook()\n",
    "%matplotlib inline\n",
    "\n",
    "def find_k(lnx, lny):\n",
    "    \"\"\"Determines the best value for k in the simplified Rao and Tam model.\n",
    "    \n",
    "    :param lnx: log of the income percentiles (out of 1)\n",
    "    :param lny: log of the income shares (out of 1)\n",
    "    :returns: the best value for k.\n",
    "    \"\"\"\n",
    "    def obj(k):\n",
    "        return np.mean(np.abs(lny - k*lnx))\n",
    "    res = minimize(obj, 2)\n",
    "    return res.x[0]"
   ]
  },
  {
   "cell_type": "markdown",
   "metadata": {
    "tags": [
     "ignore"
    ]
   },
   "source": [
    "## The Lorenz Curve\n",
    "There are many mathematical models used to model the Lorenz curve. For this homework, we will work with the simplified Rao-Tam Lorenz curve<sup>1</sup>, as defined by:\n",
    "$$L(x)=x^k,\\quad \\text{where} \\; k>1$$"
   ]
  },
  {
   "cell_type": "markdown",
   "metadata": {},
   "source": [
    "<!-- BEGIN QUESTION -->\n",
    "\n",
    "**Question 1:** Show that the simplified Rao-Tam Lorenz curve model satisfies the conditions for a Lorenz curve. "
   ]
  },
  {
   "cell_type": "markdown",
   "metadata": {},
   "source": [
    "_Type your answer here, replacing this text._"
   ]
  },
  {
   "cell_type": "markdown",
   "metadata": {
    "tags": [
     "ignore"
    ]
   },
   "source": [
    "<!-- END QUESTION -->\n",
    "\n",
    "### Fitting the Lorenz Curve to Data\n",
    "Now, let's try to fit this model to the existing US data. From the 2018 census data on *Income and Poverty in the United States*<sup>2</sup> published by the US census, we get:"
   ]
  },
  {
   "cell_type": "code",
   "execution_count": null,
   "metadata": {},
   "outputs": [],
   "source": [
    "us = Table().read_table(\"us_income.csv\")\n",
    "us"
   ]
  },
  {
   "cell_type": "markdown",
   "metadata": {
    "tags": [
     "ignore"
    ]
   },
   "source": [
    "For each row of the table, `income_share` shows the proportion of total income an `income_group` owns. For example, the richest 20% (5th quintile) earned 51.9% of the total national income."
   ]
  },
  {
   "cell_type": "markdown",
   "metadata": {
    "tags": [
     "ignore"
    ]
   },
   "source": [
    "**Question 2.1:**\n",
    "Let's convert this table to points on the Lorenz curve. Recall that the Lorenz curve's y-axis is the cumulative income share: at the 20th percentile, the total income share is 3.1%, while at the 40th percentile, the total income share is 8.3% + 3.1% = 12.4%. \n",
    "\n",
    "*Hint: use `np.cumsum`.*"
   ]
  },
  {
   "cell_type": "code",
   "execution_count": null,
   "metadata": {},
   "outputs": [],
   "source": [
    "income_group = ...\n",
    "cum_income_share = ...\n",
    "\n",
    "us_cumulative = Table().with_columns(\"income_percentile\", income_group, \"cum_income_share\", cum_income_share)\n",
    "us_cumulative"
   ]
  },
  {
   "cell_type": "code",
   "execution_count": null,
   "metadata": {
    "tags": [
     "ignore"
    ]
   },
   "outputs": [],
   "source": [
    "grader.check(\"q2_1\")"
   ]
  },
  {
   "cell_type": "markdown",
   "metadata": {
    "tags": [
     "ignore"
    ]
   },
   "source": [
    "**Question 2.2:**\n",
    "In addition, the US census bureau reported that the top 5 percent of income earners' income share was 23.1%. What is the corresponding $(x,y)$ point to this data point? \n"
   ]
  },
  {
   "cell_type": "code",
   "execution_count": null,
   "metadata": {},
   "outputs": [],
   "source": [
    "x_val = ...\n",
    "y_val = ..."
   ]
  },
  {
   "cell_type": "code",
   "execution_count": null,
   "metadata": {},
   "outputs": [],
   "source": [
    "grader.check(\"q2_2\")"
   ]
  },
  {
   "cell_type": "markdown",
   "metadata": {
    "tags": [
     "ignore"
    ]
   },
   "source": [
    "**Question 2.3:**\n",
    "Add this pair of coordinates to our table, by appending `income_group` and `cum_income_share` with `x` and `y`."
   ]
  },
  {
   "cell_type": "code",
   "execution_count": null,
   "metadata": {},
   "outputs": [],
   "source": [
    "income_group_with_x = ...\n",
    "cum_income_share_with_y = ...\n",
    "\n",
    "us_cumulative_extended = Table().with_columns(\n",
    "    \"income_percentile\", income_group_with_x, \n",
    "    \"cum_income_share\", cum_income_share_with_y)\n",
    "us_cumulative_extended"
   ]
  },
  {
   "cell_type": "code",
   "execution_count": null,
   "metadata": {
    "scrolled": true
   },
   "outputs": [],
   "source": [
    "grader.check(\"q2_3\")"
   ]
  },
  {
   "cell_type": "markdown",
   "metadata": {},
   "source": [
    "<!-- BEGIN QUESTION -->\n",
    "\n",
    "**Question 2.4:**\n",
    "To more easily fit our data, we will take the natural log of the curve to make it linear. Expres this transformed equation in $\\LaTeX$. (Your answer should be in the form $\\ln{y} = \\_\\_\\_$)"
   ]
  },
  {
   "cell_type": "markdown",
   "metadata": {},
   "source": [
    "_Type your answer here, replacing this text._"
   ]
  },
  {
   "cell_type": "markdown",
   "metadata": {
    "tags": [
     "ignore"
    ]
   },
   "source": [
    "<!-- END QUESTION -->\n",
    "\n",
    "**Question 2.5:**\n",
    "Transform the data and append it to the new table. Use the [`np.log`](https://docs.scipy.org/doc/numpy/reference/generated/numpy.log.html) function."
   ]
  },
  {
   "cell_type": "code",
   "execution_count": null,
   "metadata": {},
   "outputs": [],
   "source": [
    "log_x = ...\n",
    "log_y = ...\n",
    "us_log = Table().with_columns(\"log_income_percentile\", log_x, \"log_cum_income_share\", log_y)\n",
    "us_log"
   ]
  },
  {
   "cell_type": "code",
   "execution_count": null,
   "metadata": {},
   "outputs": [],
   "source": [
    "grader.check(\"q2_5\")"
   ]
  },
  {
   "cell_type": "markdown",
   "metadata": {
    "tags": [
     "ignore"
    ]
   },
   "source": [
    "<!-- BEGIN QUESTION -->\n",
    "\n",
    "**Question 2.6:**\n",
    "Create a scatter plot of this table. Add a line of best fit by setting the `fit_line` parameter to be `True`."
   ]
  },
  {
   "cell_type": "code",
   "execution_count": null,
   "metadata": {},
   "outputs": [],
   "source": [
    "us_log.scatter(...)"
   ]
  },
  {
   "cell_type": "markdown",
   "metadata": {
    "tags": [
     "ignore"
    ]
   },
   "source": [
    "<!-- END QUESTION -->\n",
    "\n",
    "**Question 2.7:**\n",
    "Now it's time to find $k$. Although this function is linear, it does not have an intercept so that the traditional `np.polyfit` method you've seen in previous lectures will not work. Instead, use the custom `find_k` function provided, which will find the best value of $k$. `find_k` takes two arguments: the array $\\ln x$ and the array $\\ln y$."
   ]
  },
  {
   "cell_type": "code",
   "execution_count": null,
   "metadata": {},
   "outputs": [],
   "source": [
    "k_hat = find_k(..., ...)\n",
    "k_hat"
   ]
  },
  {
   "cell_type": "code",
   "execution_count": null,
   "metadata": {},
   "outputs": [],
   "source": [
    "grader.check(\"q2_7\")"
   ]
  },
  {
   "cell_type": "markdown",
   "metadata": {
    "tags": [
     "ignore"
    ]
   },
   "source": [
    "### Gini Coefficients"
   ]
  },
  {
   "cell_type": "markdown",
   "metadata": {
    "tags": [
     "ignore"
    ]
   },
   "source": [
    "Now that we have found $\\hat{k}$, let's try to determine its theoretical Gini coefficient. Recall that: \n",
    "\n",
    "$$\n",
    "\\begin{align*}\n",
    "\\text{Gini} &= \\frac{\\text{Area between line of equality and Lorenz Curve}}{\\text{Area under line of equality}} \\\\\n",
    "&= \\frac{\\int_0^1 x \\text{d}x - \\int_0^1 L(x) \\text{d}x}{\\int_0^1 x \\text{d}x} \\\\ \n",
    "&= 1 - 2\\int_0^1 L(x) \\text{d}x\n",
    "\\end{align*}$$"
   ]
  },
  {
   "cell_type": "markdown",
   "metadata": {
    "tags": [
     "ignore"
    ]
   },
   "source": [
    "**Question 3.1:**\n",
    "Calculate the gini coefficient using the formula from the last line above. We will use SymPy to help us integrate the $\\int_0^1 L(x) \\text{d}x$. \n"
   ]
  },
  {
   "cell_type": "code",
   "execution_count": null,
   "metadata": {},
   "outputs": [],
   "source": [
    "x = ...\n",
    "area_under_lorenz = ...\n",
    "gini = ...\n",
    "gini"
   ]
  },
  {
   "cell_type": "code",
   "execution_count": null,
   "metadata": {},
   "outputs": [],
   "source": [
    "grader.check(\"q3_1\")"
   ]
  },
  {
   "cell_type": "markdown",
   "metadata": {},
   "source": [
    "<!-- BEGIN QUESTION -->\n",
    "\n",
    "**Question 3.2:**\n",
    "The actual Gini coefficient in 2018 was reported to be 0.486. Is your result different than the reported value? What are some sources of potential error?"
   ]
  },
  {
   "cell_type": "markdown",
   "metadata": {},
   "source": [
    "_Type your answer here, replacing this text._"
   ]
  },
  {
   "cell_type": "markdown",
   "metadata": {},
   "source": [
    "<!-- END QUESTION -->"
   ]
  },
  {
   "cell_type": "markdown",
   "metadata": {},
   "source": [
    "## Applying to Another Country\n",
    "Now that you've calculuated the Gini coefficient for the US using the simplified Rao and Tam model, let's redo this for another country. \n",
    "\n",
    "The default country to use is Norway, which can be found in the `norway_income.csv` file. \n",
    " \n",
    "You can also receive a bonus point if you pick any other country and look online for their income distribution data. For example, European countries can be found [here](https://appsso.eurostat.ec.europa.eu/nui/show.do?dataset=ilc_di01&lang=en). Make sure to change the *income and living conditions indicator* to *Share of national equivalised income*, and use the 1st to 5th quintiles only under *Quantile* (do not include the top 5% income share as we did above). You do not need to read in a csv for this part; feel free to directly copy over the values by hand from the data source.\n",
    "\n",
    "\n",
    "Make sure to use the latest year's data if possible and **indicate in your explanation which country you picked.**"
   ]
  },
  {
   "cell_type": "code",
   "execution_count": null,
   "metadata": {
    "tags": [
     "include"
    ]
   },
   "outputs": [],
   "source": [
    "my_country = Table().read_table(\"norway_income.csv\")\n",
    "my_country"
   ]
  },
  {
   "cell_type": "markdown",
   "metadata": {},
   "source": [
    "<!-- BEGIN QUESTION -->\n",
    "\n",
    "**Question 4:**\n",
    "What is the actual Gini coefficient of your chosen country for its most recent year? Include a scatter plot of your logged data. How do your results compare, and does it perhaps suggest anything about our model?\n",
    "\n",
    "**Do not overwrite any variables from previous questions** (except `x`). If you overwrite anything, some tests may fail when your assignment is graded."
   ]
  },
  {
   "cell_type": "code",
   "execution_count": null,
   "metadata": {},
   "outputs": [],
   "source": [
    "income_group_my_country = ...\n",
    "cum_income_share_my_country = ...\n",
    "\n",
    "my_country_cumulative = Table().with_columns(\n",
    "    \"income_percentile\", income_group_my_country, \n",
    "    \"cum_income_share\", cum_income_share_my_country\n",
    ")\n",
    "\n",
    "log_x_my_country = ...\n",
    "log_y_my_country = ...\n",
    "\n",
    "my_country_log = Table().with_columns(\n",
    "    \"log_income_percentile\", log_x_my_country, \n",
    "    \"log_cum_income_share\", log_y_my_country\n",
    ")\n",
    "\n",
    "my_country_log.scatter(...)\n",
    "\n",
    "k_hat_my_country = find_k(..., ...)\n",
    "\n",
    "x = ...\n",
    "gini_my_country = ...\n",
    "gini_my_country"
   ]
  },
  {
   "cell_type": "markdown",
   "metadata": {},
   "source": [
    "_Type your answer here, replacing this text._"
   ]
  },
  {
   "cell_type": "markdown",
   "metadata": {},
   "source": [
    "<!-- END QUESTION -->\n",
    "\n",
    "---\n",
    "\n",
    "Congrats on finishing a notebook! To double-check your work, the cell below will rerun all of the autograder tests for you."
   ]
  },
  {
   "cell_type": "code",
   "execution_count": null,
   "metadata": {
    "scrolled": false
   },
   "outputs": [],
   "source": [
    "grader.check_all()"
   ]
  },
  {
   "cell_type": "markdown",
   "metadata": {
    "tags": [
     "ignore"
    ]
   },
   "source": [
    "\n",
    "**References:**\n",
    "1. Rao & Tam curve https://www.tandfonline.com/doi/ref/10.1080/02664768700000032\n",
    "2. Income and Poverty in the US https://www.census.gov/library/publications/2019/demo/p60-266.html"
   ]
  },
  {
   "cell_type": "markdown",
   "metadata": {},
   "source": [
    "## Submission\n",
    "\n",
    "Congrats on finishing a homework notebook! To turn in this homework assignment, click the **Save** icon at the top, **save this file** by going to File > Download As and select **Notebook**; then, run the cell below to generate a PDF of this assignment and download it. Submit this assignment by uploading **BOTH the .ipynb and .pdf files** to Gradescope."
   ]
  },
  {
   "cell_type": "code",
   "execution_count": null,
   "metadata": {},
   "outputs": [],
   "source": [
    "grader.export(\"hw06.ipynb\")"
   ]
  },
  {
   "cell_type": "markdown",
   "metadata": {},
   "source": [
    " "
   ]
  }
 ],
 "metadata": {
  "kernelspec": {
   "display_name": "Python 3",
   "language": "python",
   "name": "python3"
  },
  "language_info": {
   "codemirror_mode": {
    "name": "ipython",
    "version": 3
   },
   "file_extension": ".py",
   "mimetype": "text/x-python",
   "name": "python",
   "nbconvert_exporter": "python",
   "pygments_lexer": "ipython3",
   "version": "3.6.5"
  },
  "varInspector": {
   "cols": {
    "lenName": 16,
    "lenType": 16,
    "lenVar": 40
   },
   "kernels_config": {
    "python": {
     "delete_cmd_postfix": "",
     "delete_cmd_prefix": "del ",
     "library": "var_list.py",
     "varRefreshCmd": "print(var_dic_list())"
    },
    "r": {
     "delete_cmd_postfix": ") ",
     "delete_cmd_prefix": "rm(",
     "library": "var_list.r",
     "varRefreshCmd": "cat(var_dic_list()) "
    }
   },
   "types_to_exclude": [
    "module",
    "function",
    "builtin_function_or_method",
    "instance",
    "_Feature"
   ],
   "window_display": false
  }
 },
 "nbformat": 4,
 "nbformat_minor": 2
}
