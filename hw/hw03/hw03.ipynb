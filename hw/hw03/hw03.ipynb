{
 "cells": [
  {
   "cell_type": "markdown",
   "metadata": {},
   "source": [
    "<table style=\"width: 100%;\">\n",
    "    <tr style=\"background-color: transparent;\"><td>\n",
    "        <img src=\"https://d8a-88.github.io/econ-fa19/assets/images/blue_text.png\" width=\"250px\" style=\"margin-left: 0;\" />\n",
    "    </td><td>\n",
    "        <p style=\"text-align: right; font-size: 12pt;\"><strong>Economic Models</strong>, Spring 2020<br>\n",
    "            Dr. Eric Van Dusen<br>\n",
    "        Alan Liang<br>\n",
    "        Umar Maniku<br></p></td></tr>\n",
    "</table>"
   ]
  },
  {
   "cell_type": "markdown",
   "metadata": {},
   "source": [
    "<!-- BEGIN QUESTION -->\n",
    "\n",
    "# Homework 3: Taxes, Government Intervention, and Welfare\n",
    "\n",
    "<!-- END QUESTION -->"
   ]
  },
  {
   "cell_type": "code",
   "execution_count": 5,
   "metadata": {},
   "outputs": [],
   "source": [
    "from datascience import *\n",
    "import numpy as np\n",
    "import matplotlib.pyplot as plt\n",
    "import sympy\n",
    "solve = lambda x,y: sympy.solve(x-y)[0] if len(sympy.solve(x-y))==1 else \"Not Single Solution\"\n",
    "%matplotlib inline\n",
    "import otter\n",
    "grader = otter.Notebook()"
   ]
  },
  {
   "cell_type": "markdown",
   "metadata": {},
   "source": [
    "## Question 1: Beer Taxes: an Empirical Study"
   ]
  },
  {
   "cell_type": "markdown",
   "metadata": {},
   "source": [
    "Many states in the United States impose an excise and an ad valorem tax on the consumption of beer. According to the Beer Institute, “taxes are the single most expensive ingredient in beer, costing more than the labor and raw materials combined.” In fact, approximately 40 percent of the retail price of beer is dedicated toward covering all the applicable taxes. \n",
    "\n",
    "Throughout this exercise, you will investigate how salient consumers are to changes in taxes on beer. Typically, the ad valorem tax on beer is not reflected in the label price, like typical sales taxes in the US. However, the excise tax is included in the label price. \n",
    "\n",
    "This study on consumer salience towards taxes is taken from [_Salience and Taxation: Theory and Evidence_](https://www.aeaweb.org/articles?id=10.1257/aer.99.4.1145) by Chetty, Looney, and Kroft (AER 2010). "
   ]
  },
  {
   "cell_type": "markdown",
   "metadata": {},
   "source": [
    "<!-- BEGIN QUESTION -->\n",
    "\n",
    "**Question 1.1:**\n",
    "In the paper *Salience and Taxation: Theory and Evidence*, the authors also investigate consumer salience towards taxes through a field experiment by posting tax-inclusive price tags, and find that doing so reduces demand by 8 percent. What does this imply about consumer salience?"
   ]
  },
  {
   "cell_type": "markdown",
   "metadata": {},
   "source": [
    "_Write your answer here, replacing this text_"
   ]
  },
  {
   "cell_type": "markdown",
   "metadata": {},
   "source": [
    "<!-- END QUESTION -->\n",
    "\n",
    "Let's load in a table about beer sales across the 50 states from 1970 to 2003.\n",
    "\n",
    "The table `beer_raw` includes 7 columns:\n",
    "- `st_name`: the state abbreviation\n",
    "- `year`: the year the data was recorded\n",
    "- `c_beer`: the quantity of beer consumed in gallons\n",
    "- `beer_tax`: the ad valorem tax as a percentage\n",
    "- `btax_dollars`: the excise tax, represented in dollars per case of beer (24 cans)\n",
    "- `population`: the population of the state (in thousands)\n",
    "- `salestax`: the sales tax percentage"
   ]
  },
  {
   "cell_type": "code",
   "execution_count": 6,
   "metadata": {
    "scrolled": true
   },
   "outputs": [
    {
     "data": {
      "text/html": [
       "<table border=\"1\" class=\"dataframe\">\n",
       "    <thead>\n",
       "        <tr>\n",
       "            <th>st_name</th> <th>year</th> <th>c_beer</th> <th>beer_tax</th> <th>btax_dollars</th> <th>population</th> <th>salestax</th>\n",
       "        </tr>\n",
       "    </thead>\n",
       "    <tbody>\n",
       "        <tr>\n",
       "            <td>AL     </td> <td>1970</td> <td>33098 </td> <td>72.3411 </td> <td>2.37        </td> <td>3450      </td> <td>4       </td>\n",
       "        </tr>\n",
       "        <tr>\n",
       "            <td>AL     </td> <td>1971</td> <td>37598 </td> <td>69.3046 </td> <td>2.37        </td> <td>3497      </td> <td>4       </td>\n",
       "        </tr>\n",
       "        <tr>\n",
       "            <td>AL     </td> <td>1972</td> <td>42719 </td> <td>67.1492 </td> <td>2.37        </td> <td>3539      </td> <td>4       </td>\n",
       "        </tr>\n",
       "        <tr>\n",
       "            <td>AL     </td> <td>1973</td> <td>46203 </td> <td>63.217  </td> <td>2.37        </td> <td>3580      </td> <td>4       </td>\n",
       "        </tr>\n",
       "        <tr>\n",
       "            <td>AL     </td> <td>1974</td> <td>49769 </td> <td>56.9338 </td> <td>2.37        </td> <td>3627      </td> <td>4       </td>\n",
       "        </tr>\n",
       "        <tr>\n",
       "            <td>AL     </td> <td>1975</td> <td>53236 </td> <td>52.1717 </td> <td>2.37        </td> <td>3679      </td> <td>4       </td>\n",
       "        </tr>\n",
       "        <tr>\n",
       "            <td>AL     </td> <td>1976</td> <td>54992 </td> <td>49.3293 </td> <td>2.37        </td> <td>3735      </td> <td>4       </td>\n",
       "        </tr>\n",
       "        <tr>\n",
       "            <td>AL     </td> <td>1977</td> <td>62317 </td> <td>46.3174 </td> <td>2.37        </td> <td>3780      </td> <td>4       </td>\n",
       "        </tr>\n",
       "        <tr>\n",
       "            <td>AL     </td> <td>1978</td> <td>62725 </td> <td>43.0496 </td> <td>2.37        </td> <td>3832      </td> <td>4       </td>\n",
       "        </tr>\n",
       "        <tr>\n",
       "            <td>AL     </td> <td>1979</td> <td>63999 </td> <td>38.6617 </td> <td>2.37        </td> <td>3866      </td> <td>4       </td>\n",
       "        </tr>\n",
       "    </tbody>\n",
       "</table>\n",
       "<p>... (1698 rows omitted)</p>"
      ],
      "text/plain": [
       "st_name | year | c_beer | beer_tax | btax_dollars | population | salestax\n",
       "AL      | 1970 | 33098  | 72.3411  | 2.37         | 3450       | 4\n",
       "AL      | 1971 | 37598  | 69.3046  | 2.37         | 3497       | 4\n",
       "AL      | 1972 | 42719  | 67.1492  | 2.37         | 3539       | 4\n",
       "AL      | 1973 | 46203  | 63.217   | 2.37         | 3580       | 4\n",
       "AL      | 1974 | 49769  | 56.9338  | 2.37         | 3627       | 4\n",
       "AL      | 1975 | 53236  | 52.1717  | 2.37         | 3679       | 4\n",
       "AL      | 1976 | 54992  | 49.3293  | 2.37         | 3735       | 4\n",
       "AL      | 1977 | 62317  | 46.3174  | 2.37         | 3780       | 4\n",
       "AL      | 1978 | 62725  | 43.0496  | 2.37         | 3832       | 4\n",
       "AL      | 1979 | 63999  | 38.6617  | 2.37         | 3866       | 4\n",
       "... (1698 rows omitted)"
      ]
     },
     "execution_count": 6,
     "metadata": {},
     "output_type": "execute_result"
    }
   ],
   "source": [
    "beer_raw = Table.read_table(\"beer_tax.csv\").drop(\"Unnamed: 0\")\n",
    "beer_raw"
   ]
  },
  {
   "cell_type": "markdown",
   "metadata": {},
   "source": [
    "**Question 1.2:**\n",
    "Consumption across states vary widely due to differences in population. Let's normalize this by adding a column called `pc_beer`, representing the per capita (per person) consumption of beer in each year for each state."
   ]
  },
  {
   "cell_type": "code",
   "execution_count": 12,
   "metadata": {},
   "outputs": [],
   "source": [
    "pc_beer_column = ...\n",
    "beer = ..."
   ]
  },
  {
   "cell_type": "code",
   "execution_count": 13,
   "metadata": {
    "scrolled": false
   },
   "outputs": [
    {
     "data": {
      "text/html": [
       "\n",
       "    \n",
       "    \n",
       "        <p>0 of 1 tests passed</p>\n",
       "        \n",
       "        \n",
       "        <p> <strong>Tests failed: </strong>\n",
       "            <ul>\n",
       "            \n",
       "                <li> \n",
       "    <p><strong style='color: red;'>./tests/q1_2.py</strong></p>\n",
       "    <p><strong>Test code:</strong><pre><div class=\"highlight\" style=\"background: #f8f8f8\"><pre style=\"line-height: 125%\"><span></span><span style=\"color: #000080; font-weight: bold\">&gt;&gt;&gt; </span><span style=\"color: #008000\">len</span>(beer) <span style=\"color: #666666\">==</span> <span style=\"color: #666666\">8</span>\n",
       "<span style=\"color: #888888\">True</span>\n",
       "</pre></div>\n",
       "</pre></p>\n",
       "    <p><strong>Test result:</strong><pre>Trying:\n",
       "    len(beer) == 8\n",
       "Expecting:\n",
       "    True\n",
       "**********************************************************************\n",
       "Line 2, in ./tests/q1_2.py 0\n",
       "Failed example:\n",
       "    len(beer) == 8\n",
       "Exception raised:\n",
       "    Traceback (most recent call last):\n",
       "      File \"/usr/lib/python3.6/doctest.py\", line 1330, in __run\n",
       "        compileflags, 1), test.globs)\n",
       "      File \"<doctest ./tests/q1_2.py 0[0]>\", line 1, in <module>\n",
       "        len(beer) == 8\n",
       "    TypeError: object of type 'ellipsis' has no len()\n",
       "</pre></p>\n",
       "     </li>\n",
       "            \n",
       "            </ul>\n",
       "        \n",
       "    \n",
       "    "
      ],
      "text/plain": [
       "<otter.gofer.OKTestsResult at 0x7ff097293550>"
      ]
     },
     "execution_count": 13,
     "metadata": {},
     "output_type": "execute_result"
    }
   ],
   "source": [
    "grader.check(\"q1_2\")"
   ]
  },
  {
   "cell_type": "markdown",
   "metadata": {},
   "source": [
    "**Question 1.3:**\n",
    "For the rest of this question, we will restrict our analysis to only one state - California. Assign `beer_state` to a filtered table with only data describing California."
   ]
  },
  {
   "cell_type": "code",
   "execution_count": null,
   "metadata": {},
   "outputs": [],
   "source": [
    "beer_state = ...\n",
    "beer_state"
   ]
  },
  {
   "cell_type": "code",
   "execution_count": null,
   "metadata": {},
   "outputs": [],
   "source": [
    "grader.check(\"q1_3\")"
   ]
  },
  {
   "cell_type": "markdown",
   "metadata": {},
   "source": [
    "**Question 1.4:**\n",
    "To determine consumers' sensitivity to a change in taxes, we need to determine the changes in ad valorem taxes between each year and the corresponding change in the per capita beer consumption. Construct a new table `beer_state_changes` with these  2 columns: `tax_diff` and `consumption_diff`.\n",
    "\n",
    "_Hint:_ Use `np.diff`."
   ]
  },
  {
   "cell_type": "code",
   "execution_count": null,
   "metadata": {},
   "outputs": [],
   "source": [
    "tax_diff = ...\n",
    "per_capita_consumption_diff = ...\n",
    "beer_state_changes = ...\n",
    "beer_state_changes"
   ]
  },
  {
   "cell_type": "code",
   "execution_count": null,
   "metadata": {},
   "outputs": [],
   "source": [
    "grader.check(\"q1_4\")"
   ]
  },
  {
   "cell_type": "markdown",
   "metadata": {},
   "source": [
    "**Question 1.5:**\n",
    "Now we are ready to plot our results. What kind of graph will be most appropriate to denote the relationship between changes in taxes and changes in consumption? Assign `q5` to your choice.\n",
    "\n",
    "1. Line plot\n",
    "2. Histogram\n",
    "3. Scatter plot\n",
    "4. Bar chart"
   ]
  },
  {
   "cell_type": "code",
   "execution_count": null,
   "metadata": {},
   "outputs": [],
   "source": [
    "q1_5 = ..."
   ]
  },
  {
   "cell_type": "code",
   "execution_count": null,
   "metadata": {},
   "outputs": [],
   "source": [
    "grader.check(\"q1_5\")"
   ]
  },
  {
   "cell_type": "markdown",
   "metadata": {},
   "source": [
    "<!-- BEGIN QUESTION -->\n",
    "\n",
    "**Question 1.6:**\n",
    "Plot the results from `beer_state_changes`. What is the relationship between changes in taxes and changes in per capita beer consumption?"
   ]
  },
  {
   "cell_type": "code",
   "execution_count": null,
   "metadata": {
    "scrolled": true
   },
   "outputs": [],
   "source": [
    "..."
   ]
  },
  {
   "cell_type": "markdown",
   "metadata": {},
   "source": [
    "_Write your answer here, replacing this text_"
   ]
  },
  {
   "cell_type": "markdown",
   "metadata": {},
   "source": [
    "<!-- END QUESTION -->\n",
    "\n",
    "We will conduct a linear regression to determine the slope and intercept."
   ]
  },
  {
   "cell_type": "code",
   "execution_count": null,
   "metadata": {},
   "outputs": [],
   "source": [
    "beer_state_changes.scatter(0,1, fit_line=True)"
   ]
  },
  {
   "cell_type": "markdown",
   "metadata": {},
   "source": [
    "What are the values of the intercept and slope terms? \n",
    "\n",
    "To answer this, we can use `np.polyfit` with degree 1, which returns the slope and intercept terms in that order."
   ]
  },
  {
   "cell_type": "code",
   "execution_count": null,
   "metadata": {},
   "outputs": [],
   "source": [
    "np.polyfit(x = beer_state_changes.column(\"tax_diff\"), y=beer_state_changes.column(\"consumption_diff\"), deg=1)"
   ]
  },
  {
   "cell_type": "markdown",
   "metadata": {},
   "source": [
    "<!-- BEGIN QUESTION -->\n",
    "\n",
    "**Question 1.7:**\n",
    "Interpret the slope and intercept values in the previous part in context of this dataset."
   ]
  },
  {
   "cell_type": "markdown",
   "metadata": {},
   "source": [
    "_Write your answer here, replacing this text_"
   ]
  },
  {
   "cell_type": "markdown",
   "metadata": {},
   "source": [
    "**Question 1.8:**\n",
    "Now let's see if the phenomenon applies to all states, across all years.\n",
    "\n",
    "<!-- END QUESTION -->"
   ]
  },
  {
   "cell_type": "code",
   "execution_count": null,
   "metadata": {},
   "outputs": [],
   "source": [
    "# You do not have to understand how the code below works, but it works very similarly to what you've done above!\n",
    "import pandas as pd\n",
    "data = pd.read_stata(\"alcohol_data.dta\")\n",
    "data = data[[\"st_name\", \"year\", \"c_beer\", \"population\", \"beer_tax\", \"salestax\"]]\n",
    "data['beer_pc'] = data.c_beer / data.population\n",
    "data = data.dropna(axis = 0)\n",
    "def state_group(df):\n",
    "    tax_diff = np.diff(df[\"beer_tax\"])\n",
    "    cons_diff = np.diff(df[\"beer_pc\"])\n",
    "    return pd.DataFrame({\"tax_diff\": tax_diff, \"cons_diff\": cons_diff})\n",
    "differences = data.groupby(\"st_name\").apply(state_group)\n",
    "diff = Table.from_df(differences)\n",
    "diff.scatter(0, 1)"
   ]
  },
  {
   "cell_type": "markdown",
   "metadata": {},
   "source": [
    "The data seem to be a little messy, but a downward sloping trend seems to appear. Nonetheless, let's try to clean it up a little. \n",
    "\n",
    "We will aggregate the data based on state so that each state will be one data point. Each point represents a state's average change in taxes and consumption across the years."
   ]
  },
  {
   "cell_type": "code",
   "execution_count": null,
   "metadata": {},
   "outputs": [],
   "source": [
    "# You also do not have to understand how the code below works.\n",
    "def state_group(df):\n",
    "    tax_diff = np.mean(np.diff(df[\"beer_tax\"]))\n",
    "    cons_diff = np.mean(np.diff(df[\"beer_pc\"]))\n",
    "    return pd.DataFrame({\"tax_diff\": tax_diff, \"cons_diff\": cons_diff}, index=[0])\n",
    "differences = data.groupby(\"st_name\").apply(state_group)\n",
    "diff = Table.from_df(differences)\n",
    "diff.scatter(0, 1)"
   ]
  },
  {
   "cell_type": "markdown",
   "metadata": {},
   "source": [
    "<!-- BEGIN QUESTION -->\n",
    "\n",
    "Which graph better represents the relationship between changes in taxes and beer consumption? Which graph do you prefer? Why?"
   ]
  },
  {
   "cell_type": "markdown",
   "metadata": {},
   "source": [
    "_Write your answer here, replacing this text_"
   ]
  },
  {
   "cell_type": "markdown",
   "metadata": {},
   "source": [
    "**Qustion 1.9:**\n",
    "Up until now, we've been examining the effect of changes in the ad valorem tax on beer consumption. But what about the excise tax? Unlike ad valorem taxes, an excise tax is included as part of the label price.\n",
    "\n",
    "Intuitively, do you expect consumers be more elastic towards changes in the ad valorem tax or excise tax? Why?"
   ]
  },
  {
   "cell_type": "markdown",
   "metadata": {},
   "source": [
    "_Write your answer here, replacing this text_"
   ]
  },
  {
   "cell_type": "markdown",
   "metadata": {},
   "source": [
    "<!-- END QUESTION -->\n",
    "\n",
    "Let's put this theory to the test. Each row in the table `excise_changes` displays an event in which there was a change in the excise tax, and its corresponding change in beer consumption. For example, from the table we can see that Arkansas has historically changed its beer excise tax three times. "
   ]
  },
  {
   "cell_type": "code",
   "execution_count": null,
   "metadata": {},
   "outputs": [],
   "source": [
    "# You do not need to understand how this code works.\n",
    "excise_changes = pd.DataFrame({\"st_name\":[], \"excise_tax_change\":[], \"c_beer_change\":[]})\n",
    "beer_df = beer.to_df()\n",
    "for row_index in range(beer_df.shape[0]):\n",
    "    if row_index == 0:\n",
    "        continue\n",
    "    if beer_df.iloc[row_index, 4] != beer_df.iloc[row_index-1, 4] and beer_df.iloc[row_index, 0] == beer_df.iloc[row_index-1, 0]:\n",
    "        excise_changes = excise_changes.append({\"st_name\": beer_df.iloc[row_index, 0], \n",
    "                                                \"excise_tax_change\": beer_df.iloc[row_index, 4] - beer_df.iloc[row_index-1, 4],\n",
    "                                                \"c_beer_change\": beer_df.iloc[row_index, 7] - beer_df.iloc[row_index-1, 7]}, ignore_index=True)\n",
    "excise_changes = Table.from_df(excise_changes[[\"st_name\", \"excise_tax_change\", \"c_beer_change\"]])\n",
    "excise_changes"
   ]
  },
  {
   "cell_type": "code",
   "execution_count": null,
   "metadata": {},
   "outputs": [],
   "source": [
    "excise_changes.scatter(1,2,fit_line=True)"
   ]
  },
  {
   "cell_type": "markdown",
   "metadata": {},
   "source": [
    "<!-- END QUESTION -->\n",
    "\n",
    "**Question 1.10:**\n",
    "Using `np.polyfit`, determine the slope and intercept terms for this regression. Then, interpret the results.\n",
    "\n",
    "*Hint:* Be aware of the units of the excise tax!"
   ]
  },
  {
   "cell_type": "code",
   "execution_count": null,
   "metadata": {},
   "outputs": [],
   "source": [
    "coeffs = np.polyfit(x = ..., y = ..., deg = ...)\n",
    "coeffs"
   ]
  },
  {
   "cell_type": "markdown",
   "metadata": {},
   "source": [
    "_Write your answer here, replacing this text_\n"
   ]
  },
  {
   "cell_type": "code",
   "execution_count": null,
   "metadata": {},
   "outputs": [],
   "source": [
    "grader.check(\"q1_10\")"
   ]
  },
  {
   "cell_type": "markdown",
   "metadata": {},
   "source": [
    "<!-- BEGIN QUESTION -->\n",
    "\n",
    "**Question 1.11:**\n",
    "We are unable to do a direct comparison between the slopes because of the different units involved for the slope. As a result, we will have to adjust the units. \n",
    "\n",
    "Currently, a case of beer costs around 24 dollars, which means that a 1 dollar change in the excise tax corresponds to a $\\frac{1}{24}=4.2$ percent change. Convert the slope due to a dollar change in the excise tax to be in reference to a percent change in the excise tax, based on the assumption that a case of beer is 24 dollars. Compare this value to the slope due to the ad valorem tax.\n",
    "\n"
   ]
  },
  {
   "cell_type": "markdown",
   "metadata": {},
   "source": [
    "_Write your answer here, replacing this text_"
   ]
  },
  {
   "cell_type": "markdown",
   "metadata": {},
   "source": [
    "**Question 1.12:**\n",
    "Is this result in line with what you had expected in question 2.9? Why or why not? What could be some potential sources of error?"
   ]
  },
  {
   "cell_type": "markdown",
   "metadata": {},
   "source": [
    "_Write your answer here, replacing this text_\n"
   ]
  },
  {
   "cell_type": "markdown",
   "metadata": {},
   "source": [
    "<!-- END QUESTION -->"
   ]
  },
  {
   "cell_type": "markdown",
   "metadata": {},
   "source": [
    "## Question 2: Tax Equilibria with SymPy"
   ]
  },
  {
   "cell_type": "markdown",
   "metadata": {},
   "source": [
    "*From Gruber, Ch.19, Q.4*\n",
    "\n",
    "The demand for football tickets is $Q = 360 − 10P$ and the supply of football tickets is $Q = 20P$. "
   ]
  },
  {
   "cell_type": "markdown",
   "metadata": {},
   "source": [
    "**Question 2.1:**\n",
    "Calculate the quantity and price at the equilibrium."
   ]
  },
  {
   "cell_type": "code",
   "execution_count": null,
   "metadata": {},
   "outputs": [],
   "source": [
    "P = sympy.Symbol(\"P\")\n",
    "supply = ...\n",
    "demand = ...\n",
    "price_no_tax = ...\n",
    "quantity_no_tax = ...\n",
    "print(\"The equilibrium price is\", price_no_tax, \"; the equilibrium quantity is\", quantity_no_tax)"
   ]
  },
  {
   "cell_type": "code",
   "execution_count": null,
   "metadata": {},
   "outputs": [],
   "source": [
    "grader.check(\"q2_1\")"
   ]
  },
  {
   "cell_type": "markdown",
   "metadata": {},
   "source": [
    "**Question 2.2:**\n",
    "Assume that the government implements a per-ticket tax of $4 when consumers purchase a ticket. What is the new price received by producers and price paid by consumers?"
   ]
  },
  {
   "cell_type": "code",
   "execution_count": null,
   "metadata": {},
   "outputs": [],
   "source": [
    "demand_with_tax = ...\n",
    "price_received_with_tax = ...\n",
    "price_paid_demand_with_tax = ...\n",
    "print(\"The price received by producers is\", price_received_with_tax, \n",
    "      \"; the price paid by consumers is\", price_paid_demand_with_tax)"
   ]
  },
  {
   "cell_type": "code",
   "execution_count": null,
   "metadata": {},
   "outputs": [],
   "source": [
    "grader.check(\"q2_2\")"
   ]
  },
  {
   "cell_type": "markdown",
   "metadata": {},
   "source": [
    "<!-- BEGIN QUESTION -->\n",
    "\n",
    "**Question 2.3:**\n",
    "Who bears a larger burden of the tax? Why?"
   ]
  },
  {
   "cell_type": "markdown",
   "metadata": {},
   "source": [
    "_Write your answer here, replacing this text_"
   ]
  },
  {
   "cell_type": "markdown",
   "metadata": {},
   "source": [
    "<!-- END QUESTION -->\n",
    "\n",
    "**Question 2.4:**\n",
    "Continue to assume that the government implements a per-ticket tax of \\\\$4. How many less tickets are sold due to the tax?"
   ]
  },
  {
   "cell_type": "code",
   "execution_count": null,
   "metadata": {},
   "outputs": [],
   "source": [
    "quantity_with_tax = ...\n",
    "difference_in_quantity = ...\n",
    "print(\"The difference in quantity transacted is\", difference_in_quantity)"
   ]
  },
  {
   "cell_type": "code",
   "execution_count": null,
   "metadata": {
    "scrolled": true
   },
   "outputs": [],
   "source": [
    "grader.check(\"q2_4\")"
   ]
  },
  {
   "cell_type": "markdown",
   "metadata": {},
   "source": [
    "<!-- END QUESTION -->\n",
    "\n",
    "---\n",
    "\n",
    "Congrats on finishing a notebook! To double-check your work, the cell below will rerun all of the autograder tests for you."
   ]
  },
  {
   "cell_type": "code",
   "execution_count": 14,
   "metadata": {
    "scrolled": false
   },
   "outputs": [
    {
     "data": {
      "text/html": [
       "<p><strong>q1_10</strong></p>\n",
       "    \n",
       "    \n",
       "        <p>0 of 1 tests passed</p>\n",
       "        \n",
       "        \n",
       "        <p> <strong>Tests failed: </strong>\n",
       "            <ul>\n",
       "            \n",
       "                <li> \n",
       "    <p><strong style='color: red;'>./tests/q1_10.py</strong></p>\n",
       "    <p><strong>Test code:</strong><pre><div class=\"highlight\" style=\"background: #f8f8f8\"><pre style=\"line-height: 125%\"><span></span><span style=\"color: #000080; font-weight: bold\">&gt;&gt;&gt; </span><span style=\"color: #008000\">len</span>(coeffs) <span style=\"color: #666666\">==</span> <span style=\"color: #666666\">2</span>\n",
       "<span style=\"color: #888888\">True</span>\n",
       "</pre></div>\n",
       "</pre></p>\n",
       "    <p><strong>Test result:</strong><pre>Trying:\n",
       "    len(coeffs) == 2\n",
       "Expecting:\n",
       "    True\n",
       "**********************************************************************\n",
       "Line 2, in ./tests/q1_10.py 0\n",
       "Failed example:\n",
       "    len(coeffs) == 2\n",
       "Exception raised:\n",
       "    Traceback (most recent call last):\n",
       "      File \"/usr/lib/python3.6/doctest.py\", line 1330, in __run\n",
       "        compileflags, 1), test.globs)\n",
       "      File \"<doctest ./tests/q1_10.py 0[0]>\", line 1, in <module>\n",
       "        len(coeffs) == 2\n",
       "    NameError: name 'coeffs' is not defined\n",
       "</pre></p>\n",
       "     </li>\n",
       "            \n",
       "            </ul>\n",
       "        \n",
       "    \n",
       "    "
      ],
      "text/plain": [
       "<IPython.core.display.HTML object>"
      ]
     },
     "metadata": {},
     "output_type": "display_data"
    },
    {
     "data": {
      "text/html": [
       "<p><strong>q1_2</strong></p>\n",
       "    \n",
       "    \n",
       "        <p>0 of 1 tests passed</p>\n",
       "        \n",
       "        \n",
       "        <p> <strong>Tests failed: </strong>\n",
       "            <ul>\n",
       "            \n",
       "                <li> \n",
       "    <p><strong style='color: red;'>./tests/q1_2.py</strong></p>\n",
       "    <p><strong>Test code:</strong><pre><div class=\"highlight\" style=\"background: #f8f8f8\"><pre style=\"line-height: 125%\"><span></span><span style=\"color: #000080; font-weight: bold\">&gt;&gt;&gt; </span><span style=\"color: #008000\">len</span>(beer) <span style=\"color: #666666\">==</span> <span style=\"color: #666666\">8</span>\n",
       "<span style=\"color: #888888\">True</span>\n",
       "</pre></div>\n",
       "</pre></p>\n",
       "    <p><strong>Test result:</strong><pre>Trying:\n",
       "    len(beer) == 8\n",
       "Expecting:\n",
       "    True\n",
       "**********************************************************************\n",
       "Line 2, in ./tests/q1_2.py 0\n",
       "Failed example:\n",
       "    len(beer) == 8\n",
       "Exception raised:\n",
       "    Traceback (most recent call last):\n",
       "      File \"/usr/lib/python3.6/doctest.py\", line 1330, in __run\n",
       "        compileflags, 1), test.globs)\n",
       "      File \"<doctest ./tests/q1_2.py 0[0]>\", line 1, in <module>\n",
       "        len(beer) == 8\n",
       "    TypeError: object of type 'ellipsis' has no len()\n",
       "</pre></p>\n",
       "     </li>\n",
       "            \n",
       "            </ul>\n",
       "        \n",
       "    \n",
       "    "
      ],
      "text/plain": [
       "<IPython.core.display.HTML object>"
      ]
     },
     "metadata": {},
     "output_type": "display_data"
    },
    {
     "data": {
      "text/html": [
       "<p><strong>q1_3</strong></p>\n",
       "    \n",
       "    \n",
       "        <p>0 of 1 tests passed</p>\n",
       "        \n",
       "        \n",
       "        <p> <strong>Tests failed: </strong>\n",
       "            <ul>\n",
       "            \n",
       "                <li> \n",
       "    <p><strong style='color: red;'>./tests/q1_3.py</strong></p>\n",
       "    <p><strong>Test code:</strong><pre><div class=\"highlight\" style=\"background: #f8f8f8\"><pre style=\"line-height: 125%\"><span></span><span style=\"color: #000080; font-weight: bold\">&gt;&gt;&gt; </span><span style=\"color: #008000\">len</span>(np<span style=\"color: #666666\">.</span>unique(beer_state[<span style=\"color: #BA2121\">&quot;st_name&quot;</span>])) <span style=\"color: #666666\">==</span> <span style=\"color: #666666\">1</span>\n",
       "<span style=\"color: #888888\">True</span>\n",
       "</pre></div>\n",
       "</pre></p>\n",
       "    <p><strong>Test result:</strong><pre>Trying:\n",
       "    len(np.unique(beer_state[\"st_name\"])) == 1\n",
       "Expecting:\n",
       "    True\n",
       "**********************************************************************\n",
       "Line 2, in ./tests/q1_3.py 0\n",
       "Failed example:\n",
       "    len(np.unique(beer_state[\"st_name\"])) == 1\n",
       "Exception raised:\n",
       "    Traceback (most recent call last):\n",
       "      File \"/usr/lib/python3.6/doctest.py\", line 1330, in __run\n",
       "        compileflags, 1), test.globs)\n",
       "      File \"<doctest ./tests/q1_3.py 0[0]>\", line 1, in <module>\n",
       "        len(np.unique(beer_state[\"st_name\"])) == 1\n",
       "    NameError: name 'beer_state' is not defined\n",
       "</pre></p>\n",
       "     </li>\n",
       "            \n",
       "            </ul>\n",
       "        \n",
       "    \n",
       "    "
      ],
      "text/plain": [
       "<IPython.core.display.HTML object>"
      ]
     },
     "metadata": {},
     "output_type": "display_data"
    },
    {
     "data": {
      "text/html": [
       "<p><strong>q1_4</strong></p>\n",
       "    \n",
       "    \n",
       "        <p>0 of 1 tests passed</p>\n",
       "        \n",
       "        \n",
       "        <p> <strong>Tests failed: </strong>\n",
       "            <ul>\n",
       "            \n",
       "                <li> \n",
       "    <p><strong style='color: red;'>./tests/q1_4.py</strong></p>\n",
       "    <p><strong>Test code:</strong><pre><div class=\"highlight\" style=\"background: #f8f8f8\"><pre style=\"line-height: 125%\"><span></span><span style=\"color: #000080; font-weight: bold\">&gt;&gt;&gt; </span><span style=\"color: #008000\">len</span>(beer_state_changes) <span style=\"color: #666666\">==</span> <span style=\"color: #666666\">2</span>\n",
       "<span style=\"color: #888888\">True</span>\n",
       "</pre></div>\n",
       "</pre></p>\n",
       "    <p><strong>Test result:</strong><pre>Trying:\n",
       "    len(beer_state_changes) == 2\n",
       "Expecting:\n",
       "    True\n",
       "**********************************************************************\n",
       "Line 2, in ./tests/q1_4.py 0\n",
       "Failed example:\n",
       "    len(beer_state_changes) == 2\n",
       "Exception raised:\n",
       "    Traceback (most recent call last):\n",
       "      File \"/usr/lib/python3.6/doctest.py\", line 1330, in __run\n",
       "        compileflags, 1), test.globs)\n",
       "      File \"<doctest ./tests/q1_4.py 0[0]>\", line 1, in <module>\n",
       "        len(beer_state_changes) == 2\n",
       "    NameError: name 'beer_state_changes' is not defined\n",
       "</pre></p>\n",
       "     </li>\n",
       "            \n",
       "            </ul>\n",
       "        \n",
       "    \n",
       "    "
      ],
      "text/plain": [
       "<IPython.core.display.HTML object>"
      ]
     },
     "metadata": {},
     "output_type": "display_data"
    },
    {
     "data": {
      "text/html": [
       "<p><strong>q1_5</strong></p>\n",
       "    \n",
       "    \n",
       "        <p>0 of 1 tests passed</p>\n",
       "        \n",
       "        \n",
       "        <p> <strong>Tests failed: </strong>\n",
       "            <ul>\n",
       "            \n",
       "                <li> \n",
       "    <p><strong style='color: red;'>./tests/q1_5.py</strong></p>\n",
       "    <p><strong>Test code:</strong><pre><div class=\"highlight\" style=\"background: #f8f8f8\"><pre style=\"line-height: 125%\"><span></span><span style=\"color: #000080; font-weight: bold\">&gt;&gt;&gt; </span>q1_5 <span style=\"color: #AA22FF; font-weight: bold\">in</span> [<span style=\"color: #666666\">1</span>, <span style=\"color: #666666\">2</span>, <span style=\"color: #666666\">3</span>, <span style=\"color: #666666\">4</span>]\n",
       "<span style=\"color: #888888\">True</span>\n",
       "</pre></div>\n",
       "</pre></p>\n",
       "    <p><strong>Test result:</strong><pre>Trying:\n",
       "    q1_5 in [1, 2, 3, 4]\n",
       "Expecting:\n",
       "    True\n",
       "**********************************************************************\n",
       "Line 2, in ./tests/q1_5.py 0\n",
       "Failed example:\n",
       "    q1_5 in [1, 2, 3, 4]\n",
       "Exception raised:\n",
       "    Traceback (most recent call last):\n",
       "      File \"/usr/lib/python3.6/doctest.py\", line 1330, in __run\n",
       "        compileflags, 1), test.globs)\n",
       "      File \"<doctest ./tests/q1_5.py 0[0]>\", line 1, in <module>\n",
       "        q1_5 in [1, 2, 3, 4]\n",
       "    NameError: name 'q1_5' is not defined\n",
       "</pre></p>\n",
       "     </li>\n",
       "            \n",
       "            </ul>\n",
       "        \n",
       "    \n",
       "    "
      ],
      "text/plain": [
       "<IPython.core.display.HTML object>"
      ]
     },
     "metadata": {},
     "output_type": "display_data"
    },
    {
     "data": {
      "text/html": [
       "<p><strong>q2_1</strong></p>\n",
       "    \n",
       "    \n",
       "        <p>0 of 1 tests passed</p>\n",
       "        \n",
       "        \n",
       "        <p> <strong>Tests failed: </strong>\n",
       "            <ul>\n",
       "            \n",
       "                <li> \n",
       "    <p><strong style='color: red;'>./tests/q2_1.py</strong></p>\n",
       "    <p><strong>Test code:</strong><pre><div class=\"highlight\" style=\"background: #f8f8f8\"><pre style=\"line-height: 125%\"><span></span><span style=\"color: #000080; font-weight: bold\">&gt;&gt;&gt; </span><span style=\"color: #666666\">5</span> <span style=\"color: #666666\">&lt;=</span> price_no_tax <span style=\"color: #666666\">&lt;=</span> <span style=\"color: #666666\">15</span>\n",
       "<span style=\"color: #888888\">True</span>\n",
       "</pre></div>\n",
       "</pre></p>\n",
       "    <p><strong>Test result:</strong><pre>Trying:\n",
       "    5 <= price_no_tax <= 15\n",
       "Expecting:\n",
       "    True\n",
       "**********************************************************************\n",
       "Line 2, in ./tests/q2_1.py 0\n",
       "Failed example:\n",
       "    5 <= price_no_tax <= 15\n",
       "Exception raised:\n",
       "    Traceback (most recent call last):\n",
       "      File \"/usr/lib/python3.6/doctest.py\", line 1330, in __run\n",
       "        compileflags, 1), test.globs)\n",
       "      File \"<doctest ./tests/q2_1.py 0[0]>\", line 1, in <module>\n",
       "        5 <= price_no_tax <= 15\n",
       "    NameError: name 'price_no_tax' is not defined\n",
       "</pre></p>\n",
       "     </li>\n",
       "            \n",
       "            </ul>\n",
       "        \n",
       "    \n",
       "    "
      ],
      "text/plain": [
       "<IPython.core.display.HTML object>"
      ]
     },
     "metadata": {},
     "output_type": "display_data"
    },
    {
     "data": {
      "text/html": [
       "<p><strong>q2_2</strong></p>\n",
       "    \n",
       "    \n",
       "        <p>0 of 1 tests passed</p>\n",
       "        \n",
       "        \n",
       "        <p> <strong>Tests failed: </strong>\n",
       "            <ul>\n",
       "            \n",
       "                <li> \n",
       "    <p><strong style='color: red;'>./tests/q2_2.py</strong></p>\n",
       "    <p><strong>Test code:</strong><pre><div class=\"highlight\" style=\"background: #f8f8f8\"><pre style=\"line-height: 125%\"><span></span><span style=\"color: #000080; font-weight: bold\">&gt;&gt;&gt; </span><span style=\"color: #666666\">10</span> <span style=\"color: #666666\">&lt;=</span> price_received_with_tax <span style=\"color: #666666\">&lt;=</span> <span style=\"color: #666666\">15</span>\n",
       "<span style=\"color: #888888\">True</span>\n",
       "</pre></div>\n",
       "</pre></p>\n",
       "    <p><strong>Test result:</strong><pre>Trying:\n",
       "    10 <= price_received_with_tax <= 15\n",
       "Expecting:\n",
       "    True\n",
       "**********************************************************************\n",
       "Line 2, in ./tests/q2_2.py 0\n",
       "Failed example:\n",
       "    10 <= price_received_with_tax <= 15\n",
       "Exception raised:\n",
       "    Traceback (most recent call last):\n",
       "      File \"/usr/lib/python3.6/doctest.py\", line 1330, in __run\n",
       "        compileflags, 1), test.globs)\n",
       "      File \"<doctest ./tests/q2_2.py 0[0]>\", line 1, in <module>\n",
       "        10 <= price_received_with_tax <= 15\n",
       "    NameError: name 'price_received_with_tax' is not defined\n",
       "</pre></p>\n",
       "     </li>\n",
       "            \n",
       "            </ul>\n",
       "        \n",
       "    \n",
       "    "
      ],
      "text/plain": [
       "<IPython.core.display.HTML object>"
      ]
     },
     "metadata": {},
     "output_type": "display_data"
    },
    {
     "data": {
      "text/html": [
       "<p><strong>q2_4</strong></p>\n",
       "    \n",
       "    \n",
       "        <p>0 of 1 tests passed</p>\n",
       "        \n",
       "        \n",
       "        <p> <strong>Tests failed: </strong>\n",
       "            <ul>\n",
       "            \n",
       "                <li> \n",
       "    <p><strong style='color: red;'>./tests/q2_4.py</strong></p>\n",
       "    <p><strong>Test code:</strong><pre><div class=\"highlight\" style=\"background: #f8f8f8\"><pre style=\"line-height: 125%\"><span></span><span style=\"color: #000080; font-weight: bold\">&gt;&gt;&gt; </span><span style=\"color: #666666\">25</span> <span style=\"color: #666666\">&lt;=</span> difference_in_quantity <span style=\"color: #666666\">&lt;=</span> <span style=\"color: #666666\">30</span>\n",
       "<span style=\"color: #888888\">True</span>\n",
       "</pre></div>\n",
       "</pre></p>\n",
       "    <p><strong>Test result:</strong><pre>Trying:\n",
       "    25 <= difference_in_quantity <= 30\n",
       "Expecting:\n",
       "    True\n",
       "**********************************************************************\n",
       "Line 2, in ./tests/q2_4.py 0\n",
       "Failed example:\n",
       "    25 <= difference_in_quantity <= 30\n",
       "Exception raised:\n",
       "    Traceback (most recent call last):\n",
       "      File \"/usr/lib/python3.6/doctest.py\", line 1330, in __run\n",
       "        compileflags, 1), test.globs)\n",
       "      File \"<doctest ./tests/q2_4.py 0[0]>\", line 1, in <module>\n",
       "        25 <= difference_in_quantity <= 30\n",
       "    NameError: name 'difference_in_quantity' is not defined\n",
       "</pre></p>\n",
       "     </li>\n",
       "            \n",
       "            </ul>\n",
       "        \n",
       "    \n",
       "    "
      ],
      "text/plain": [
       "<IPython.core.display.HTML object>"
      ]
     },
     "metadata": {},
     "output_type": "display_data"
    }
   ],
   "source": [
    "grader.check_all()"
   ]
  },
  {
   "cell_type": "markdown",
   "metadata": {},
   "source": [
    "## Submission\n",
    "\n",
    "Congrats on finishing a homework notebook! To turn in this homework assignment, click the **Save** icon at the top, **save this file** by going to File > Download As and select **Notebook**; then, run the cell below to generate a PDF of this assignment and download it. Submit this assignment by uploading **BOTH the .ipynb and .pdf files** to Gradescope."
   ]
  },
  {
   "cell_type": "code",
   "execution_count": 15,
   "metadata": {},
   "outputs": [
    {
     "data": {
      "text/html": [
       "\n",
       "\t\t<p>Your file has been exported. Download it \n",
       "\t\t<a href=\"hw03.pdf\" target=\"_blank\">here</a>!\n",
       "\t\t"
      ],
      "text/plain": [
       "<IPython.core.display.HTML object>"
      ]
     },
     "metadata": {},
     "output_type": "display_data"
    }
   ],
   "source": [
    "grader.export(\"hw03.ipynb\")"
   ]
  },
  {
   "cell_type": "markdown",
   "metadata": {},
   "source": [
    " "
   ]
  }
 ],
 "metadata": {
  "kernelspec": {
   "display_name": "Python 3",
   "language": "python",
   "name": "python3"
  },
  "language_info": {
   "codemirror_mode": {
    "name": "ipython",
    "version": 3
   },
   "file_extension": ".py",
   "mimetype": "text/x-python",
   "name": "python",
   "nbconvert_exporter": "python",
   "pygments_lexer": "ipython3",
   "version": "3.6.9"
  },
  "varInspector": {
   "cols": {
    "lenName": 16,
    "lenType": 16,
    "lenVar": 40
   },
   "kernels_config": {
    "python": {
     "delete_cmd_postfix": "",
     "delete_cmd_prefix": "del ",
     "library": "var_list.py",
     "varRefreshCmd": "print(var_dic_list())"
    },
    "r": {
     "delete_cmd_postfix": ") ",
     "delete_cmd_prefix": "rm(",
     "library": "var_list.r",
     "varRefreshCmd": "cat(var_dic_list()) "
    }
   },
   "types_to_exclude": [
    "module",
    "function",
    "builtin_function_or_method",
    "instance",
    "_Feature"
   ],
   "window_display": false
  }
 },
 "nbformat": 4,
 "nbformat_minor": 2
}
