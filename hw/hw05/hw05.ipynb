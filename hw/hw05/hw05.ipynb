{
 "cells": [
  {
   "cell_type": "markdown",
   "metadata": {},
   "source": [
    "<table style=\"width: 100%;\">\n",
    "    <tr style=\"background-color: transparent;\"><td>\n",
    "        <img src=\"https://d8a-88.github.io/econ-fa19/assets/images/blue_text.png\" width=\"250px\" style=\"margin-left: 0;\" />\n",
    "    </td><td>\n",
    "        <p style=\"text-align: right; font-size: 10pt;\"><strong>Economic Models</strong>, Spring 2020<br>\n",
    "            Dr. Eric Van Dusen<br>\n",
    "        Andrei Caprau<br>\n",
    "        Umar Maniku<br></p></td></tr>\n",
    "</table>"
   ]
  },
  {
   "cell_type": "markdown",
   "metadata": {},
   "source": [
    "# Homework 5: Finance"
   ]
  },
  {
   "cell_type": "code",
   "execution_count": null,
   "metadata": {
    "scrolled": true
   },
   "outputs": [],
   "source": [
    "import numpy as np\n",
    "import matplotlib.pyplot as plt\n",
    "import matplotlib.patches as patches\n",
    "import sympy\n",
    "from ipywidgets import interact, interactive, fixed, interact_manual\n",
    "import ipywidgets as widgets\n",
    "from IPython.display import display\n",
    "import warnings\n",
    "from datascience import *\n",
    "warnings.filterwarnings('ignore')\n",
    "plt.style.use(\"seaborn-muted\")\n",
    "%matplotlib inline"
   ]
  },
  {
   "cell_type": "markdown",
   "metadata": {},
   "source": [
    "## Question 1\n",
    "Define functions for a long put, long call and a short call. These functions have 2 inputs: an input for the value of the underlying stock, which is just a number (for instance 110), and an input for the strike price, which is also just a number (for instance 100). The functions are started below."
   ]
  },
  {
   "cell_type": "code",
   "execution_count": null,
   "metadata": {
    "scrolled": true
   },
   "outputs": [],
   "source": [
    "def long_call(asset_values, strike):\n",
    "    ...\n",
    "    return\n",
    "\n",
    "def long_put(asset_values, strike):\n",
    "    ...\n",
    "    return\n",
    "\n",
    "def short_call(asset_values, strike):\n",
    "    ...\n",
    "    return\n",
    "\n",
    "def short_put(asset_values, strike):\n",
    "    ...\n",
    "    return"
   ]
  },
  {
   "cell_type": "markdown",
   "metadata": {},
   "source": [
    "## Question 2\n",
    "\n",
    "Suppose I want to create the following portfolio:\n",
    "- Long put with a strike of 30\n",
    "- Long call with a strike of 30\n",
    "- Short call with a strike of 50\n",
    "- Long call with a strike of 60\n",
    "\n",
    "Generate a payoff diagram for this portfolio. We recommend completing the question in the following way:\n",
    "1. Using the functions you defined in question 1, use list comprehensions to create arrays of payoffs for each asset. A list comprehension is a one-line analogue of a for loop. \n",
    "\n",
    "Take the for loop below:\n",
    "``` \n",
    "values = []\n",
    "for i in np.arange(100):\n",
    "    values.append(function(i))\n",
    "```\n",
    "This can be rewritten in one line using a list comprehension:\n",
    "```values = [function(i) for i in np.arange(100)]```\n",
    "2. Use the given array_summer function to create an array of the sum of payoffs from the 4 assets i. It takes in a single array containing all of the arrays you wish to sum together, and returns their element-wise sum. An example of its output:\n",
    "``` \n",
    ">>> array_1 = [1, 2, 3, 4]\n",
    ">>> array_2 = [5, 6, 7, 8]\n",
    ">>> array_summer([array_1, array_2])\n",
    "[6, 8, 10, 12]\n",
    "```\n",
    "3. Create the plot of asset value on the x-axis and payoff on the y-axis. *Hint: Use tbl.plot*"
   ]
  },
  {
   "cell_type": "code",
   "execution_count": null,
   "metadata": {
    "scrolled": true
   },
   "outputs": [],
   "source": [
    "asset_values = np.arange(80)\n",
    "long_put_30 = ...\n",
    "long_call_30 = ...\n",
    "short_call_50 = ...\n",
    "long_call_60 = ..."
   ]
  },
  {
   "cell_type": "code",
   "execution_count": null,
   "metadata": {
    "scrolled": true
   },
   "outputs": [],
   "source": [
    "def array_summer(arrays):\n",
    "    return np.sum(arrays, axis = 0)"
   ]
  },
  {
   "cell_type": "code",
   "execution_count": null,
   "metadata": {
    "scrolled": true
   },
   "outputs": [],
   "source": [
    "payoffs = array_summer([...])"
   ]
  },
  {
   "cell_type": "code",
   "execution_count": null,
   "metadata": {
    "scrolled": true
   },
   "outputs": [],
   "source": [
    "### Create your plot below ###\n",
    "..."
   ]
  },
  {
   "cell_type": "markdown",
   "metadata": {},
   "source": [
    "## Question 3\n",
    "\n",
    "1. What happens to the price of a call as volatility of the underlying stock increases? Why do you think this happens?\n",
    "2. What happens to the price of a put as volatility of the underlying stock increases? Why do you think this happens?\n",
    "3. Given these two answers above, what happens to the price of the portfolio created in Question 2 as volatility of the underlying stock increases?"
   ]
  },
  {
   "cell_type": "markdown",
   "metadata": {},
   "source": [
    "_Write your answer here, replacing this text_"
   ]
  },
  {
   "cell_type": "markdown",
   "metadata": {},
   "source": [
    "## Question 4\n",
    "\n",
    "Andrei owns stock in some company trading at \\\\$100, and he wants to create a portfolio with the following attributes: He wants to limit his losses in the event that the stock price goes down. In particular, he wants to avoid losses below a stock price of \\\\$90 in the next month. He knows that in order to achieve this, he will need to buy some kind of \"insurance\", which will cost money. In order to make this insurance more affordable, he is ok limiting his gains in the event that the stock price goes up; he will be happy if the stock is at \\\\$110, and he doesn't need to make more money if the stock goes beyond that price in the next month.\n",
    "\n",
    "1. What calls or puts should Andrei buy or sell in order to achieve his desired portfolio? Specify the strike and expiration.\n",
    "2. Briefly describe how Andrei's choice of portfolio makes his insurance against heavy loses more affordable.\n",
    "3. In the code cell below, using the methods from Question 2, generate a payoff diagram for this portfolio. Remember that Andrei is also long a stock, so that will somehow be a part of the payoff diagram."
   ]
  },
  {
   "cell_type": "markdown",
   "metadata": {},
   "source": [
    "_Write your answer here, replacing this text_"
   ]
  },
  {
   "cell_type": "code",
   "execution_count": null,
   "metadata": {
    "scrolled": true
   },
   "outputs": [],
   "source": [
    "### Create your plot below ###\n",
    "asset_values = np.arange(80, 120)\n",
    "..."
   ]
  },
  {
   "cell_type": "markdown",
   "metadata": {
    "colab_type": "text",
    "id": "PUKfV-1gdV3w"
   },
   "source": [
    "## Submission"
   ]
  },
  {
   "cell_type": "markdown",
   "metadata": {
    "colab_type": "text",
    "id": "KICy-vYodXVe"
   },
   "source": [
    "Congrats on finishing another homework notebook! To turn in this homework assignment, go to File > Download As and select **PDF via Chrome**; upload the PDF this generates to Gradescope."
   ]
  },
  {
   "cell_type": "markdown",
   "metadata": {},
   "source": [
    " "
   ]
  }
 ],
 "metadata": {
  "kernelspec": {
   "display_name": "Python 3",
   "language": "python",
   "name": "python3"
  },
  "language_info": {
   "codemirror_mode": {
    "name": "ipython",
    "version": 3
   },
   "file_extension": ".py",
   "mimetype": "text/x-python",
   "name": "python",
   "nbconvert_exporter": "python",
   "pygments_lexer": "ipython3",
   "version": "3.6.5"
  },
  "varInspector": {
   "cols": {
    "lenName": 16,
    "lenType": 16,
    "lenVar": 40
   },
   "kernels_config": {
    "python": {
     "delete_cmd_postfix": "",
     "delete_cmd_prefix": "del ",
     "library": "var_list.py",
     "varRefreshCmd": "print(var_dic_list())"
    },
    "r": {
     "delete_cmd_postfix": ") ",
     "delete_cmd_prefix": "rm(",
     "library": "var_list.r",
     "varRefreshCmd": "cat(var_dic_list()) "
    }
   },
   "types_to_exclude": [
    "module",
    "function",
    "builtin_function_or_method",
    "instance",
    "_Feature"
   ],
   "window_display": false
  }
 },
 "nbformat": 4,
 "nbformat_minor": 2
}
