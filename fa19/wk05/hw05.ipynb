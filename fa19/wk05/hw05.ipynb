{
 "cells": [
  {
   "cell_type": "markdown",
   "metadata": {},
   "source": [
    "<table style=\"width: 100%;\">\n",
    "    <tr style=\"background-color: transparent;\"><td>\n",
    "        <img src=\"https://d8a-88.github.io/econ-fa19/assets/images/blue_text.png\" width=\"250px\" style=\"margin-left: 0;\" />\n",
    "    </td><td>\n",
    "        <p style=\"text-align: right; font-size: 12pt;\"><strong>Economic Models</strong>, Fall 2019<br>\n",
    "            Dr. Eric Van Dusen</p></td></tr>\n",
    "</table>"
   ]
  },
  {
   "cell_type": "code",
   "execution_count": null,
   "metadata": {},
   "outputs": [],
   "source": [
    "import matplotlib.pyplot as plt\n",
    "import matplotlib.patches as patches\n",
    "import numpy as np\n",
    "import warnings\n",
    "warnings.filterwarnings('ignore')\n",
    "plt.style.use(\"seaborn-muted\")"
   ]
  },
  {
   "cell_type": "markdown",
   "metadata": {},
   "source": [
    "# Homework 5"
   ]
  },
  {
   "cell_type": "markdown",
   "metadata": {},
   "source": [
    "## Question 1"
   ]
  },
  {
   "cell_type": "markdown",
   "metadata": {},
   "source": [
    "In the lesson, we made a simplification when discussing surplus for the sake of clarity and simplicity. We assigned some willingness to pay (WTP) value to each individual consumer, which never changed once assigned. We then said that an individual's surplus is equal to its WTP minus the market price. This isn't an entirely accurate and general answer to the question of what is surplus, and I chose to simplify the example in this way mainly to produce those clean matrices that resemble the outline of a demand curve. Why is this a simplification? What assumptions have we made to be able to say that an individual's surplus is some fixed WTP minus market price? Your answer can be as long or as short as you want, but please be thorough. This question is an exercise in evaluating what you have learned and checking if an idea generalizes to any scenario.\n",
    "\n",
    "*Hint: An individual's demand curve usually resembles a market's demand curve, in that it is the same downward-sloping shape.*"
   ]
  },
  {
   "cell_type": "markdown",
   "metadata": {},
   "source": [
    "*Type your answer here, replacing this text.*"
   ]
  },
  {
   "cell_type": "markdown",
   "metadata": {},
   "source": [
    "## Question 2"
   ]
  },
  {
   "cell_type": "markdown",
   "metadata": {},
   "source": [
    "**Question 2.1:** Derive the point-slope formula for elasticity from the first percentage formula given for elasticity. In other words, start with\n",
    "\n",
    "$$\\frac{\\%\\Delta Q}{\\%\\Delta P}$$\n",
    "\n",
    "and use some algebra to get\n",
    "\n",
    "$$\\frac{\\Delta Q}{\\Delta P}\\frac{P}{Q}$$\n",
    "\n",
    "Your answer should be typed out in the markdown cell below in $\\LaTeX$ typesetting.\n",
    "\n",
    "*Hint: The derivation is very short, only a few lines. Remember how we define the percent change in something.*"
   ]
  },
  {
   "cell_type": "markdown",
   "metadata": {},
   "source": [
    "*Type your answer here, replacing this text.*"
   ]
  },
  {
   "cell_type": "markdown",
   "metadata": {},
   "source": [
    "**Question 2.2:** As stated in lesson, this equality between the point-slope formula and the percentage formula doesn't always hold. This is because we change the meaning of $\\frac{\\Delta Q}{\\Delta P}$ in point-slopt form to represent the inverse slope of the curve at the specified point, whereas in the percentage formula, the delta simply represents a change between two points. We were lucky in our example that they yielded the same answer. Describe the shape of a curve where this equality might not always hold."
   ]
  },
  {
   "cell_type": "markdown",
   "metadata": {},
   "source": [
    "*Type your answer here, replacing this text.*"
   ]
  },
  {
   "cell_type": "markdown",
   "metadata": {},
   "source": [
    "## Question 3"
   ]
  },
  {
   "cell_type": "markdown",
   "metadata": {},
   "source": [
    "In the text, we saw that the elasticity changed as you moved along the given curve. Hopefully the examples given in this chapter highlight why this might be. However, elasticity does not necessarily have to behave this way in all cases. Construct a demand curve that has elasticty of (roughly) 1 at all points on the curve. You may draw the curve and upload it along with your homework PDF onto Gradescope, you may describe the curve in writing, or if you'd prefer, you can use Matplotlib to generate a curve here. If you choose to describe the curve in writing, please be very clear in your description."
   ]
  },
  {
   "cell_type": "markdown",
   "metadata": {},
   "source": [
    "*Type your answer here, replacing this text. If you choose to use Python to generate a curve, please convert this cell to a coding cell.*"
   ]
  },
  {
   "cell_type": "markdown",
   "metadata": {},
   "source": [
    "## Question 4"
   ]
  },
  {
   "cell_type": "markdown",
   "metadata": {},
   "source": [
    "For each of the following two supply curves, label one as relatively inelastic and the other as relatively elastic."
   ]
  },
  {
   "cell_type": "code",
   "execution_count": null,
   "metadata": {},
   "outputs": [],
   "source": [
    "plt.figure(figsize = [6,6])\n",
    "plt.plot(np.arange(0,10,1), np.array([0,3,6,9,12,15,18,21,24,27]))\n",
    "plt.xlim(0,30)\n",
    "plt.ylim(0,30)\n",
    "plt.xticks([], [])\n",
    "plt.yticks([], [])\n",
    "plt.show()"
   ]
  },
  {
   "cell_type": "markdown",
   "metadata": {},
   "source": [
    "*Type your answer here, replacing this text.*"
   ]
  },
  {
   "cell_type": "code",
   "execution_count": null,
   "metadata": {},
   "outputs": [],
   "source": [
    "plt.figure(figsize = [6,6])\n",
    "plt.plot(np.array([0,3,6,9,12,15,18,21,24,27]), np.arange(0,10,1))\n",
    "plt.xlim(0,30)\n",
    "plt.ylim(0,30)\n",
    "plt.xticks([], [])\n",
    "plt.yticks([], [])\n",
    "plt.show()"
   ]
  },
  {
   "cell_type": "markdown",
   "metadata": {},
   "source": [
    "*Type your answer here, replacing this text.*"
   ]
  },
  {
   "cell_type": "markdown",
   "metadata": {},
   "source": [
    "## Question 5"
   ]
  },
  {
   "cell_type": "markdown",
   "metadata": {},
   "source": [
    "In economics, it is important to differentiate time scales. Usually the terms *short run* and *long run* are used to achieve this. What exactly the short run and long run are is a context-specific question. In essence, the short run becomes the long run when certain things that were initially fixed are allowed to change. For instance, the amount of machinery a factory has might be fixed in the short run, due to the cost and inconvenience of installing new machinery, but variable in the long run. While these numbers are made up, one might imagine that on the time scale of one year or less, machinery in a factory is unable to be changed, whereas on the time scale of one year or more, there is enough time to make adjustments to the amount of machinery availble. These time scales vary from context to context, and are rough guesses more than concrete observations."
   ]
  },
  {
   "cell_type": "markdown",
   "metadata": {},
   "source": [
    "**Question 5.1:** Imagine the supply curve of corn produced by several farms in a large farming region. Now suppose corn prices rose suddenly in the middle of the season. How significantly, and in what direction, would the quantity of corn produced in this current season by this market change, in comparison to the change in the price of corn? In other words, describe the short-run elasticity of this supply. Why is this the case?"
   ]
  },
  {
   "cell_type": "markdown",
   "metadata": {},
   "source": [
    "*Type your answer here, replacing this text.*"
   ]
  },
  {
   "cell_type": "markdown",
   "metadata": {},
   "source": [
    "**Question 5.2:** Now let's shift our time scale. Instead of looking at the short-run change in quantity, let's think about what happens in the next few years or so. Suppose prices stay high for the next year. How do these farmers respond? As above, what is the relative change in quantity of corn supplied in this market? Why?"
   ]
  },
  {
   "cell_type": "markdown",
   "metadata": {},
   "source": [
    "*Type your answer here, replacing this text.*"
   ]
  },
  {
   "cell_type": "markdown",
   "metadata": {},
   "source": [
    "**Question 5.3:** Historically, prices of corn, grain, and other crops can be very volatile, and it would be hard to try and guess what the next few years' prices would be. If it helps, in your head or on paper try simulating a few seasons in this market given an initial sharp change in price. Again, bear in mind the short-run and long-run restrictions of this market. Describe the potential problem. In reality, this was very much an issue in these markets for certain crops. This problem doesn't happen as frequently anymore, however. Can you think of a solution that may have \"fixed\" the problem?"
   ]
  },
  {
   "cell_type": "markdown",
   "metadata": {},
   "source": [
    "*Type your answer here, replacing this text.*"
   ]
  },
  {
   "cell_type": "markdown",
   "metadata": {},
   "source": [
    "---\n",
    "\n",
    "## Submission\n",
    "\n",
    "Congrats on finishing another homework notebook! To turn in this homework assignment, go to File > Download As and select **PDF via Chrome**; upload the PDF this generates to Gradescope."
   ]
  },
  {
   "cell_type": "markdown",
   "metadata": {},
   "source": [
    " "
   ]
  }
 ],
 "metadata": {
  "kernelspec": {
   "display_name": "Python 3",
   "language": "python",
   "name": "python3"
  },
  "language_info": {
   "codemirror_mode": {
    "name": "ipython",
    "version": 3
   },
   "file_extension": ".py",
   "mimetype": "text/x-python",
   "name": "python",
   "nbconvert_exporter": "python",
   "pygments_lexer": "ipython3",
   "version": "3.6.8"
  }
 },
 "nbformat": 4,
 "nbformat_minor": 2
}
