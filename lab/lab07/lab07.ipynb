{
 "cells": [
  {
   "cell_type": "markdown",
   "metadata": {},
   "source": [
    "<table style=\"width: 100%;\">\n",
    "    <tr style=\"background-color: transparent;\"><td>\n",
    "        <img src=\"https://d8a-88.github.io/econ-fa19/assets/images/blue_text.png\" width=\"250px\" style=\"margin-left: 0;\" />\n",
    "    </td><td>\n",
    "        <p style=\"text-align: right; font-size: 10pt;\"><strong>Economic Models</strong>, Spring 2020<br>\n",
    "            Dr. Eric Van Dusen<br>\n",
    "        Andrei Caprau<br>\n",
    "        Umar Maniku<br></p></td></tr>\n",
    "</table>"
   ]
  },
  {
   "cell_type": "markdown",
   "metadata": {},
   "source": [
    "# Lab 7: Finance"
   ]
  },
  {
   "cell_type": "code",
   "execution_count": null,
   "metadata": {},
   "outputs": [],
   "source": [
    "import numpy as np\n",
    "import matplotlib.pyplot as plt\n",
    "import matplotlib.patches as patches\n",
    "import sympy\n",
    "from ipywidgets import interact, interactive, fixed, interact_manual\n",
    "import ipywidgets as widgets\n",
    "from IPython.display import display\n",
    "from scipy import stats\n",
    "import warnings\n",
    "from datascience import *\n",
    "warnings.filterwarnings('ignore')\n",
    "plt.style.use(\"seaborn-muted\")\n",
    "%matplotlib inline\n",
    "import nbforms\n",
    "feedback = nbforms.Form(\"feedback_form_config.json\")"
   ]
  },
  {
   "cell_type": "markdown",
   "metadata": {},
   "source": [
    "## Compounding Interest"
   ]
  },
  {
   "cell_type": "markdown",
   "metadata": {},
   "source": [
    "We mentioned in this week's lesson how interest in one year builds on top of not only the principal amount of money deposited into an account, but also the interest earned in previous years. This can be very powerful.\n",
    "\n",
    "Below is a tool that simulates a retirement or savings account. Each year, a fixed amount is deposited into the account. This is represented by `deposits`. In addition, the interest rate the account yields is `r`, and `t` is how many years this account accrues interest."
   ]
  },
  {
   "cell_type": "code",
   "execution_count": null,
   "metadata": {},
   "outputs": [],
   "source": [
    "def plot_comp_interest(deposits, r, t):\n",
    "    balance = []\n",
    "    balance.append(deposits)\n",
    "    for _ in range(t):\n",
    "        balance.append(balance[-1] * (1 + r) + deposits)\n",
    "    plt.figure(figsize=(8,6))\n",
    "    plt.plot(np.arange(t + 1), balance)\n",
    "    plt.xlabel('Time in Years')\n",
    "    plt.ylabel('Account Balance')\n",
    "    plt.title('Account Balance Over Time')\n",
    "    plt.ylim((0, 1000000))\n",
    "    plt.xlim((0, t))"
   ]
  },
  {
   "cell_type": "code",
   "execution_count": null,
   "metadata": {},
   "outputs": [],
   "source": [
    "deposits_slider = widgets.IntSlider(min = 500, max = 10000, step = 500, value = 5000)\n",
    "r_slider = widgets.FloatSlider(min = 0.01, max = 0.2, step = 0.01, value = 0.1)\n",
    "t_slider = widgets.IntSlider(min = 10, max = 30, step = 1, value = 20)\n",
    "display(widgets.interactive(plot_comp_interest, deposits = deposits_slider, r = r_slider, t = t_slider))"
   ]
  },
  {
   "cell_type": "markdown",
   "metadata": {},
   "source": [
    "Try out the sliders.\n",
    "1. What happens as you increase the amount of fixed deposits?\n",
    "2. What happens as the interest rate increases?\n",
    "3. What happens as you invest into the account for longer periods of time?\n",
    "4. Why do people frequently say to start saving for retirement at a young age?"
   ]
  },
  {
   "cell_type": "markdown",
   "metadata": {},
   "source": [
    "## Black-Scholes"
   ]
  },
  {
   "cell_type": "markdown",
   "metadata": {},
   "source": [
    "Recall the somewhat complicated-looking formula for the price of a European call and put option. Recall that for European options, we assume that you can only exercise the option on expiration. We also assume that there are no dividends, that stock prices are random and log-normally-distributed, and that the risk-free rate and volatility are constant across time. Do you think these are reasonable assumptions?\n",
    "\n",
    "Below is code that implements those equations and plots the option price across a range of possible prices of underlying stock. Also included in the plot is the payoff of the option when it's exercised."
   ]
  },
  {
   "cell_type": "code",
   "execution_count": null,
   "metadata": {},
   "outputs": [],
   "source": [
    "def long_call(S, K, sigma, rf,  time):\n",
    "    d1 = (np.log(S/K) + (rf + 0.5*(sigma**2)) * time) / (sigma * (np.sqrt(time)))\n",
    "    d2 = d1 - sigma * np.sqrt(time)\n",
    "    return S * stats.norm.cdf(d1) - K * np.exp(-rf*time) * stats.norm.cdf(d2)\n",
    "\n",
    "def long_put(S, K, sigma, rf, time):\n",
    "    d1 = (np.log(S/K) + (rf + 0.5*(sigma**2)) * time)/(sigma * (np.sqrt(time)))\n",
    "    d2 = d1 - sigma*np.sqrt(time)\n",
    "    return K*np.exp(-rf*time)*stats.norm.cdf(-d2) - S * stats.norm.cdf(-d1)\n",
    "\n",
    "def plot(typ, S, K, sigma, rf, time):\n",
    "    plt.figure(figsize = (8,4))\n",
    "    \n",
    "    if typ == \"lc\":\n",
    "        payoff = np.maximum(0, np.linspace(1, 81, 500) - K)\n",
    "        prices = [long_call(i, K, sigma, rf, time) for i in np.linspace(1, 81, 500)]\n",
    "        plt.xlim(0,70)\n",
    "        plt.ylim(-10,50)\n",
    "        plt.title(\"Black-Scholes Long Call Price\")\n",
    "        \n",
    "    if typ == \"lp\":\n",
    "        payoff = np.maximum(0, K - np.linspace(1, 81, 500))\n",
    "        prices = [long_put(i, K, sigma, rf, time) for i in np.linspace(1, 81, 500)]\n",
    "        plt.xlim(0,70)\n",
    "        plt.ylim(-10,50)\n",
    "        plt.title(\"Black-Scholes Long Put Price\")\n",
    "        \n",
    "    if typ == \"sc\":\n",
    "        payoff = -np.maximum(0, np.linspace(1, 81, 500)-K)\n",
    "        prices = -np.array([long_call(i, K, sigma, rf, time) for i in np.linspace(1, 81, 500)])\n",
    "        plt.xlim(0,70)\n",
    "        plt.ylim(-50,10)\n",
    "        plt.title(\"Black-Scholes Short Call Price\")\n",
    "        \n",
    "    if typ == \"sp\":\n",
    "        payoff = -np.maximum(0, K-np.linspace(1, 81, 500))\n",
    "        prices = -np.array([long_put(i, K, sigma, rf, time) for i in np.linspace(1, 81, 500)])\n",
    "        plt.xlim(0,70)\n",
    "        plt.ylim(-50,10)\n",
    "        plt.title(\"Black-Scholes Short Put Price\")\n",
    "    \n",
    "    plt.plot(np.linspace(1, 81, 500), payoff)\n",
    "    plt.plot(np.linspace(1, 81, 500), prices)\n",
    "    plt.xlabel(\"Underlying Asset Price\")\n",
    "    plt.legend([\"Payoff Diagram\", \"Option Price\"])\n",
    "    plt.ylabel(\"Price/Payoff\")"
   ]
  },
  {
   "cell_type": "markdown",
   "metadata": {},
   "source": [
    "### Long Call"
   ]
  },
  {
   "cell_type": "code",
   "execution_count": null,
   "metadata": {},
   "outputs": [],
   "source": [
    "# Long Call\n",
    "rf_slider = widgets.FloatSlider(min = 0.01, max = 0.2, step = 0.01, value = 0.1)\n",
    "sigma_slider = widgets.FloatSlider(min = 0.1, max = 0.9, step = 0.1, value = 0.5)\n",
    "K_slider = widgets.IntSlider(min = 10, max = 60, step = 5, value = 30)\n",
    "time_slider = widgets.FloatSlider(min = 0.1, max = 2, step = 0.1, value = 1)\n",
    "\n",
    "display(widgets.interactive(plot, K = K_slider, typ = fixed(\"lc\"), S = fixed(40), \n",
    "                            time = time_slider, rf = rf_slider, sigma = sigma_slider))"
   ]
  },
  {
   "cell_type": "markdown",
   "metadata": {},
   "source": [
    "### Long Put"
   ]
  },
  {
   "cell_type": "code",
   "execution_count": null,
   "metadata": {},
   "outputs": [],
   "source": [
    "# Long Put\n",
    "rf_slider = widgets.FloatSlider(min = 0.01, max = 0.2, step = 0.01, value = 0.1)\n",
    "sigma_slider = widgets.FloatSlider(min = 0.1, max = 0.9, step = 0.1, value = 0.5)\n",
    "K_slider = widgets.IntSlider(min = 10, max = 60, step = 5, value = 30)\n",
    "time_slider = widgets.FloatSlider(min = 0.1, max = 2, step = 0.1, value = 1)\n",
    "\n",
    "display(widgets.interactive(plot, K = K_slider, typ = fixed(\"lp\"), S = fixed(40), \n",
    "                            time = time_slider, rf = rf_slider, sigma = sigma_slider))"
   ]
  },
  {
   "cell_type": "markdown",
   "metadata": {},
   "source": [
    "### Short Call"
   ]
  },
  {
   "cell_type": "code",
   "execution_count": null,
   "metadata": {},
   "outputs": [],
   "source": [
    "# Short Call\n",
    "rf_slider = widgets.FloatSlider(min = 0.01, max = 0.2, step = 0.01, value = 0.1)\n",
    "sigma_slider = widgets.FloatSlider(min = 0.1, max = 0.9, step = 0.1, value = 0.5)\n",
    "K_slider = widgets.IntSlider(min = 10, max = 60, step = 5, value = 30)\n",
    "time_slider = widgets.FloatSlider(min = 0.1, max = 2, step = 0.1, value = 1)\n",
    "\n",
    "display(widgets.interactive(plot, K = K_slider, typ = fixed(\"sc\"), S = fixed(40), \n",
    "                            time = time_slider, rf = rf_slider, sigma = sigma_slider))"
   ]
  },
  {
   "cell_type": "markdown",
   "metadata": {},
   "source": [
    "### Short Put"
   ]
  },
  {
   "cell_type": "code",
   "execution_count": null,
   "metadata": {},
   "outputs": [],
   "source": [
    "# Short Put\n",
    "rf_slider = widgets.FloatSlider(min = 0.01, max = 0.2, step = 0.01, value = 0.1)\n",
    "sigma_slider = widgets.FloatSlider(min = 0.1, max = 0.9, step = 0.1, value = 0.5)\n",
    "K_slider = widgets.IntSlider(min = 10, max = 60, step = 5, value = 30)\n",
    "time_slider = widgets.FloatSlider(min = 0.1, max = 2, step = 0.1, value = 1)\n",
    "\n",
    "display(widgets.interactive(plot, K = K_slider, typ = fixed(\"sp\"), S = fixed(40), \n",
    "                            time = time_slider, rf = rf_slider, sigma = sigma_slider))"
   ]
  },
  {
   "cell_type": "markdown",
   "metadata": {},
   "source": [
    "Try out the sliders.\n",
    "1. How does the price of a long call compare with its payoff?\n",
    "2. How does the price of a long put compate with its payoff? Why do you think this is different?\n",
    "3. If we were to plot the price of an American put, how do you think its price would compare to the payoff?\n",
    "4. How do each of the 4 parameters (strike, volatility, risk-free rate, time to expiration) affect prices?"
   ]
  },
  {
   "cell_type": "markdown",
   "metadata": {},
   "source": [
    "For the curious: https://aaronschlegel.me/black-scholes-formula-python.html"
   ]
  },
  {
   "cell_type": "markdown",
   "metadata": {},
   "source": [
    "---\n",
    "\n",
    "### Feedback\n",
    "\n",
    "Please fill out the feedback form below regarding this lecture."
   ]
  },
  {
   "cell_type": "code",
   "execution_count": null,
   "metadata": {
    "scrolled": true
   },
   "outputs": [],
   "source": [
    "feedback.ask()"
   ]
  },
  {
   "cell_type": "markdown",
   "metadata": {},
   "source": [
    " "
   ]
  }
 ],
 "metadata": {
  "kernelspec": {
   "display_name": "Python 3",
   "language": "python",
   "name": "python3"
  },
  "language_info": {
   "codemirror_mode": {
    "name": "ipython",
    "version": 3
   },
   "file_extension": ".py",
   "mimetype": "text/x-python",
   "name": "python",
   "nbconvert_exporter": "python",
   "pygments_lexer": "ipython3",
   "version": "3.6.5"
  },
  "varInspector": {
   "cols": {
    "lenName": 16,
    "lenType": 16,
    "lenVar": 40
   },
   "kernels_config": {
    "python": {
     "delete_cmd_postfix": "",
     "delete_cmd_prefix": "del ",
     "library": "var_list.py",
     "varRefreshCmd": "print(var_dic_list())"
    },
    "r": {
     "delete_cmd_postfix": ") ",
     "delete_cmd_prefix": "rm(",
     "library": "var_list.r",
     "varRefreshCmd": "cat(var_dic_list()) "
    }
   },
   "types_to_exclude": [
    "module",
    "function",
    "builtin_function_or_method",
    "instance",
    "_Feature"
   ],
   "window_display": false
  }
 },
 "nbformat": 4,
 "nbformat_minor": 2
}
