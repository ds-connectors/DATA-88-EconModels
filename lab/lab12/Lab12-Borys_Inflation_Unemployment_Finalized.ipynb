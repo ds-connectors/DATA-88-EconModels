{
 "cells": [
  {
   "cell_type": "markdown",
   "metadata": {},
   "source": [
    "# Will I find a job after college and what will my salary be worth: understanding inflation and unemployment\n",
    "\n",
    "#### By Anastasiya Borys (Goldman Sachs)\n",
    "\n",
    "### Content for Today\n",
    "* [Inflation and Why It Matters](#Inflation-and-Why-It-Matters)\n",
    "* [Unemployment and Why It Matters](#Unemployment-and-Why-It-Matters)\n",
    "* [Inflation and Unemployment Relationship](#Unemployment-and-Why-It-Matters)\n",
    "    * [Phillips Curve](#Phillips-curve)\n",
    "    * [Federal Reserve and Dual Mandate](#Federal-Reserve-Bank-and-Dual-Mandate)\n",
    "* [Data Deep Dive](#Data-Deep-Dive)\n",
    "    * [Visualizing the Relationship](#Visualizing-the-Relationship)\n",
    "    * [1970s and Stagflation](#1970s-and-Stagflation)\n",
    "    * [Where we Stand Today](#Given-Historically-Low-Unemployment-Today-Why-Is-Inflation-So-Low?)"
   ]
  },
  {
   "cell_type": "markdown",
   "metadata": {},
   "source": [
    "## Inflation and Why It Matters\n",
    "\n",
    "* Inflation is the rate at which the general level of prices for goods and services is rising. Another way to look at inflation is the rate at which the purchasing power of currency is falling.\n",
    "* This means that if you hold cash under the matress, that cash becomes less valuable over time (i.e. has less purchasing power) but if you own a house for example, inflation may help increase the value of your house. \n",
    "* If you have loans, you may not want to see a surprise decline in inflation as it means debts are more burdensome. \n",
    "* While Venezuelan-grade inflation is destructive, some inflation in the economy is needed to growth by promoting spending and investing instead of leaving the cash in the matress.\n",
    "* Some inflation is also useful to central banks because it helps them fight recessions. To spur borrowing, they can cut their policy rates to well below the rate of inflation and inflation needs to be above zero to do that.\n",
    "\n",
    "Let's take a closer look at inflation by examining two common indices that track inflation: CPI (consumer price index) and PCE (personal consumption expenditure). "
   ]
  },
  {
   "cell_type": "code",
   "execution_count": null,
   "metadata": {},
   "outputs": [],
   "source": [
    "import pandas as pd\n",
    "import matplotlib.pyplot as plt\n",
    "!pip install gs_quant\n",
    "from gs_quant.data import Dataset\n",
    "from gs_quant.api.fred.data import FredDataApi"
   ]
  },
  {
   "cell_type": "code",
   "execution_count": null,
   "metadata": {},
   "outputs": [],
   "source": [
    "# FRED API key, create one here: https://research.stlouisfed.org/docs/api/api_key.html\n",
    "FRED_API_KEY = '76b1c94ee18a66accd47b0aae0a2fe32'\n",
    "fred_API = FredDataApi(api_key=FRED_API_KEY)"
   ]
  },
  {
   "cell_type": "code",
   "execution_count": null,
   "metadata": {},
   "outputs": [],
   "source": [
    "# Pull the personal consumption expenditure data set (https://fred.stlouisfed.org/series/PCE)\n",
    "PCE = Dataset('PCE', fred_API).get_data()\n",
    "PCE.plot(figsize=(10, 6), title='Personal Consumption Expenditure')\n",
    "\n",
    "# Put consumer price index for all urban consumers (https://fred.stlouisfed.org/series/CPIAUCSL)\n",
    "CPI = Dataset('CPIAUCSL', fred_API).get_data()\n",
    "CPI.plot(figsize=(10, 6), title='Consumer Price Index')"
   ]
  },
  {
   "cell_type": "markdown",
   "metadata": {},
   "source": [
    "### Unemployment and Why It Matters\n",
    "* Unemployment happens when workers who want to work are unable to find jobs. High unemployment may translate into lower economic output and lower levels of economic growth.\n",
    "* High rates of unemployment are a signal of economic distress. Extremely low rates of unemployment may signal an overheated economy.\n",
    "\n",
    "To look at unemployment, we will look at number of unemployed at percentage of the labor force."
   ]
  },
  {
   "cell_type": "code",
   "execution_count": null,
   "metadata": {},
   "outputs": [],
   "source": [
    "# Pull unemployment rate data set and visualize (https://fred.stlouisfed.org/series/UNRATE)\n",
    "UN = Dataset('UNRATE', fred_API).get_data()\n",
    "UN.plot(figsize=(10, 6), title='Historical Unemployment Rate')\n",
    "UN.tail(20).plot(figsize=(10, 6), title='Recent History - Unemployment Rate')\n",
    "UN.tail(4)"
   ]
  },
  {
   "cell_type": "markdown",
   "metadata": {},
   "source": [
    "Note this is a monthly number - let's look at initial claims which are reports weekly. Initial claims are people who are newly unemployed and just filed for unemployment (as opposed to people who have been unemployed and are still looking)."
   ]
  },
  {
   "cell_type": "code",
   "execution_count": null,
   "metadata": {},
   "outputs": [],
   "source": [
    "# pull and plot initial claims https://fred.stlouisfed.org/series/ICSA\n",
    "JC = Dataset('ICSA', fred_API).get_data()\n",
    "JC.plot(figsize=(10, 6), title='Initial Claims')\n",
    "JC.tail(8) / 1e6  # in millions"
   ]
  },
  {
   "cell_type": "markdown",
   "metadata": {},
   "source": [
    "What does this tell us about where unemployment rate for April will be?"
   ]
  },
  {
   "cell_type": "markdown",
   "metadata": {},
   "source": [
    "## Inflation and Unemployment Relationship\n",
    "\n",
    "When unemployment is low, the pool of unemployed workers subsequently decreases and companies increase wages to compete and attract a smaller talent pool. The corporate cost of wages increases as companies now have to pay higher wages so companies pass along those costs to consumers in the form of price increases. What does the cycle look like when unemployment is high?\n"
   ]
  },
  {
   "cell_type": "markdown",
   "metadata": {},
   "source": [
    "### Phillips curve\n",
    "\n",
    "The Phillips curve is an economic concept developed by A. W. Phillips stating that inflation and unemployment have a stable and inverse relationship. It's a simple economic model to describe the intuition above. \n",
    "\n",
    "<img src=\"https://www.economicshelp.org/wp-content/uploads/2013/02/phillips-curve.png\" width=\"400\">"
   ]
  },
  {
   "cell_type": "markdown",
   "metadata": {},
   "source": [
    "### Federal Reserve Bank and Dual Mandate\n",
    "\n",
    "Since 1977, the Federal Reserve has operated under a mandate from Congress to \"promote effectively the goals of maximum employment, stable prices, and moderate long term interest rates\" — what is now commonly referred to as the Fed's \"dual mandate.\" How can the FED leverage Phillips curve to achieve this?"
   ]
  },
  {
   "cell_type": "markdown",
   "metadata": {},
   "source": [
    "## Data Deep Dive\n",
    "\n",
    "First lets pull all the data series we examined so far into a pandas dataframe."
   ]
  },
  {
   "cell_type": "code",
   "execution_count": null,
   "metadata": {},
   "outputs": [],
   "source": [
    "data = pd.concat([PCE, UN, CPI], axis=1)\n",
    "data.columns = ['PCE', 'UN', 'CPI']  # label the columns\n",
    "data.head()"
   ]
  },
  {
   "cell_type": "markdown",
   "metadata": {},
   "source": [
    "Let's now visualize the historical distribution of the data to quickly to identify the gaps. As we can see below, UN and CPI are available since the 1950's, PCE since the '60s and AHE is only available since 2000's."
   ]
  },
  {
   "cell_type": "code",
   "execution_count": null,
   "metadata": {},
   "outputs": [],
   "source": [
    "import seaborn as sns\n",
    "sns.set(rc={'figure.figsize': (10, 6)})\n",
    "# visually examine where the data gaps are using a heatmap\n",
    "sns.heatmap(data.isnull(), cbar=False) "
   ]
  },
  {
   "cell_type": "markdown",
   "metadata": {},
   "source": [
    "Let's focus our analysis on unemployment and PCE. Since as we saw above, these series are available for different intervals, we will drop any values that are not available. Note, in most data science work dealing with missing data and cleaning data can be a much more significant part of the process!"
   ]
  },
  {
   "cell_type": "code",
   "execution_count": null,
   "metadata": {},
   "outputs": [],
   "source": [
    "data = data[['UN', 'PCE']]  # focus on unemployment and PCE\n",
    "data.dropna(inplace=True)  # remove missing values\n",
    "data.head()"
   ]
  },
  {
   "cell_type": "markdown",
   "metadata": {},
   "source": [
    "Mind the units - PCE is a level but Phillips curve talks about rates, not levels. Let's use the returns function to transform the level to a rate."
   ]
  },
  {
   "cell_type": "code",
   "execution_count": null,
   "metadata": {},
   "outputs": [],
   "source": [
    "from gs_quant.timeseries import returns\n",
    "data['PCE_YOY'] = returns(data.PCE, 12) * 100  # 12 months in a year"
   ]
  },
  {
   "cell_type": "markdown",
   "metadata": {},
   "source": [
    "### Visualizing the Relationship \n",
    "\n",
    "Let's start by looking at the relationship through two different plots: kernel density estimation ('kde') and regression ('reg') to get a sense for where most of the data is concentrated, how it's distributed and the direction of the relationship."
   ]
  },
  {
   "cell_type": "code",
   "execution_count": null,
   "metadata": {},
   "outputs": [],
   "source": [
    "sns.jointplot('UN', 'PCE_YOY', data=data, kind='kde')  # kernel density estimation\n",
    "sns.jointplot('UN', 'PCE_YOY', data=data, kind='reg')  # regression"
   ]
  },
  {
   "cell_type": "markdown",
   "metadata": {},
   "source": [
    "Where is the Phillips curve? Let's examine the relationship in more detail by looking at each decade and the global financial crisis separately."
   ]
  },
  {
   "cell_type": "code",
   "execution_count": null,
   "metadata": {},
   "outputs": [],
   "source": [
    "from datetime import datetime\n",
    "def label_period(row):\n",
    "    row_date = row.name \n",
    "    if row_date < datetime.strptime('1970-01-01', '%Y-%m-%d'):\n",
    "        return '60s'\n",
    "    if row_date < datetime.strptime('1980-01-01', '%Y-%m-%d'):\n",
    "        return '70s'\n",
    "    if row_date < datetime.strptime('1990-01-01', '%Y-%m-%d'):\n",
    "        return '80s'\n",
    "    if row_date < datetime.strptime('2000-01-01', '%Y-%m-%d'):\n",
    "        return '90s'\n",
    "    if row_date < datetime.strptime('2007-07-01', '%Y-%m-%d'):\n",
    "        return '00s precrisis'\n",
    "    if row_date < datetime.strptime('2009-03-01', '%Y-%m-%d'):\n",
    "        return 'gfc'\n",
    "    else:\n",
    "        return 'recent history'\n",
    "\n",
    "# divide data into decades, separating out global financial crisis\n",
    "data['period'] = data.apply(label_period,axis=1)  "
   ]
  },
  {
   "cell_type": "markdown",
   "metadata": {},
   "source": [
    "Let's now look at the scatter plot color-labeled by the periods we defined. Do any periods stand out?"
   ]
  },
  {
   "cell_type": "code",
   "execution_count": null,
   "metadata": {},
   "outputs": [],
   "source": [
    "sns.scatterplot(x='UN', y='PCE_YOY', data=data, hue='period')  # scatter and color by period"
   ]
  },
  {
   "cell_type": "markdown",
   "metadata": {},
   "source": [
    "Let's more closely examine the relationship in each defined period by looking at a linear model."
   ]
  },
  {
   "cell_type": "code",
   "execution_count": null,
   "metadata": {},
   "outputs": [],
   "source": [
    "# look at linear models over the period\n",
    "sns.lmplot(x='PCE_YOY', y='UN', col='period', data=data, aspect=.5)"
   ]
  },
  {
   "cell_type": "markdown",
   "metadata": {},
   "source": [
    "### 1970s and Stagflation\n",
    "Looking at the charts above, the relationship between unemployment and inflation turns positive in the 1970s contradicting the theory behind the Phillips curve! There is actually a term for what happened in the 70's: stagflation. Stagflation occurs when an economy experiences stagnant economic growth, high unemployment and high price inflation. There are many possible explanations for why this happened including a 1973 embargo that dramatically increased the price of oil, new regulations and removing the last remains of the gold standard."
   ]
  },
  {
   "cell_type": "markdown",
   "metadata": {},
   "source": [
    "### Given Historically Low Unemployment (in the recent past) Why Is Inflation So Low?\n",
    "\n",
    "As we discussed at the beginning, some inflation is good for a healthy economy and so the question of what is causing inflation to stay low has been central to economists and central banks. Although there is no clear answer, As Peter Coy points out in [this article](https://www.bloomberg.com/news/articles/2019-04-17/did-capitalism-kill-inflation) published 4/17/19, 'Researchers are finding that low inflation is in large part a consequence of globalization or automation or deunionization—or a combination of all three—which undermine workers’ power to bargain for higher wages.'\n",
    "\n",
    "<img src=\"https://www.chicagofed.org/~/media/images/research/dual-mandate/bullseye-simple-png.png\" width=\"400\">"
   ]
  },
  {
   "cell_type": "markdown",
   "metadata": {},
   "source": [
    "### Given unemployment is projected to go to double digits where do we expect inflation to go? What does this mean foor holders of debt (like student loans)? What can the FED do given the dual mandate?"
   ]
  },
  {
   "cell_type": "code",
   "execution_count": null,
   "metadata": {},
   "outputs": [],
   "source": []
  }
 ],
 "metadata": {
  "kernelspec": {
   "display_name": "Python 3",
   "language": "python",
   "name": "python3"
  },
  "language_info": {
   "codemirror_mode": {
    "name": "ipython",
    "version": 3
   },
   "file_extension": ".py",
   "mimetype": "text/x-python",
   "name": "python",
   "nbconvert_exporter": "python",
   "pygments_lexer": "ipython3",
   "version": "3.6.9"
  }
 },
 "nbformat": 4,
 "nbformat_minor": 4
}
