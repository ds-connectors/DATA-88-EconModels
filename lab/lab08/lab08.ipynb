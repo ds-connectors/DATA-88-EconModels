{
 "cells": [
  {
   "cell_type": "markdown",
   "metadata": {},
   "source": [
    "<table style=\"width: 100%;\">\n",
    "    <tr style=\"background-color: transparent;\"><td>\n",
    "        <img src=\"https://d8a-88.github.io/econ-fa19/assets/images/blue_text.png\" width=\"250px\" style=\"margin-left: 0;\" />\n",
    "    </td><td>\n",
    "        <p style=\"text-align: right; font-size: 10pt;\"><strong>Economic Models</strong>, Spring 2020<br>\n",
    "            Dr. Eric Van Dusen <br>\n",
    "            Alan Liang <br>\n",
    "            Amal Bhatnagar <br> </p></td></tr>\n",
    "</table>"
   ]
  },
  {
   "cell_type": "markdown",
   "metadata": {},
   "source": [
    "# Lab 8: Inequality"
   ]
  },
  {
   "cell_type": "code",
   "execution_count": null,
   "metadata": {},
   "outputs": [],
   "source": [
    "from datascience import *\n",
    "import matplotlib.pyplot as plt\n",
    "import numpy as np\n",
    "plt.style.use('fivethirtyeight')\n",
    "from mpl_toolkits.mplot3d import Axes3D\n",
    "import nbforms\n",
    "feedback = nbforms.Form(\"feedback_form_config.json\")\n",
    "%matplotlib inline"
   ]
  },
  {
   "cell_type": "markdown",
   "metadata": {},
   "source": [
    "## Top Marginal Tax Rates and Income Inequality"
   ]
  },
  {
   "cell_type": "markdown",
   "metadata": {},
   "source": [
    "Let's first read in the file `toptaxrate.csv`, which records the top marginal tax rate in the United States from 1913. "
   ]
  },
  {
   "cell_type": "code",
   "execution_count": null,
   "metadata": {},
   "outputs": [],
   "source": [
    "toptax = Table.read_table(\"toptaxrate.csv\")\n",
    "toptax"
   ]
  },
  {
   "cell_type": "markdown",
   "metadata": {},
   "source": [
    "Now let's read in `gini.csv`, which records the US Gini coefficient from 1947."
   ]
  },
  {
   "cell_type": "code",
   "execution_count": null,
   "metadata": {},
   "outputs": [],
   "source": [
    "gini = Table.read_table(\"gini.csv\")\n",
    "gini"
   ]
  },
  {
   "cell_type": "markdown",
   "metadata": {},
   "source": [
    "**Question 1:**\n",
    "Let's combine the information of the 2 tables into 1 table called `us`.\n",
    "\n",
    "_Hint_: Use `Table.join`."
   ]
  },
  {
   "cell_type": "code",
   "execution_count": null,
   "metadata": {},
   "outputs": [],
   "source": [
    "us = ...\n",
    "us"
   ]
  },
  {
   "cell_type": "code",
   "execution_count": null,
   "metadata": {},
   "outputs": [],
   "source": [
    "## Solution ##\n",
    "us = toptax.join(\"Year\", gini, \"Year\")\n",
    "us"
   ]
  },
  {
   "cell_type": "markdown",
   "metadata": {},
   "source": [
    "**Question 2:**\n",
    "Let's try to visualize the change in tax rates over time. What do you observe?"
   ]
  },
  {
   "cell_type": "code",
   "execution_count": null,
   "metadata": {},
   "outputs": [],
   "source": [
    "us.plot(\"Year\", \"Tax Rate (%)\")"
   ]
  },
  {
   "cell_type": "code",
   "execution_count": null,
   "metadata": {},
   "outputs": [],
   "source": [
    "us.plot(\"Year\", \"Gini\")"
   ]
  },
  {
   "cell_type": "markdown",
   "metadata": {},
   "source": [
    "## Visualizing Tax Brackets"
   ]
  },
  {
   "cell_type": "markdown",
   "metadata": {},
   "source": [
    "Let's read in `taxbrackets.csv`, which records all the tax brackets every year. Note that the tax brackets are adjusted for inflation in today dollars to allow us to make a more direct comparison."
   ]
  },
  {
   "cell_type": "code",
   "execution_count": null,
   "metadata": {},
   "outputs": [],
   "source": [
    "brackets = Table.read_table(\"taxbrackets.csv\")\n",
    "brackets"
   ]
  },
  {
   "cell_type": "markdown",
   "metadata": {},
   "source": [
    "**Question 3:** Let's first take a look at all tax brackets over time. Whereas in the previous section we only looked at the top bracket, all of the tax brackets are now included. What do you observe? Are you able to tell apart 3 somewhat distinct periods of tax policy?"
   ]
  },
  {
   "cell_type": "code",
   "execution_count": null,
   "metadata": {},
   "outputs": [],
   "source": [
    "brackets.scatter(\"Year\", \"Tax Rate\")"
   ]
  },
  {
   "cell_type": "markdown",
   "metadata": {},
   "source": [
    "Let's visualize our brackets and tax rates. We will categorically divide up our tax data by time into 3 periods:\n",
    "\n",
    "* **Red:** *Pre-LBJ era (before 1965)*, signified by very high tax rates and many brackets.\n",
    "* **Green:** *Pre-Reagan era (before 1982)*, categorized by considerably lower tax rates by around 20% than before across the board, but still with many tax brackets.\n",
    "* **Blue:** *Reagan-Bush era*, even lower tax rates and also greatly reduced the amount of tax brackets.\n",
    "    \n",
    "These differences in tax rates in each period can be seen in the graph directly below, which plots all tax rates with respect to time."
   ]
  },
  {
   "cell_type": "code",
   "execution_count": null,
   "metadata": {},
   "outputs": [],
   "source": [
    "brackets.scatter(\"Year\", \"Tax Rate\")\n",
    "plt.axvline(x=1964, alpha = 0.3, c = \"red\")\n",
    "plt.axvline(x=1981, alpha = 0.3, c = \"green\");"
   ]
  },
  {
   "cell_type": "markdown",
   "metadata": {},
   "source": [
    "Let's combine all of our data into a single table."
   ]
  },
  {
   "cell_type": "code",
   "execution_count": null,
   "metadata": {},
   "outputs": [],
   "source": [
    "combined = us.join(\"Year\", brackets, \"Year\")\n",
    "combined"
   ]
  },
  {
   "cell_type": "code",
   "execution_count": null,
   "metadata": {},
   "outputs": [],
   "source": [
    "# This code adds a column called color into the table, so we can better visualize it later.\n",
    "color = make_array()\n",
    "for i in range(combined.num_rows):\n",
    "    if combined.row(i)[0] <= 1964:\n",
    "        color = np.append(color, \"red\")\n",
    "    elif combined.row(i)[0] <= 1981:\n",
    "        color = np.append(color, \"green\")\n",
    "    else:\n",
    "        color = np.append(color, \"blue\")\n",
    "combined_colors = combined.with_columns(\"Color\", color)"
   ]
  },
  {
   "cell_type": "markdown",
   "metadata": {},
   "source": [
    "**Question 4:** Now let's add the Gini coefficient into the data."
   ]
  },
  {
   "cell_type": "code",
   "execution_count": null,
   "metadata": {},
   "outputs": [],
   "source": [
    "ax = plt.figure(figsize=(8,8)).add_subplot(111, projection='3d')\n",
    "ax.scatter(combined_colors.column(\"Income bracket\"), \n",
    "           combined_colors.column(\"Tax Rate\"), \n",
    "           combined_colors.column(\"Gini\"), c = combined_colors.column(5));"
   ]
  },
  {
   "cell_type": "markdown",
   "metadata": {},
   "source": [
    "How have US income tax brackets changed throughout the last 70 years? How is this related with changes in the gini coefficient?"
   ]
  },
  {
   "cell_type": "markdown",
   "metadata": {},
   "source": [
    "---\n",
    "\n",
    "### Feedback\n",
    "\n",
    "Please fill out the feedback form below regarding this lecture."
   ]
  },
  {
   "cell_type": "code",
   "execution_count": null,
   "metadata": {
    "scrolled": true
   },
   "outputs": [],
   "source": [
    "feedback.ask()"
   ]
  },
  {
   "cell_type": "markdown",
   "metadata": {},
   "source": [
    " "
   ]
  }
 ],
 "metadata": {
  "kernelspec": {
   "display_name": "Python 3",
   "language": "python",
   "name": "python3"
  },
  "language_info": {
   "codemirror_mode": {
    "name": "ipython",
    "version": 3
   },
   "file_extension": ".py",
   "mimetype": "text/x-python",
   "name": "python",
   "nbconvert_exporter": "python",
   "pygments_lexer": "ipython3",
   "version": "3.6.5"
  },
  "varInspector": {
   "cols": {
    "lenName": 16,
    "lenType": 16,
    "lenVar": 40
   },
   "kernels_config": {
    "python": {
     "delete_cmd_postfix": "",
     "delete_cmd_prefix": "del ",
     "library": "var_list.py",
     "varRefreshCmd": "print(var_dic_list())"
    },
    "r": {
     "delete_cmd_postfix": ") ",
     "delete_cmd_prefix": "rm(",
     "library": "var_list.r",
     "varRefreshCmd": "cat(var_dic_list()) "
    }
   },
   "types_to_exclude": [
    "module",
    "function",
    "builtin_function_or_method",
    "instance",
    "_Feature"
   ],
   "window_display": false
  }
 },
 "nbformat": 4,
 "nbformat_minor": 4
}
