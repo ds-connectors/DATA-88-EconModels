{
 "cells": [
  {
   "cell_type": "markdown",
   "metadata": {},
   "source": [
    "<table style=\"width: 100%;\">\n",
    "    <tr style=\"background-color: transparent;\"><td>\n",
    "        <img src=\"https://d8a-88.github.io/econ-fa19/assets/images/blue_text.png\" width=\"250px\" style=\"margin-left: 0;\" />\n",
    "    </td><td>\n",
    "        <p style=\"text-align: right; font-size: 12pt;\"><strong>Economic Models</strong>, Spring 2020<br>\n",
    "            Dr. Eric Van Dusen <br>\n",
    "        Shashank Dalmia</p></td></tr>\n",
    "</table>"
   ]
  },
  {
   "cell_type": "code",
   "execution_count": null,
   "metadata": {},
   "outputs": [],
   "source": [
    "!pip install -Uq --no-cache-dir --upgrade nbforms==0.4.3\n",
    "from datascience import *\n",
    "import matplotlib.pyplot as plt\n",
    "%matplotlib inline\n",
    "import numpy as np\n",
    "import pandas as pd\n",
    "from utils import *\n",
    "plt.style.use('seaborn-muted')\n",
    "import sympy"
   ]
  },
  {
   "cell_type": "code",
   "execution_count": null,
   "metadata": {},
   "outputs": [],
   "source": [
    "from __future__ import print_function\n",
    "from ipywidgets import interact, interactive, fixed, interact_manual\n",
    "import ipywidgets as widgets\n",
    "from matplotlib import patches\n",
    "import csaps\n",
    "import nbforms\n",
    "feedback = nbforms.Notebook(\"feedback_form_config.json\")"
   ]
  },
  {
   "cell_type": "markdown",
   "metadata": {},
   "source": [
    "---"
   ]
  },
  {
   "cell_type": "markdown",
   "metadata": {},
   "source": [
    "Welcome to Week 2 of Data 88. This week is we will go over the Supply Curve and Firm Behavior as well as Elasticities."
   ]
  },
  {
   "cell_type": "markdown",
   "metadata": {},
   "source": [
    "## The Supply Curve"
   ]
  },
  {
   "cell_type": "markdown",
   "metadata": {},
   "source": [
    "The supply of a commodity refers to the quantity for which producers or sellers are willing produce and offer for sale, at a particular price in some given period of time."
   ]
  },
  {
   "cell_type": "markdown",
   "metadata": {},
   "source": [
    "To answer questions like *\\\"at a given price, what will be the supply of a good in the market?\\\"*, we need to know the market supply curve. A supply curve is simply a curve (or graph) which shows the quantites of a good that can be produced and the prices they will be sold at.\n",
    "\n",
    "It is good to discern between individual and market supply. **Individual supply** refers to the supply offered by a single firm or producer, while **market supply** refers to the supply offered by all the firms or producers in a market. It is the horizontal summation of the individual supply curves in the market.\n",
    "\n",
    "The following table and graph will give an example of a market with two firm: A and B."
   ]
  },
  {
   "cell_type": "code",
   "execution_count": null,
   "metadata": {},
   "outputs": [],
   "source": [
    "market_supply = Table().with_columns(\"Price\", make_array(2, 3, 4),\n",
    "                                     \"Quantity supplied by A\", make_array(20, 30, 40),\n",
    "                                     \"Quantity supplied by B\", make_array(30, 40, 50),\n",
    "                                     \"Market Supply\", make_array(50, 70, 90))\n",
    "market_supply"
   ]
  },
  {
   "cell_type": "code",
   "execution_count": null,
   "metadata": {},
   "outputs": [],
   "source": [
    "plt.plot(market_supply.column(1), market_supply.column(0), marker='o')\n",
    "plt.plot(market_supply.column(2), market_supply.column(0), marker='o')\n",
    "plt.plot(market_supply.column(3), market_supply.column(0), marker='o')\n",
    "plt.xlabel('Quantity')\n",
    "plt.ylabel('Price')\n",
    "plt.title('Market Supply')\n",
    "plt.legend(make_array(\"Quantity supplied by A\",\"Quantity supplied by B\",\"Market Supply\"), bbox_to_anchor=(1.04,1), loc=\"center left\")\n",
    "\n",
    "plt.show()"
   ]
  },
  {
   "cell_type": "markdown",
   "metadata": {},
   "source": [
    "Market behaviour relating to supply is based on the behaviour of the individual firms that comprise it. Now, how does an individual firm make its decision about production?\n",
    "\n",
    "It does so based on the costs associated with production. If the price of a good is enough to recover the costs, the firm produces. Generally, costs increase with the quantity of production. So, to induce producers to increase the quantity supplied, the prices need to increase to compensate for the increased costs."
   ]
  },
  {
   "cell_type": "markdown",
   "metadata": {},
   "source": [
    "## Costs and Firm Behavior"
   ]
  },
  {
   "cell_type": "markdown",
   "metadata": {},
   "source": [
    "We will split costs into two categories: **Fixed costs** and **Variable costs**."
   ]
  },
  {
   "cell_type": "markdown",
   "metadata": {},
   "source": [
    "Fixed Costs are costs associated with fixed factors (or inputs) of production. For example, land for a factory, capital equipment like machinery, etc. The quantity of these inputs cannot be changed quickly in the short term. A factory owner cannot purchase land quickly enough to ramp up production in a week. A key point to note is that fixed costs are irrespective of the quantity, i.e., they do not change with the quantity produced."
   ]
  },
  {
   "cell_type": "markdown",
   "metadata": {},
   "source": [
    "Variable Costs are costs associated with variable factors (or inputs) of production. For example, labor, raw materials, etc. The quantity of these inputs can be changed quickly in the short term to adjust supply. A factory owner can hire more laborers or purchase more raw material to increase output. Variable costs change as the supply changes."
   ]
  },
  {
   "cell_type": "markdown",
   "metadata": {},
   "source": [
    "We will create a table with the following firm costs:\n",
    "\n",
    "* **Output:** Units produced and supplied\n",
    "* **Total Fixed Cost (TFC):** Cost incurred by firm on usage of all fixed factors.\n",
    "* **Total Variable Cost (TVC):** Cost incurred by firm on usage of all variable factors.\n",
    "* **Total Cost (TC):** Sum of the total fixed and variable costs\n",
    "* **Marginal Cost (MC):** Addition to total cost as one more unit of output is produced\n",
    "* **Average Fixed Cost (AFC):** Cost per unit of fixed factors\n",
    "* **Average Variable Cost (AVC):** Cost per unit of variable factors\n",
    "* **Average Total Cost (ATC):** Total cost per unit"
   ]
  },
  {
   "cell_type": "code",
   "execution_count": null,
   "metadata": {},
   "outputs": [],
   "source": [
    "individual_firm_costs = Table.read_table('individual_firm_costs.csv')\n",
    "individual_firm_costs.show()"
   ]
  },
  {
   "cell_type": "markdown",
   "metadata": {},
   "source": [
    "First, let's calculate `total_cost`, which is the sum of total fixed cost and total variable cost."
   ]
  },
  {
   "cell_type": "code",
   "execution_count": null,
   "metadata": {},
   "outputs": [],
   "source": [
    "total_cost = ...\n",
    "total_cost"
   ]
  },
  {
   "cell_type": "markdown",
   "metadata": {},
   "source": [
    "We will now add the total costs array to the table."
   ]
  },
  {
   "cell_type": "code",
   "execution_count": null,
   "metadata": {},
   "outputs": [],
   "source": [
    "# adding the array to the table\n",
    "individual_firm_costs = ...\n",
    "individual_firm_costs"
   ]
  },
  {
   "cell_type": "markdown",
   "metadata": {},
   "source": [
    "Average Fixed Cost can be calculated as the Total Fixed Costs divided by the output."
   ]
  },
  {
   "cell_type": "code",
   "execution_count": null,
   "metadata": {},
   "outputs": [],
   "source": [
    "# At zero level of output, we would by dividing by zero, which is invalid.\n",
    "# So we have to manually fix that\n",
    "average_fixed_cost = ...\n",
    "...\n",
    "average_fixed_cost"
   ]
  },
  {
   "cell_type": "code",
   "execution_count": null,
   "metadata": {},
   "outputs": [],
   "source": [
    "import warnings\n",
    "warnings.filterwarnings(\"ignore\")"
   ]
  },
  {
   "cell_type": "markdown",
   "metadata": {},
   "source": [
    "Now we will add the AFC column back into the table."
   ]
  },
  {
   "cell_type": "code",
   "execution_count": null,
   "metadata": {},
   "outputs": [],
   "source": [
    "individual_firm_costs = individual_firm_costs.with_column(\"Average Fixed Cost\", average_fixed_cost)\n",
    "individual_firm_costs"
   ]
  },
  {
   "cell_type": "markdown",
   "metadata": {},
   "source": [
    "Similarly, Average Variable Cost can be calculated as the Total Variable Cost divided by the output."
   ]
  },
  {
   "cell_type": "code",
   "execution_count": null,
   "metadata": {},
   "outputs": [],
   "source": [
    "average_variable_cost = ...\n",
    "...\n",
    "average_variable_cost"
   ]
  },
  {
   "cell_type": "markdown",
   "metadata": {},
   "source": [
    "Now we will add the AVC column to the table."
   ]
  },
  {
   "cell_type": "code",
   "execution_count": null,
   "metadata": {},
   "outputs": [],
   "source": [
    "individual_firm_costs = ...\n",
    "individual_firm_costs"
   ]
  },
  {
   "cell_type": "markdown",
   "metadata": {},
   "source": [
    "Similarly, Average Total Cost can be calculated as the Total Cost divided by the output."
   ]
  },
  {
   "cell_type": "code",
   "execution_count": null,
   "metadata": {},
   "outputs": [],
   "source": [
    "average_total_cost = individual_firm_costs.column(\"Total Cost\")/individual_firm_costs.column(\"Output\")\n",
    "average_total_cost[0] = 0\n",
    "average_total_cost"
   ]
  },
  {
   "cell_type": "code",
   "execution_count": null,
   "metadata": {},
   "outputs": [],
   "source": [
    "individual_firm_costs = individual_firm_costs.with_column(\"Average Total Cost\", average_total_cost)\n",
    "individual_firm_costs"
   ]
  },
  {
   "cell_type": "markdown",
   "metadata": {},
   "source": [
    "Marginal Cost can be calculated as the difference between Total Cost at the current output level and Total Cost at the previous output level (or TVC, as TFC is fixed).\n",
    "\n",
    "For this we are going to use the function `np.diff`. You can read about it on http://data8.org/sp19/python-reference.html"
   ]
  },
  {
   "cell_type": "code",
   "execution_count": null,
   "metadata": {},
   "outputs": [],
   "source": [
    "marginal_cost = ...\n",
    "...\n",
    "marginal_cost"
   ]
  },
  {
   "cell_type": "markdown",
   "metadata": {},
   "source": [
    "Once again, we add the MC column back to the table."
   ]
  },
  {
   "cell_type": "code",
   "execution_count": null,
   "metadata": {},
   "outputs": [],
   "source": [
    "individual_firm_costs = ...\n",
    "individual_firm_costs"
   ]
  },
  {
   "cell_type": "markdown",
   "metadata": {},
   "source": [
    "Let's look at some plots!"
   ]
  },
  {
   "cell_type": "code",
   "execution_count": null,
   "metadata": {},
   "outputs": [],
   "source": [
    "plt.plot(individual_firm_costs.column(\"Output\"), individual_firm_costs.column(\"Total Fixed Cost\"), marker='o')\n",
    "plt.plot(individual_firm_costs.column(\"Output\"), individual_firm_costs.column(\"Total Variable Cost\"), marker='o')\n",
    "plt.plot(individual_firm_costs.column(\"Output\"), individual_firm_costs.column(\"Total Cost\"), marker='o')\n",
    "plt.xlabel('Quantity')\n",
    "plt.ylabel('Cost')\n",
    "plt.title('TFC, TVC and TC')\n",
    "plt.legend(make_array(\"Total Fixed Cost\",\"Total Variable Cost\",\"Total Cost\"))\n",
    "\n",
    "plt.show()"
   ]
  },
  {
   "cell_type": "markdown",
   "metadata": {},
   "source": [
    "What have we observed?\n",
    "\n",
    "1. ...\n",
    "2. ..."
   ]
  },
  {
   "cell_type": "code",
   "execution_count": null,
   "metadata": {},
   "outputs": [],
   "source": [
    "plt.plot(individual_firm_costs.column(\"Output\")[1:], individual_firm_costs.column(\"Average Fixed Cost\")[1:], marker='o')\n",
    "plt.plot(individual_firm_costs.column(\"Output\")[1:], individual_firm_costs.column(\"Average Variable Cost\")[1:], marker='o')\n",
    "plt.plot(individual_firm_costs.column(\"Output\")[1:], individual_firm_costs.column(\"Average Total Cost\")[1:], marker='o')\n",
    "plt.xlabel('Quantity')\n",
    "plt.ylabel('Cost')\n",
    "plt.title('AFC, AVC and ATC')\n",
    "plt.legend(make_array(\"Average Fixed Cost\",\"Average Variable Cost\",\"Average Total Cost\"))\n",
    "\n",
    "plt.show()"
   ]
  },
  {
   "cell_type": "code",
   "execution_count": null,
   "metadata": {},
   "outputs": [],
   "source": [
    "# You do not need to understand what the code below is doing. \n",
    "output = individual_firm_costs.column(\"Output\")[1:]\n",
    "mc = individual_firm_costs.column(\"Marginal Cost\")[1:]\n",
    "avc = individual_firm_costs.column(\"Average Variable Cost\")[1:]\n",
    "atc = individual_firm_costs.column(\"Average Total Cost\")[1:]\n",
    "\n",
    "sp_mc = csaps.UnivariateCubicSmoothingSpline(output, mc, smooth=0.85)\n",
    "sp_avc = csaps.UnivariateCubicSmoothingSpline(output, avc, smooth=0.85)\n",
    "sp_atc = csaps.UnivariateCubicSmoothingSpline(output, atc, smooth=0.85)\n",
    "\n",
    "output_s = np.linspace(output.min(), output.max(), 150)\n",
    "mc_s = sp_mc(output_s)\n",
    "avc_s = sp_avc(output_s)\n",
    "atc_s = sp_atc(output_s)\n",
    "\n",
    "plt.plot(output, mc, marker = 'o', color = 'tab:blue')\n",
    "plt.plot(output_s, mc_s, alpha=0.7, lw = 2, label='_nolegend_', color = 'tab:blue')\n",
    "plt.plot(output, avc, marker = 'o', color = 'tab:green')\n",
    "plt.plot(output_s, avc_s, alpha=0.7, lw = 2, label='_nolegend_', color = 'tab:green')\n",
    "plt.plot(output, atc, marker = 'o', color = 'tab:orange')\n",
    "plt.plot(output_s, atc_s, alpha=0.7, lw = 2, label='_nolegend_', color = 'tab:orange')\n",
    "plt.hlines(y=min(avc), xmin = 6, xmax = 8, lw=3, color='r', zorder = 10)\n",
    "plt.hlines(y=min(atc), xmin = 7.5, xmax = 9.5, lw=3, color='r', zorder = 10)\n",
    "plt.xlabel('Quantity')\n",
    "plt.ylabel('Cost')\n",
    "plt.title('MC, AVC and ATC')\n",
    "plt.legend(make_array(\"Marginal Cost\",\"Average Variable Cost\",\"Average Total Cost\"))\n",
    "\n",
    "plt.show()"
   ]
  },
  {
   "cell_type": "markdown",
   "metadata": {},
   "source": [
    "Notice something important: _A company decides to produce if it the price is greater than or equal to its Average Variable Cost._\n",
    "\n",
    "There are 3 different scenarios:\n",
    "1. A firm chooses to not produce at all\n",
    "2. A firm chooses to produce at a loss (minimizing quantity)\n",
    "3. A firm chooses to produce at a profit. \n",
    "\n",
    "Play around with the slider to see them."
   ]
  },
  {
   "cell_type": "code",
   "execution_count": null,
   "metadata": {},
   "outputs": [],
   "source": [
    "interact(lambda price: firm_behaviour(price, individual_firm_costs), price=widgets.IntSlider(min=20,max=60,step=1,value=25));"
   ]
  },
  {
   "cell_type": "markdown",
   "metadata": {},
   "source": [
    "In the above example if the price is 24 for any amount of production, the firm will lose money. In this case, they shut down and the loss is limited to its fixed costs.\n",
    "\n",
    "If the price is above the minimum of the AVC (25 in the example), for some amount of production, the firm will maximise its profits (i.e. minimise its losses). Profits are Total Revenue minus Total Costs, where Total Revenue is Price times Quantity."
   ]
  },
  {
   "cell_type": "markdown",
   "metadata": {},
   "source": [
    "Therefore, based on the price, each firm looks at its costs and makes a decision on whether to produce. At low prices, only the firms with the lowest production costs produce. As the price increases, firms with higher production costs find it feasible to produce and begin to supply. Thus, the market supply rises with higher prices. Firms with lower costs make extra profits. "
   ]
  },
  {
   "cell_type": "code",
   "execution_count": null,
   "metadata": {},
   "outputs": [],
   "source": [
    "feedback.take_attendance()"
   ]
  },
  {
   "cell_type": "markdown",
   "metadata": {},
   "source": [
    "### Let's look at a real life example! \n",
    "This dataset comes from **EEP 147 Regulation of Energy and the Environment**. "
   ]
  },
  {
   "cell_type": "code",
   "execution_count": null,
   "metadata": {},
   "outputs": [],
   "source": [
    "ESG_table = Table.read_table('ESGPorfolios_forcsv.csv').select(\n",
    "    \"Group\", \"Group_num\", \"UNIT NAME\", \"Capacity_MW\", \"Total_Var_Cost_USDperMWH\").sort(\n",
    "    \"Total_Var_Cost_USDperMWH\", descending = False).relabel(4, \"Average Variable Cost\")"
   ]
  },
  {
   "cell_type": "code",
   "execution_count": null,
   "metadata": {},
   "outputs": [],
   "source": [
    "ESG_table"
   ]
  },
  {
   "cell_type": "markdown",
   "metadata": {},
   "source": [
    "This table shows some electricity generation plants in California and their costs. The Capacity is the output the firm is capable of producing. The Average Variable Cost shows the minimum variable cost per MW produced. At a price below AVC, the firm supplies nothing. At a price above the AVC, the firm can supply up to its capacity. Being a profit-maximising firm, it will try to supply its full capacity."
   ]
  },
  {
   "cell_type": "markdown",
   "metadata": {},
   "source": [
    "First, let's look at just the Big Coal producers, a portfolio of electricity producing plants, and understand the data."
   ]
  },
  {
   "cell_type": "code",
   "execution_count": null,
   "metadata": {},
   "outputs": [],
   "source": [
    "selection = 'Big Coal'\n",
    "Group = ESG_table.where(\"Group\", selection)"
   ]
  },
  {
   "cell_type": "code",
   "execution_count": null,
   "metadata": {},
   "outputs": [],
   "source": [
    "Group"
   ]
  },
  {
   "cell_type": "code",
   "execution_count": null,
   "metadata": {},
   "outputs": [],
   "source": [
    "# Make the plot\n",
    "plt.figure(figsize=(9,6))\n",
    "plt.bar(new_x_group, height_group, width=width_group, edgecolor = \"black\")\n",
    "# Add title and axis names\n",
    "plt.title(selection)\n",
    "plt.xlabel('Capacity_MW')\n",
    "plt.ylabel('Variable Cost/Price')\n",
    "\n",
    "plt.show()"
   ]
  },
  {
   "cell_type": "markdown",
   "metadata": {},
   "source": [
    "This figure is the Big Coal Supply curve. It shows the price of electricity, and the quantity supplied at those prices (which depends on Variable Cost). For example, at any Variable Cost at or above 36.5, the producer FOUR CORNERS\t(the one with the lowest production costs) will supply, and so on.\n",
    "\n",
    "Let's interact with it by changing the market price."
   ]
  },
  {
   "cell_type": "code",
   "execution_count": null,
   "metadata": {},
   "outputs": [],
   "source": [
    "interact(group_plot, price=widgets.IntSlider(min=20,max=80,step=1,value=37));"
   ]
  },
  {
   "cell_type": "markdown",
   "metadata": {},
   "source": [
    "We are going to repeat the same process, this time for all the energy sources. They have been colored according to production group."
   ]
  },
  {
   "cell_type": "code",
   "execution_count": null,
   "metadata": {
    "scrolled": false
   },
   "outputs": [],
   "source": [
    "interact(ESG_plot, price=widgets.IntSlider(min=0,max=90,step=1,value=37));"
   ]
  },
  {
   "cell_type": "markdown",
   "metadata": {},
   "source": [
    "---\n",
    "\n",
    "### Feedback\n",
    "\n",
    "Please fill out the form below to give us feedback on today's lecture."
   ]
  },
  {
   "cell_type": "code",
   "execution_count": null,
   "metadata": {},
   "outputs": [],
   "source": [
    "feedback.ask()"
   ]
  },
  {
   "cell_type": "markdown",
   "metadata": {},
   "source": [
    "# Congrats! You finished Lab 2! "
   ]
  }
 ],
 "metadata": {
  "kernelspec": {
   "display_name": "Python 3",
   "language": "python",
   "name": "python3"
  },
  "language_info": {
   "codemirror_mode": {
    "name": "ipython",
    "version": 3
   },
   "file_extension": ".py",
   "mimetype": "text/x-python",
   "name": "python",
   "nbconvert_exporter": "python",
   "pygments_lexer": "ipython3",
   "version": "3.6.5"
  },
  "varInspector": {
   "cols": {
    "lenName": 16,
    "lenType": 16,
    "lenVar": 40
   },
   "kernels_config": {
    "python": {
     "delete_cmd_postfix": "",
     "delete_cmd_prefix": "del ",
     "library": "var_list.py",
     "varRefreshCmd": "print(var_dic_list())"
    },
    "r": {
     "delete_cmd_postfix": ") ",
     "delete_cmd_prefix": "rm(",
     "library": "var_list.r",
     "varRefreshCmd": "cat(var_dic_list()) "
    }
   },
   "types_to_exclude": [
    "module",
    "function",
    "builtin_function_or_method",
    "instance",
    "_Feature"
   ],
   "window_display": false
  }
 },
 "nbformat": 4,
 "nbformat_minor": 2
}
