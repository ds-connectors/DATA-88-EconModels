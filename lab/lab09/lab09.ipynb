{
 "cells": [
  {
   "cell_type": "markdown",
   "metadata": {},
   "source": [
    "<table style=\"width: 100%;\" id=\"nb-header>\">\n",
    "        <tr style=\"background-color: transparent;\"><td>\n",
    "            <img src=\"https://ds-connectors.github.io/econ-fa19/assets/images/blue_text.png\" width=\"250px\" style=\"margin-left: 0;\" />\n",
    "        </td><td>\n",
    "            <p style=\"text-align: right; font-size: 10pt;\"><strong>Economic Models</strong>, Spring 2020<br>\n",
    "                Dr. Eric Van Dusen<br>\n",
    "            Notebook by Chris Pyles</p></td></tr>\n",
    "    </table>"
   ]
  },
  {
   "cell_type": "markdown",
   "metadata": {},
   "source": [
    "# Lab 9: Game Theory and the Prisoner's Dilemma\n",
    "\n",
    "Project 2 will deal with game theory, a subdomain of economics and statistics that considers the best strategies and equilibria for playing games. In particular, you will consider one of the most famous thought experiments in game theory: the prisoner's dilemma. In this lab, we will introduce this game and some strategies for playing it, in preparation for the project."
   ]
  },
  {
   "cell_type": "code",
   "execution_count": null,
   "metadata": {},
   "outputs": [],
   "source": [
    "from datascience import *\n",
    "import numpy as np\n",
    "import seaborn as sns\n",
    "import matplotlib.pyplot as plt\n",
    "plt.style.use(\"seaborn-muted\")\n",
    "import functools\n",
    "import nbforms\n",
    "feedback = nbforms.Form(\"feedback_form_config.json\")\n",
    "feedback.take_attendance()\n",
    "\n",
    "most_common = lambda a: a[np.argmax([np.count_nonzero(np.equal(i, a)) for i in a])]\n",
    "\n",
    "def create_player_class(player_name, play_method):\n",
    "    @functools.total_ordering\n",
    "    class Player:\n",
    "        def __init__(self, p=0.5):\n",
    "            self.history = make_array()\n",
    "            self.prob = p\n",
    "            self.name = player_name\n",
    "        \n",
    "        def play(self, opponent, is_p1):\n",
    "            \"\"\"Returns True if player defects, False otherwise\"\"\"\n",
    "            defect = play_method(self, opponent, is_p1)\n",
    "            self.history = np.append(self.history, defect)\n",
    "            return defect\n",
    "        \n",
    "        def reset_history(self):\n",
    "            self.history = make_array()\n",
    "        \n",
    "        def __repr__(self):\n",
    "            if player_name == \"Random\":\n",
    "                return player_name + \"({})\".format(self.prob)\n",
    "            return player_name\n",
    "        \n",
    "        def __hash__(self):\n",
    "            return hash(self.name)\n",
    "        \n",
    "        def __eq__(self, other):\n",
    "            return self.name == other.name\n",
    "        \n",
    "        def __lt__(self, other):\n",
    "            return self.name < other.name\n",
    "    \n",
    "    return Player"
   ]
  },
  {
   "cell_type": "markdown",
   "metadata": {},
   "source": [
    "The [prisoner's dilemma](https://en.wikipedia.org/wiki/Prisoner%27s_dilemma) is a classic game first discussed by Merrill Flood and Melvin Dresher in 1950. In this game, there are two prisoners who have been captured and are being interrogated. The prinsoners cannot contact each other in any way. They have two options: they can **defect** (betray the other prisoner to the police) or they can **cooperate** (maintain their silence). If both defect, both receive 4 years in prinson. If one defects and the other does not, the defector goes free and the cooperator receives 5 years in prison. If both cooperate (meaning neither talks to the police), then they each receive 2 years in prison.\n",
    "\n",
    "<table>\n",
    "    \n",
    "<tr style=\"background-color: white;\"><td></td><td></td><td colspan=\"2\">Prisoner A</td></tr>\n",
    "<tr><td></td><td></td><td>Cooperate</td><td>Defect</td></tr>\n",
    "<tr style=\"background-color: white;\"><td rowspan=\"2\">Prisoner B</td><td>Cooperate</td><td style=\"background-color: #F5F5F5;\">A: 2, B: 2</td><td>A: 0, B: 5</td></tr>\n",
    "<tr><td>Defect</td><td>A: 5, B: 0</td><td style=\"background-color: #F5F5F5;\">A: 4, B: 4</td></tr>\n",
    "    \n",
    "</table>\n",
    "\n",
    "The purpose of this game is to consider how a completely rational person would be best advised to proceed, and how different strategies for playing this game can be more or less effective. In this project, we will be studying the effectiveness of different strategies for playing this game using tournaments, in which the game is played in multiple rounds to see which player has the best payoff."
   ]
  },
  {
   "cell_type": "markdown",
   "metadata": {},
   "source": [
    "In this lab, we will be creating some custom Python classes to represent different playing strategies. We'll be using the `create_player_class` function, defined above, to create these classes for us. Here are a few important things to know about the classes:\n",
    "\n",
    "Consider a player class instance `player = Player()`. \n",
    "* `player.play()` is a method that represents a single move. It returns `True` if the player **defects** and `False` if they cooperate.\n",
    "* `player.history` is an array of the previous moves of the player instance. `player.history.item(-1)`, for example, is the most recent move (the last element of the array).\n",
    "\n",
    "Don't worry about the other methods that are defined for players; these are there for the code below to work but you don't need to concern yourself with them. Here's how the `create_player_class` function works:\n",
    "\n",
    "1. Define a method, `f`, that takes three arguments: `self`, `opponent`, and `is_p1` (more about these later), and returns `True` if the player defects and `False` otherwise.\n",
    "2. Call `create_player_class` with two arguments: a string for the class name, e.g. `\"Player\"`, and the play method.\n",
    "\n",
    "Let's illustrate this by creating `Defector`, a player that always defects. The `defector_play` function below always returns `True`, since the player always defects. We then create `Defector` using `create_player_class`."
   ]
  },
  {
   "cell_type": "code",
   "execution_count": null,
   "metadata": {},
   "outputs": [],
   "source": [
    "def defector_play(self, opponent, is_p1):\n",
    "    return True\n",
    "\n",
    "Defector = create_player_class(\"Defector\", defector_play)"
   ]
  },
  {
   "cell_type": "markdown",
   "metadata": {},
   "source": [
    "We can create a `Defector` by calling `Defector` as if it were a function:"
   ]
  },
  {
   "cell_type": "code",
   "execution_count": null,
   "metadata": {},
   "outputs": [],
   "source": [
    "Defector()"
   ]
  },
  {
   "cell_type": "markdown",
   "metadata": {},
   "source": [
    "**Question 1:** Create a `Cooperator` class that always cooperates."
   ]
  },
  {
   "cell_type": "code",
   "execution_count": null,
   "metadata": {},
   "outputs": [],
   "source": [
    "def cooperator_play(self, opponent, is_p1):\n",
    "    return ...\n",
    "\n",
    "Cooperator = create_player_class(..., ...)"
   ]
  },
  {
   "cell_type": "markdown",
   "metadata": {},
   "source": [
    "Recall the payoff structure of our game:\n",
    "\n",
    "<table>\n",
    "    \n",
    "<tr style=\"background-color: white;\"><td></td><td></td><td colspan=\"2\">Prisoner A</td></tr>\n",
    "<tr><td></td><td></td><td>Cooperate</td><td>Defect</td></tr>\n",
    "<tr style=\"background-color: white;\"><td rowspan=\"2\">Prisoner B</td><td>Cooperate</td><td style=\"background-color: #F5F5F5;\">A: 2, B: 2</td><td>A: 0, B: 5</td></tr>\n",
    "<tr><td>Defect</td><td>A: 5, B: 0</td><td style=\"background-color: #F5F5F5;\">A: 4, B: 4</td></tr>\n",
    "    \n",
    "</table>\n",
    "\n",
    "Let's define a function to calculate the payoff of our game for a single move.\n",
    "\n",
    "**Question 2:** Fill in the `payoff` function below that calls `.play()` for each player (with the appropriate arguments!) and returns the payoff for `p1` and `p2` as a `tuple`.\n",
    "\n",
    "_Python Note:_ Python classes automatically fill in the `self` argument, so when calling `player.play()`, you only need two arguments: `opponent` and `is_p1`."
   ]
  },
  {
   "cell_type": "code",
   "execution_count": null,
   "metadata": {},
   "outputs": [],
   "source": [
    "def payoff(p1, p2):\n",
    "    p1_defect = p1.play(...)\n",
    "    p2_defect = p2.play(...)\n",
    "    \n",
    "    if ...:\n",
    "        return 4, 4\n",
    "    elif ...:\n",
    "        return 0, 5\n",
    "    elif ...:\n",
    "        return 5, 0\n",
    "    else:\n",
    "        return 2, 2\n",
    "    \n",
    "payoff(Defector(), Cooperator())"
   ]
  },
  {
   "cell_type": "markdown",
   "metadata": {},
   "source": [
    "Now that we can look at payoffs, let's consider another strategy: randomness. The `Random` player defined below will randomly defect or cooperate. Note that the `Random()` constructor takes an optional argument indicating the probability of **defecting** on any given turn which defaults to 0.5. For example, `Random(.25)` defects 25% of the time and `Random(1)` always defects (it's a `Defector`)."
   ]
  },
  {
   "cell_type": "code",
   "execution_count": null,
   "metadata": {},
   "outputs": [],
   "source": [
    "def random_play(self, opponent, is_p1):\n",
    "    return np.random.random() < self.prob\n",
    "\n",
    "Random = create_player_class(\"Random\", random_play)"
   ]
  },
  {
   "cell_type": "markdown",
   "metadata": {},
   "source": [
    "Notice in the `random_play` that we access an instance variable of `self`, `self.prob`. The purpose of the first argument of these functions is to allow us to access variables within classes while playing, which will be of use later. Similarly, we can use the `opponent` argument to access variables of the opponent.\n",
    "\n",
    "Let's test a few payoffs with our new `Random` player."
   ]
  },
  {
   "cell_type": "code",
   "execution_count": null,
   "metadata": {},
   "outputs": [],
   "source": [
    "payoff(Defector(), Random())"
   ]
  },
  {
   "cell_type": "code",
   "execution_count": null,
   "metadata": {
    "scrolled": true
   },
   "outputs": [],
   "source": [
    "payoff(Defector(), Random(.75))"
   ]
  },
  {
   "cell_type": "markdown",
   "metadata": {},
   "source": [
    "Our analysis of the prisoner's dilemma hinges on analyzing strategies over multiple rounds. For this reason, we need a way to pit players against each other and find out who has the fewest years accrued. The function `run_match` below will run a match of two players with `n` turns. If `winner` is `True`, it returns the winner of the match; if `winner` is `False`, it returns a list for each player containing the sequence of years accrued. Also note the first two lines of the function that reset the player history for each player. This is important because we might end up reusing instances of players, and we don't want histories from past matches to affect the results of this match."
   ]
  },
  {
   "cell_type": "code",
   "execution_count": null,
   "metadata": {},
   "outputs": [],
   "source": [
    "def run_match(p1, p2, n=5, winner=True):\n",
    "    p1.reset_history()\n",
    "    p2.reset_history()\n",
    "    \n",
    "    p1_years = []\n",
    "    p2_years = []\n",
    "    \n",
    "    for i in range(n):\n",
    "        p1_score, p2_score = payoff(p1, p2)\n",
    "        p1_years.append(p1_score)\n",
    "        p2_years.append(p2_score)\n",
    "        \n",
    "    if winner:\n",
    "        p1_mean = np.mean(p1_years)\n",
    "        p2_mean = np.mean(p2_years)\n",
    "\n",
    "        if p1_mean < p2_mean:\n",
    "            return p1\n",
    "        else:\n",
    "            return p2\n",
    "    else:\n",
    "        return p1_years, p2_years"
   ]
  },
  {
   "cell_type": "markdown",
   "metadata": {},
   "source": [
    "Let's take a look at what's returned for each value of `winner`. Note that it defaults to `True`."
   ]
  },
  {
   "cell_type": "code",
   "execution_count": null,
   "metadata": {
    "scrolled": true
   },
   "outputs": [],
   "source": [
    "run_match(Defector(), Cooperator())"
   ]
  },
  {
   "cell_type": "code",
   "execution_count": null,
   "metadata": {},
   "outputs": [],
   "source": [
    "run_match(Defector(), Cooperator(), winner=False)"
   ]
  },
  {
   "cell_type": "markdown",
   "metadata": {},
   "source": [
    "Now that we know how to run matches, let's think of some other cool strategies. Remember the `player.history` variable discussed earlier? Let's have a concrete example on how to use that. The `Alternator` player defined below alternates between cooperating and defecting, beginning with cooperating.\n",
    "\n",
    "Note the `if` statement. We need to check that we have a history to index into before we try to grab the last element; if we didn't have that statement, the code would fail on the first time  `Alternator` played, because we would try to get an element from an array with 0 elements."
   ]
  },
  {
   "cell_type": "code",
   "execution_count": null,
   "metadata": {},
   "outputs": [],
   "source": [
    "def alternator_play(self, opponent, is_p1):\n",
    "    if len(self.history) > 0:\n",
    "        return not self.history.item(-1)\n",
    "    else:\n",
    "        return False\n",
    "    \n",
    "Alternator = create_player_class(\"Alternator\", alternator_play)\n",
    "\n",
    "run_match(Alternator(), Defector())"
   ]
  },
  {
   "cell_type": "markdown",
   "metadata": {},
   "source": [
    "**Question 3:** Use the player history to define `TitForTat`, a player that does the last thing it's opponent did and starts off by cooperating. For example, if we pitted `TitForTat` against a `Defector` in a 5-round match, the `Defector`'s moves would be `[D, D, D, D, D]`, and `TitForTat`'s would be `[C, D, D, D, D]`.\n",
    "\n",
    "_Hint:_ Recall the `is_p1` argument. How is the result of `tit_for_tat_play` different if we are player 1 vs. player 2?"
   ]
  },
  {
   "cell_type": "code",
   "execution_count": null,
   "metadata": {},
   "outputs": [],
   "source": [
    "def tit_for_tat_play(self, opponent, is_p1):\n",
    "    if ...:\n",
    "        if len(opponent.history) > 0 and ...:\n",
    "            return ...\n",
    "        else:\n",
    "            return ...\n",
    "    else:\n",
    "        if len(opponent.history) > 1 and ...:\n",
    "            return ...\n",
    "        else:\n",
    "            return ...\n",
    "    \n",
    "TitForTat = create_player_class(..., ...)"
   ]
  },
  {
   "cell_type": "markdown",
   "metadata": {},
   "source": [
    "Now that we can pit two players against each other, how do we compare multiple players? We can create a tournament that runs matches between each pair of players."
   ]
  },
  {
   "cell_type": "markdown",
   "metadata": {},
   "source": [
    "**Question 4:** In a tournament with $n$ players, how many matches are run?"
   ]
  },
  {
   "cell_type": "markdown",
   "metadata": {},
   "source": [
    "_Type your answer here, replacing this text._"
   ]
  },
  {
   "cell_type": "markdown",
   "metadata": {},
   "source": [
    "To run through the tournament, we'll need to iterate through each player and pit them against every other player in a match. To ensure that we don't duplicate matches, we'll loop from 0 to the number of players in the outer loop and loop from the next player to the last player in the inner loop. The function `most_common` returns the value in an array of values that has the largest number of occurrences; it is here used to determine which player won the most times."
   ]
  },
  {
   "cell_type": "code",
   "execution_count": null,
   "metadata": {},
   "outputs": [],
   "source": [
    "players = make_array(Defector(), Cooperator())\n",
    "winners = make_array()\n",
    "for i in range(len(players)):\n",
    "    for j in range(i+1, len(players)):\n",
    "        winner = run_match(players.item(i), players.item(j))\n",
    "        winners = np.append(winners, winner)\n",
    "        \n",
    "biggest_winner = most_common(winners)\n",
    "biggest_winner"
   ]
  },
  {
   "cell_type": "markdown",
   "metadata": {},
   "source": [
    "**Question 5:** Consider the four strategies we've defined so far: defector, cooperator, alternator, and tit-for-tat. Which strategy do you think would win in a tournament between these four? Why?"
   ]
  },
  {
   "cell_type": "markdown",
   "metadata": {},
   "source": [
    "_Type your answer here, replacing this text._"
   ]
  },
  {
   "cell_type": "markdown",
   "metadata": {},
   "source": [
    "**Question 6:** Fill in the code below to run your own tournament with the four non-random players we've defiend so far."
   ]
  },
  {
   "cell_type": "code",
   "execution_count": null,
   "metadata": {},
   "outputs": [],
   "source": [
    "players = make_array(...)\n",
    "winners = make_array()\n",
    "for i in range(...):\n",
    "    for j in range(..., ...):\n",
    "        winner = ...\n",
    "        winners = np.append(...)\n",
    "        \n",
    "biggest_winner = most_common(winners)\n",
    "biggest_winner"
   ]
  },
  {
   "cell_type": "markdown",
   "metadata": {},
   "source": [
    "Instead of just determining the winner, let's collect some data. The modified tournament below collects the players in each match and their mean scores (note the user of `winner=False` in our `run_match` call). The table `results` contains a row for each match in  the tournament."
   ]
  },
  {
   "cell_type": "code",
   "execution_count": null,
   "metadata": {},
   "outputs": [],
   "source": [
    "players = make_array(Defector(), Cooperator(), TitForTat(), Alternator())\n",
    "results = Table().with_columns(\n",
    "    \"p1\", make_array(),\n",
    "    \"p1_mean\", make_array(),\n",
    "    \"p2\", make_array(),\n",
    "    \"p2_mean\", make_array()\n",
    ")\n",
    "\n",
    "\n",
    "for i in range(len(players)):\n",
    "    for j in range(i+1, len(players)):\n",
    "        p1_years, p2_years = run_match(players.item(i), players.item(j), winner=False)\n",
    "        results = results.with_row([\n",
    "            players.item(i),\n",
    "            np.mean(p1_years),\n",
    "            players.item(j),\n",
    "            np.mean(p2_years)\n",
    "        ])\n",
    "        \n",
    "results"
   ]
  },
  {
   "cell_type": "markdown",
   "metadata": {},
   "source": [
    "How do we determine the winner of each match?\n",
    "\n",
    "**Question 7:** Fill in the function `determine_winner` below that takes in two players and their mean scores and returns the winning player. Break ties arbitrarily."
   ]
  },
  {
   "cell_type": "code",
   "execution_count": null,
   "metadata": {},
   "outputs": [],
   "source": [
    "def determine_winner(p1, p1_mean, p2, p2_mean):\n",
    "    ..."
   ]
  },
  {
   "cell_type": "markdown",
   "metadata": {},
   "source": [
    "In the cell below, we apply the `determine_winner` function to our `results` table. Note how `Table.apply` allows you to use multiple columns corresponding to each argument. The call below will apply `determine_winner` to the values in `p1`, `p1_mean`, `p2`, and `p2_mean` (in that order) to each row of `results`."
   ]
  },
  {
   "cell_type": "code",
   "execution_count": null,
   "metadata": {},
   "outputs": [],
   "source": [
    "winners = results.apply(determine_winner, \"p1\", \"p1_mean\", \"p2\", \"p2_mean\")\n",
    "results = results.with_column(\"winner\", winners)\n",
    "results"
   ]
  },
  {
   "cell_type": "markdown",
   "metadata": {},
   "source": [
    "In the last section of this lab, we'll have a refresher on hypothesis testing. Recall that hypothesis testing, a statistical technique based on bootstrapping, is a method that allows us to run a test over many iterations to look for differences between two distributions. In this lab, we'll be bootstrapping tournaments to test whether randomness is a good strategy for playing the game.\n",
    "\n",
    "Let's start by stating our null and alternative hypotheses.\n",
    "\n",
    "**Question 8:** Of our three main strategies (tit-for-tat, alternator, and random), which do you think will win? Why?"
   ]
  },
  {
   "cell_type": "markdown",
   "metadata": {},
   "source": [
    "_Type your answer here, replacing this text._"
   ]
  },
  {
   "cell_type": "markdown",
   "metadata": {},
   "source": [
    "**Question 9:** Based on your answer to Question 8, what are the null and alternative hypotheses for the hypothesis test?"
   ]
  },
  {
   "cell_type": "markdown",
   "metadata": {},
   "source": [
    "**Null hypothesis:** _Type your answer here, replacing this text._\n",
    "\n",
    "**Alternative hypothesis:** _Type your answer here, replacing this text._"
   ]
  },
  {
   "cell_type": "markdown",
   "metadata": {},
   "source": [
    "Now that that's out of the way, let's write some code.\n",
    "\n",
    "**Question 10:** Fill in the cell below to run a hypothesis test on tournaments using our three main strategies: tit-for-tat, alternator, and random. To start, let the random player have an equal chance of cooperating and defecting.\n",
    "\n",
    "_Hint:_ What should `winner` be set to in `run_match`?"
   ]
  },
  {
   "cell_type": "code",
   "execution_count": null,
   "metadata": {},
   "outputs": [],
   "source": [
    "winners = make_array()\n",
    "n = 1000\n",
    "\n",
    "for i in np.arange(n):\n",
    "    players = make_array(TitForTat(), Alternator(), Random())\n",
    "    results = Table().with_columns(\n",
    "        \"p1\", make_array(),\n",
    "        \"p1_mean\", make_array(),\n",
    "        \"p2\", make_array(),\n",
    "        \"p2_mean\", make_array()\n",
    "    )\n",
    "    for i in range(...):\n",
    "        for j in range(..., ...):\n",
    "            p1_years, p2_years = ...\n",
    "            results = results.with_row([\n",
    "                players.item(i),\n",
    "                np.mean(...),\n",
    "                players.item(j),\n",
    "                np.mean(...)\n",
    "            ])\n",
    "    tournament_winners = results.apply(...)\n",
    "    results = results.with_column(...)    \n",
    "    winner = results.group(\"winner\").sort(\"count\", descending=True).column(0).item(0)\n",
    "    winners = np.append(winners, winner)\n",
    "\n",
    "biggest_winner = most_common(winners)\n",
    "biggest_winner"
   ]
  },
  {
   "cell_type": "markdown",
   "metadata": {},
   "source": [
    "**Question 11:** Who was the biggest winner in our hypothesis test? Which hypothesis do we adopt?"
   ]
  },
  {
   "cell_type": "markdown",
   "metadata": {},
   "source": [
    "_Type your answer here, replacing this text._"
   ]
  },
  {
   "cell_type": "markdown",
   "metadata": {},
   "source": [
    "---\n",
    "\n",
    "### Feedback\n",
    "\n",
    "Please fill out the feedback form below regarding this lecture."
   ]
  },
  {
   "cell_type": "code",
   "execution_count": null,
   "metadata": {
    "scrolled": true
   },
   "outputs": [],
   "source": [
    "feedback.ask()"
   ]
  },
  {
   "cell_type": "markdown",
   "metadata": {
    "colab": {},
    "colab_type": "code",
    "id": "98_yxHLFhvpy"
   },
   "source": [
    " "
   ]
  }
 ],
 "metadata": {
  "@webio": {
   "lastCommId": null,
   "lastKernelId": null
  },
  "kernelspec": {
   "display_name": "Python 3",
   "language": "python",
   "name": "python3"
  },
  "language_info": {
   "codemirror_mode": {
    "name": "ipython",
    "version": 3
   },
   "file_extension": ".py",
   "mimetype": "text/x-python",
   "name": "python",
   "nbconvert_exporter": "python",
   "pygments_lexer": "ipython3",
   "version": "3.6.9"
  },
  "varInspector": {
   "cols": {
    "lenName": 16,
    "lenType": 16,
    "lenVar": 40
   },
   "kernels_config": {
    "python": {
     "delete_cmd_postfix": "",
     "delete_cmd_prefix": "del ",
     "library": "var_list.py",
     "varRefreshCmd": "print(var_dic_list())"
    },
    "r": {
     "delete_cmd_postfix": ") ",
     "delete_cmd_prefix": "rm(",
     "library": "var_list.r",
     "varRefreshCmd": "cat(var_dic_list()) "
    }
   },
   "types_to_exclude": [
    "module",
    "function",
    "builtin_function_or_method",
    "instance",
    "_Feature"
   ],
   "window_display": false
  }
 },
 "nbformat": 4,
 "nbformat_minor": 4
}
