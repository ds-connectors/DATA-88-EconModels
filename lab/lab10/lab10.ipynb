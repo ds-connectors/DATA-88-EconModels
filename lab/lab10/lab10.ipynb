{
 "cells": [
  {
   "cell_type": "markdown",
   "metadata": {},
   "source": [
    "<table style=\"width: 100%;\">\n",
    "    <tr style=\"background-color: transparent;\"><td>\n",
    "        <img src=\"https://d8a-88.github.io/econ-fa19/assets/images/blue_text.png\" width=\"250px\" style=\"margin-left: 0;\" />\n",
    "    </td><td>\n",
    "        <p style=\"text-align: right; font-size: 10pt;\"><strong>Economic Models</strong>, Spring 2020<br>\n",
    "            Dr. Eric Van Dusen<br>\n",
    "            Andrei Caprau<br>\n",
    "        Chris Pyles<br>\n",
    "        </p></td></tr>\n",
    "</table>"
   ]
  },
  {
   "cell_type": "markdown",
   "metadata": {},
   "source": [
    "# Lab 10: Dummy Variables and Multivariable Regression"
   ]
  },
  {
   "cell_type": "code",
   "execution_count": null,
   "metadata": {},
   "outputs": [],
   "source": [
    "from datascience import *\n",
    "import statsmodels.api as sm\n",
    "import pandas as pd\n",
    "import numpy as np\n",
    "from sklearn.metrics import mean_squared_error\n",
    "import matplotlib.pyplot as plt\n",
    "plt.style.use(\"seaborn-muted\")\n",
    "%matplotlib inline\n",
    "import warnings\n",
    "warnings.simplefilter(\"ignore\")\n",
    "import nbforms\n",
    "feedback = nbforms.Form(\"feedback_form_config.json\")"
   ]
  },
  {
   "cell_type": "markdown",
   "metadata": {},
   "source": [
    "Welcome to Lab 10! \n",
    "\n",
    "In this lab, we'll augment our understanding of linear regression by introducing the concept of **dummy variables**.\n",
    "\n",
    "Throughout this notebook, we will be predicting an individuals log wage based on different explanatory variables. The dataset comes from the Current Population Survey (CPS), and includes demographic information for a number of individuals, including age, sex, wage, ethnicity, and education level. "
   ]
  },
  {
   "cell_type": "markdown",
   "metadata": {},
   "source": [
    "## Dummy Variables"
   ]
  },
  {
   "cell_type": "markdown",
   "metadata": {},
   "source": [
    "### Motivation\n",
    "\n",
    "Dummy variables are used to encode categorical data. There are 2 cases when this may occur:\n",
    "\n",
    "* A variable has non-numeric values, e.g. having `M` or `F` for  `sex`, `HS` or `college` or `Masters` for `education`, and so on.\n",
    "* A variable has categorical numeric values, e.g. the star ratings of a business on Yelp. \n",
    "\n",
    "In the first case, the reason is obvious: we need a way to model a qualitative variable in our model, which is inherently quantitative.\n",
    "\n",
    "In the second, the reason is more subtle. Even though the data may be quantitative, we would instead like to think of them as belonging in groups or bins; for Yelp stars, there are 3 star restaurants, 3.5 star restaurants, and so on. Typically, the data are not continuous, and doing arithmetic operations such as finding the difference between 2 observations would not too meaningful."
   ]
  },
  {
   "cell_type": "markdown",
   "metadata": {},
   "source": [
    "### How Dummy Variables Work\n",
    "\n",
    "A dummy variable encoding turns the original column of data into many columns, with each new column representing a unique value of the original column. For each observation's value that we seek to encode, the value's corresponding column will be marked with a 1, while all other columns will be marked with a 0. \n",
    "\n",
    "For example, if we had a column for sex where `male` and `female` were the only unique values, it would be turned into 2 columns: `male` and `female`. An observation that is male will have the `male` column be 1 and the `female` column be 0."
   ]
  },
  {
   "cell_type": "markdown",
   "metadata": {},
   "source": [
    "Let's take a look at dummy variables in action, by first reading in the CPS dataset."
   ]
  },
  {
   "cell_type": "code",
   "execution_count": null,
   "metadata": {},
   "outputs": [],
   "source": [
    "cps = Table.read_table(\"cps.csv\")\n",
    "cps.sample()"
   ]
  },
  {
   "cell_type": "markdown",
   "metadata": {},
   "source": [
    "Notice that race is already dummy encoded for us: instead of having a column called `race` with values like `hispanic`, `black`, `asian`, or `white`, we instead have 3 columns representing the 4 different races:\n",
    "- If an individual is hispanic, then their value for the `hispanic` column will be 1, and value for `black` and `asian` will be 0.\n",
    "- If an individual is black, then their value for the `black` column will be 1, and value for `hispanic` and `asian` will be 0.\n",
    "- If an individual is asian, then their value for the `asian` column will be 1, and value for `hispanic` and `black` will be 0.\n",
    "- If an individual is white, then they are neither `hispanic`, `black`, or `asian`. Thus, all 3 columns will be 0. \n",
    "\n",
    "*Note*: we also could have incorporated `white` as a column as well, but 3 columns is sufficient to depict all 4 categories. In practice, we typically drop one column for dummy encoding; there is a more complicated reason for why we do this, but we won't dive into it here. \n",
    "\n",
    "What other variables are already dummy encoded?"
   ]
  },
  {
   "cell_type": "markdown",
   "metadata": {},
   "source": [
    "### Creating Dummy Variables\n",
    "\n",
    "Let's start by creating dummy variables for 200 flips of a coin. For each flip, we have two possible values: `H` or `T`."
   ]
  },
  {
   "cell_type": "code",
   "execution_count": null,
   "metadata": {
    "scrolled": true
   },
   "outputs": [],
   "source": [
    "flips = Table().with_column(\"flip\", np.random.choice(make_array(\"H\", \"T\"), 200))\n",
    "flips"
   ]
  },
  {
   "cell_type": "markdown",
   "metadata": {},
   "source": [
    "To create dummy variables, we need to know all of the **unique** values of our variable, since we will need to create one new column for each of these. Although we already know our variable has only 2 possible values, \"H\" and \"T\", let's practice anyway. The function `np.unique` will give you an array of the unique values of the array passed to it."
   ]
  },
  {
   "cell_type": "markdown",
   "metadata": {},
   "source": [
    "**Question 1.1:** Assign `unique_vals` to an array of the unique values in the `flip` column of `flips`."
   ]
  },
  {
   "cell_type": "code",
   "execution_count": null,
   "metadata": {},
   "outputs": [],
   "source": [
    "unique_vals = np.unique(...)\n",
    "unique_vals"
   ]
  },
  {
   "cell_type": "code",
   "execution_count": null,
   "metadata": {
    "scrolled": true
   },
   "outputs": [],
   "source": [
    "## Solution ##\n",
    "unique_vals = np.unique(flips.column(\"flip\"))\n",
    "unique_vals"
   ]
  },
  {
   "cell_type": "markdown",
   "metadata": {},
   "source": [
    "Now that we know these values, we want to create a column for each value with a 1 if the value for that row equals the column value, and a 0 otherwise. To do this, we'll begin by creating dummy encodings with `True` and `False` values, instead of 1's and 0's. "
   ]
  },
  {
   "cell_type": "markdown",
   "metadata": {},
   "source": [
    "**Question 1.2:** For each value in `unique_vals`, add a column to `flips` with `True` or `False` values, instead of 1's and 0's. For example, if a flip was heads, then `flip_H` will be `True` and `flip_T` will be `False`.\n",
    "\n",
    "*Hint*: you can check whether a column is equal to a certain value with `==`. "
   ]
  },
  {
   "cell_type": "code",
   "execution_count": null,
   "metadata": {},
   "outputs": [],
   "source": [
    "for val in unique_vals:\n",
    "    dummy_vals = ...\n",
    "    flips = flips.with_column(\"flip_\" + val, ...)\n",
    "\n",
    "flips"
   ]
  },
  {
   "cell_type": "code",
   "execution_count": null,
   "metadata": {
    "scrolled": true
   },
   "outputs": [],
   "source": [
    "## Solution ##\n",
    "for val in unique_vals:\n",
    "    dummy_vals = flips.column('flip') == val\n",
    "    flips = flips.with_column(\"flip_\" + val, dummy_vals)\n",
    "\n",
    "flips"
   ]
  },
  {
   "cell_type": "markdown",
   "metadata": {},
   "source": [
    "Notice that we've created columns with names of the format `flips_{value}`. However, we still have a problem: these columns have boolean values, not integers!"
   ]
  },
  {
   "cell_type": "markdown",
   "metadata": {},
   "source": [
    "**Question 1.3:** Cast our boolean values in `flip_H` and `flip_T` to integers using `Table.apply`. Recall that we can **typecast** a boolean to an integer by calling the `int` function on it. This will map `True` to 1 and `False` to 0. You can pair this with `Table.apply`."
   ]
  },
  {
   "cell_type": "code",
   "execution_count": null,
   "metadata": {},
   "outputs": [],
   "source": [
    "for val in unique_vals:\n",
    "    int_vals = flips.apply(..., ...)\n",
    "    flips = flips.with_column(\"flip_\" + val, ...)\n",
    "    \n",
    "flips"
   ]
  },
  {
   "cell_type": "code",
   "execution_count": null,
   "metadata": {
    "scrolled": true
   },
   "outputs": [],
   "source": [
    "## Solution ##\n",
    "for val in unique_vals:\n",
    "    int_vals = flips.apply(int, \"flip_\" + val)\n",
    "    flips = flips.with_column(\"flip_\" + val, int_vals)\n",
    "    \n",
    "flips"
   ]
  },
  {
   "cell_type": "markdown",
   "metadata": {},
   "source": [
    "Now we're almost there! The last thing we want to do is get rid of the original column, so that it doesn't muck up any analysis we do later on. Let's drop it with `Table.drop`."
   ]
  },
  {
   "cell_type": "markdown",
   "metadata": {},
   "source": [
    "**Question 1.4:** Create a new table `flips_dummy` that drops the original `flip` column from `flips`."
   ]
  },
  {
   "cell_type": "code",
   "execution_count": null,
   "metadata": {},
   "outputs": [],
   "source": [
    "flips_dummy = ...\n",
    "flips_dummy"
   ]
  },
  {
   "cell_type": "code",
   "execution_count": null,
   "metadata": {
    "scrolled": true
   },
   "outputs": [],
   "source": [
    "## Solution ##\n",
    "flips_dummy = flips.drop(\"flip\")\n",
    "flips_dummy"
   ]
  },
  {
   "cell_type": "markdown",
   "metadata": {},
   "source": [
    "Congratulations, you've now created dummy variables for a categorical variable! Notice that our choice to iterate through the unique values means that we can use this same logic for any arbitrarily large number of unique values. The function `get_dummies` defined below encapsulates this logic that we've built, albeit with a simplified encoding step. Note that this function also drops the first of the unique values by default via the `drop_first` argument. This function will be provided for you in the project."
   ]
  },
  {
   "cell_type": "code",
   "execution_count": null,
   "metadata": {
    "scrolled": true
   },
   "outputs": [],
   "source": [
    "def get_dummies(tbl, col, drop=True, drop_first=True):\n",
    "    \"\"\"Creates dummy variables for a column of a table\"\"\"\n",
    "    values = np.unique(tbl.column(col))\n",
    "    if drop_first:\n",
    "        values = values[1:]\n",
    "    for val in values:\n",
    "        encoding = tbl.apply(lambda s: int(s == val), col)\n",
    "        tbl = tbl.with_column(col + \"_\" + str(val), encoding)\n",
    "    if drop:\n",
    "        tbl = tbl.drop(col)\n",
    "    return tbl"
   ]
  },
  {
   "cell_type": "markdown",
   "metadata": {},
   "source": [
    "For example, we can call it on the original flips table."
   ]
  },
  {
   "cell_type": "code",
   "execution_count": null,
   "metadata": {},
   "outputs": [],
   "source": [
    "get_dummies(flips.select('flip'), 'flip', drop_first = False)"
   ]
  },
  {
   "cell_type": "markdown",
   "metadata": {},
   "source": [
    "By default, `get_dummies` will drop the original column and one of the dummy columns. In our example, `flip` and `flip_H` will be dropped, but that's ok: we can still figure out whether a flip is head or tails by looking at `flip_T` alone. If `flip_T` is 1, then the flip came up tails; if `flip_T`, is 0, then the flip came up heads. This same logic can be applied to columns with more than 2 different unique values."
   ]
  },
  {
   "cell_type": "code",
   "execution_count": null,
   "metadata": {},
   "outputs": [],
   "source": [
    "get_dummies(flips.select('flip'), 'flip')"
   ]
  },
  {
   "cell_type": "markdown",
   "metadata": {},
   "source": [
    "### Dummy Variables for CPS\n",
    "\n",
    "Now that we have a way to get dummy variables, let's apply this to our CPS data. We want to get dummies for the `educ` variable, which indicates the number of years of schooling of an individual."
   ]
  },
  {
   "cell_type": "markdown",
   "metadata": {},
   "source": [
    "**Question 1.5:** Apply our `get_dummies` function to `cps` on the `educ` column."
   ]
  },
  {
   "cell_type": "code",
   "execution_count": null,
   "metadata": {},
   "outputs": [],
   "source": [
    "cps = get_dummies(..., ...)\n",
    "cps"
   ]
  },
  {
   "cell_type": "code",
   "execution_count": null,
   "metadata": {},
   "outputs": [],
   "source": [
    "## Solution ##\n",
    "cps = get_dummies(cps, \"educ\")\n",
    "cps"
   ]
  },
  {
   "cell_type": "markdown",
   "metadata": {},
   "source": [
    "## Multivariable Regression\n",
    "\n",
    "We are now ready to perform some multivariable regression. Recall that in this form, our regression line has the formula\n",
    "\n",
    "$$\\Large\n",
    "\\hat{y} = \\hat{\\alpha} + \\hat{\\beta}_1 x_1 + \\cdots + \\hat{\\beta}_n x_n\n",
    "$$\n",
    "\n",
    "where we predict $y$ with $n$ features.\n",
    "\n",
    "To do multivariable regression in Python, we use the `statsmodels` package, which has a very simple flow:\n",
    "\n",
    "```python\n",
    "X = tbl.select(features).values             # Separate features (explanatory and control variables) \n",
    "Y = tbl.column(target)                      # Separate outcome variable\n",
    "model = sm.OLS(Y, sm.add_constant(X))       # Initialize the OLS regression model\n",
    "result = model.fit()                        # Fit the regression model and save it to a variable\n",
    "result.summary()                            # Display a summary of results\n",
    "```"
   ]
  },
  {
   "cell_type": "markdown",
   "metadata": {},
   "source": [
    "Let's start by demonstrating a simple version of using `statsmodels` by performing single variable regression. We start by selecting out the column we'll be regressing on and the outcome variable. Note that we take out the values of each by adding `.values` to the end. This is because `statsmodels` only knows how to work with NumPy arrays, not tables."
   ]
  },
  {
   "cell_type": "code",
   "execution_count": null,
   "metadata": {},
   "outputs": [],
   "source": [
    "X = cps.select(\"age\").values          # Regressing on age\n",
    "Y = cps.column(\"logwage\")             # Outcome is log(wage)"
   ]
  },
  {
   "cell_type": "markdown",
   "metadata": {},
   "source": [
    "Now that we have our data, we can create an `sm.OLS` object to create out model and fit it. Note that when we call `sm.OLS`, we pass `Y` and `X` as arguments, but we wrap `X` in a call to `sm.add_constant`. This has the effect of adding a column of ones to the data, so that our output includes a value for the intercept."
   ]
  },
  {
   "cell_type": "code",
   "execution_count": null,
   "metadata": {},
   "outputs": [],
   "source": [
    "model = sm.OLS(Y, sm.add_constant(X))"
   ]
  },
  {
   "cell_type": "markdown",
   "metadata": {},
   "source": [
    "Now that we have a model, we need to fit it. We capture the result of fitting in a new variable `result`."
   ]
  },
  {
   "cell_type": "code",
   "execution_count": null,
   "metadata": {},
   "outputs": [],
   "source": [
    "result = model.fit()"
   ]
  },
  {
   "cell_type": "markdown",
   "metadata": {},
   "source": [
    "Finally, let's look at our coefficients by calling `result.summary()`."
   ]
  },
  {
   "cell_type": "code",
   "execution_count": null,
   "metadata": {},
   "outputs": [],
   "source": [
    "result.summary()"
   ]
  },
  {
   "cell_type": "markdown",
   "metadata": {},
   "source": [
    "Now that we have demonstrated `statsmodels` with the single variable case, extension to the multivariable case is straightforward."
   ]
  },
  {
   "cell_type": "markdown",
   "metadata": {},
   "source": [
    "**Question 2.1:** Complete the model below that regresses `logwage` on all of our `educ` dummies. Display the results summary. We have provided the labels of all the `educ` dummy variables for you in `educ_cols`."
   ]
  },
  {
   "cell_type": "code",
   "execution_count": null,
   "metadata": {},
   "outputs": [],
   "source": [
    "educ_cols = make_array('educ_3', 'educ_6', 'educ_8', 'educ_9', 'educ_10', 'educ_11', 'educ_12', 'educ_13', \n",
    "                       'educ_14', 'educ_16', 'educ_18', 'educ_20')\n",
    "\n",
    "X = cps.select(...).values\n",
    "Y = cps.column(...)\n",
    "\n",
    "model = sm.OLS(..., ...)\n",
    "result = ...\n",
    "result.summary()"
   ]
  },
  {
   "cell_type": "code",
   "execution_count": null,
   "metadata": {},
   "outputs": [],
   "source": [
    "## Solution ##\n",
    "educ_cols = make_array('educ_3', 'educ_6', 'educ_8', 'educ_9', 'educ_10', 'educ_11', 'educ_12', 'educ_13', \n",
    "                       'educ_14', 'educ_16', 'educ_18', 'educ_20')\n",
    "\n",
    "X = cps.select(educ_cols).values\n",
    "Y = cps.column(\"logwage\")\n",
    "\n",
    "model = sm.OLS(Y, sm.add_constant(X))\n",
    "result = model.fit()\n",
    "result.summary()"
   ]
  },
  {
   "cell_type": "markdown",
   "metadata": {},
   "source": [
    "**Question 2.2:** Interpret the regression coefficients. What is the benefit of an undergraduate degree (`educ_16`, $\\beta_{10}$) compared to a high school diploma (`educ_12`, $\\beta_7$)."
   ]
  },
  {
   "cell_type": "markdown",
   "metadata": {},
   "source": [
    "_Type your answer here, replacing this text._"
   ]
  },
  {
   "cell_type": "markdown",
   "metadata": {},
   "source": [
    "<div class=\"alert alert-danger\">\n",
    "    \n",
    "<strong>SOLUTION:</strong> We see that $\\beta_7$ is 0.3231 and $\\beta_{10}$ is 0.8291, meaning that we gain a benefit of $0.8291 - 0.3231 = 0.506$ in log wages.\n",
    "    \n",
    "</div>"
   ]
  },
  {
   "cell_type": "markdown",
   "metadata": {},
   "source": [
    "**Question 2.3:** Create your own regression in the cell below."
   ]
  },
  {
   "cell_type": "code",
   "execution_count": null,
   "metadata": {},
   "outputs": [],
   "source": [
    "X = ...\n",
    "Y = ...\n",
    "\n",
    "model = ...\n",
    "result = ...\n",
    "result.summary()"
   ]
  },
  {
   "cell_type": "markdown",
   "metadata": {},
   "source": [
    "---\n",
    "\n",
    "### Feedback\n",
    "\n",
    "Please fill out the feedback form below regarding this lecture."
   ]
  },
  {
   "cell_type": "code",
   "execution_count": null,
   "metadata": {
    "scrolled": true
   },
   "outputs": [],
   "source": [
    "feedback.ask()"
   ]
  },
  {
   "cell_type": "markdown",
   "metadata": {},
   "source": [
    " "
   ]
  }
 ],
 "metadata": {
  "kernelspec": {
   "display_name": "Python 3",
   "language": "python",
   "name": "python3"
  },
  "language_info": {
   "codemirror_mode": {
    "name": "ipython",
    "version": 3
   },
   "file_extension": ".py",
   "mimetype": "text/x-python",
   "name": "python",
   "nbconvert_exporter": "python",
   "pygments_lexer": "ipython3",
   "version": "3.6.5"
  },
  "varInspector": {
   "cols": {
    "lenName": 16,
    "lenType": 16,
    "lenVar": 40
   },
   "kernels_config": {
    "python": {
     "delete_cmd_postfix": "",
     "delete_cmd_prefix": "del ",
     "library": "var_list.py",
     "varRefreshCmd": "print(var_dic_list())"
    },
    "r": {
     "delete_cmd_postfix": ") ",
     "delete_cmd_prefix": "rm(",
     "library": "var_list.r",
     "varRefreshCmd": "cat(var_dic_list()) "
    }
   },
   "types_to_exclude": [
    "module",
    "function",
    "builtin_function_or_method",
    "instance",
    "_Feature"
   ],
   "window_display": false
  }
 },
 "nbformat": 4,
 "nbformat_minor": 2
}
