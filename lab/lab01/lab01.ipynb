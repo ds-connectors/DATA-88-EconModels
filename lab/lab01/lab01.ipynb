{
 "cells": [
  {
   "cell_type": "markdown",
   "metadata": {},
   "source": [
    "<table style=\"width: 100%;\">\n",
    "    <tr style=\"background-color: transparent;\"><td>\n",
    "        <img src=\"https://d8a-88.github.io/econ-fa19/assets/images/blue_text.png\" width=\"250px\" style=\"margin-left: 0;\" />\n",
    "    </td><td>\n",
    "        <p style=\"text-align: right; font-size: 12pt;\"><strong>Economic Models</strong>, Spring 2020<br>\n",
    "            Dr. Eric Van Dusen</p></td></tr>\n",
    "</table>"
   ]
  },
  {
   "cell_type": "markdown",
   "metadata": {},
   "source": [
    "# Lab 1: Demand \n",
    "\n",
    "\n",
    "Welcome to Data 88: _Ecoomic Models_!"
   ]
  },
  {
   "cell_type": "code",
   "execution_count": 2,
   "metadata": {},
   "outputs": [],
   "source": [
    "from datascience import *\n",
    "import nbforms\n",
    "import sympy\n",
    "solve = lambda x,y: sympy.solve(x-y)[0] if len(sympy.solve(x-y))==1 else \"Not Single Solution\"\n",
    "import matplotlib.pyplot as plt\n",
    "import matplotlib.patches as patches\n",
    "plt.style.use('seaborn-muted')\n",
    "%matplotlib inline\n",
    "\n",
    "from ipywidgets import interact, interactive, fixed, interact_manual\n",
    "import ipywidgets as widgets\n",
    "from IPython.display import display\n",
    "import numpy as np\n",
    "import pandas as pd\n",
    "\n",
    "import warnings\n",
    "warnings.filterwarnings('ignore')\n",
    "from ipywidgets import interact"
   ]
  },
  {
   "cell_type": "markdown",
   "metadata": {},
   "source": [
    "## 1. Intro to Jupyter Notebooks"
   ]
  },
  {
   "cell_type": "markdown",
   "metadata": {},
   "source": [
    "Welcome to Jupyter notebooks, a place used to write programs, write texts, and view the results."
   ]
  },
  {
   "cell_type": "markdown",
   "metadata": {},
   "source": [
    "Each rectangle is called a *cell*. There are two types of cells: text or code. Text cells, like this one, can be edited by double-clicking on them. \n",
    "\n",
    "To run a cell, click the \"▶| Run\" button on the top menu bar or hold `shift` + `return` (or `shift` + `enter`). "
   ]
  },
  {
   "cell_type": "markdown",
   "metadata": {},
   "source": [
    "**Question 1.1.** Try editing this paragraph so it only says \"Economics is fun.\" Then click the \"run cell\" ▶| button or hold down `shift` + `return`. This sentence, for example, should be deleted. Edit by double-clicking this cell."
   ]
  },
  {
   "cell_type": "code",
   "execution_count": 2,
   "metadata": {},
   "outputs": [
    {
     "name": "stdout",
     "output_type": "stream",
     "text": [
      "Hello, World!\n"
     ]
    }
   ],
   "source": [
    "#Run this cell\n",
    "print(\"Hello, World!\")"
   ]
  },
  {
   "cell_type": "markdown",
   "metadata": {},
   "source": [
    "**Question 1.2.** Other cells contain code in Python 3 language. Running a cell with code will execute all the code it contains. To run the code in a code cell, first click on that cell to activate it. It'll be highlighted with a little green or blue rectangle. Run the following cells."
   ]
  },
  {
   "cell_type": "code",
   "execution_count": 3,
   "metadata": {},
   "outputs": [
    {
     "name": "stdout",
     "output_type": "stream",
     "text": [
      "Economics is fun!\n",
      "I love data science!\n"
     ]
    }
   ],
   "source": [
    "print(\"Economics is fun!\")\n",
    "print(\"I love data science!\")"
   ]
  },
  {
   "cell_type": "markdown",
   "metadata": {},
   "source": [
    "## 2. Creating a Demand Curve\n",
    "\n",
    "We will create a few demand curves based on the class. Start by running the cell below, logging in, and submitting your attendance. This is how we will do attendance every week."
   ]
  },
  {
   "cell_type": "code",
   "execution_count": null,
   "metadata": {},
   "outputs": [
    {
     "data": {
      "text/html": [
       "\n",
       "                <p>Please <a href=\"https://data-88-nbforms.herokuapp.com/login\" target=\"_blank\">log in</a> to the \n",
       "                nbforms server and enter your API key below.</p>\n",
       "                "
      ],
      "text/plain": [
       "<IPython.core.display.HTML object>"
      ]
     },
     "metadata": {},
     "output_type": "display_data"
    }
   ],
   "source": [
    "form = nbforms.Notebook()\n",
    "form.take_attendance()"
   ]
  },
  {
   "cell_type": "markdown",
   "metadata": {},
   "source": [
    "Please run the cell below and fill out the questions. **Make sure you hit \"Submit\" for each question**, not just once at the end."
   ]
  },
  {
   "cell_type": "code",
   "execution_count": null,
   "metadata": {},
   "outputs": [],
   "source": [
    "form.ask()"
   ]
  },
  {
   "cell_type": "markdown",
   "metadata": {},
   "source": [
    "Now let's analyze the classes data by pulling in everyone's responses."
   ]
  },
  {
   "cell_type": "code",
   "execution_count": null,
   "metadata": {},
   "outputs": [],
   "source": [
    "demand_table = (form.to_table()\n",
    "                .relabeled(\"q1\", \"GTKitkat\")\n",
    "                .relabeled(\"q2\", \"Burrito\")\n",
    "                .relabeled(\"q3\", \"GreekTix\")\n",
    "                .relabeled(\"q4\", \"Iphone12\"))\n",
    "demand_table"
   ]
  },
  {
   "cell_type": "markdown",
   "metadata": {},
   "source": [
    "We need to turn all of this data into numeric types and preview them using histograms, one for each good. We will apply the `float` function to each column of the table; do not worry if you do not know what the code is doing."
   ]
  },
  {
   "cell_type": "code",
   "execution_count": null,
   "metadata": {},
   "outputs": [],
   "source": [
    "for label in demand_table.labels:\n",
    "    col = demand_table.apply(lambda s: float(s[1:]), label)\n",
    "    demand_table = demand_table.drop(label).with_column(label, col)\n",
    "    \n",
    "demand_table"
   ]
  },
  {
   "cell_type": "code",
   "execution_count": null,
   "metadata": {},
   "outputs": [],
   "source": [
    "demand_table.hist('GTKitkat')\n",
    "demand_table.hist('Burrito')\n",
    "demand_table.hist('GreekTix')\n",
    "demand_table.hist('Iphone12')"
   ]
  },
  {
   "cell_type": "markdown",
   "metadata": {},
   "source": [
    "We will only look at the demand for Kitkats. How many people would buy Green Tea Kitkats (`GTK`) at a given price? Let's assume that a person would be willing to buy the good at a price less than their bid price.  "
   ]
  },
  {
   "cell_type": "code",
   "execution_count": null,
   "metadata": {},
   "outputs": [],
   "source": [
    "# This is a column of bid values for Greeen Tea Kitkats that you've all inputted. \n",
    "KitkatsTable = demand_table.select('GTKitkat')\n",
    "KitkatsTable"
   ]
  },
  {
   "cell_type": "code",
   "execution_count": null,
   "metadata": {},
   "outputs": [],
   "source": [
    "# This cell does some python magic. You do not need to worry about what's going on. \n",
    "prices = pd.DataFrame({'priceGTK':[0.25, 0.5, 0.75, 1.00, 1.25, 1.5,1.75,2]})\n",
    "KitkatsByPrice = KitkatsTable.group(\"GTKitkat\")\n",
    "kkp = KitkatsByPrice.to_df()\n",
    "gtk = prices.merge(kkp, left_on='priceGTK', how='left', right_on='GTKitkat').fillna(0).drop('GTKitkat', axis=1)\n",
    "KitkatsTable = Table.from_df(gtk)\n",
    "Qdemand = np.flip(np.cumsum(np.flip(KitkatsTable.group(\"priceGTK\", sum).column(1))))\n",
    "DemandGTK=Table().with_columns('priceGTK', prices.priceGTK, 'Qdemand',Qdemand)\n",
    "DemandGTK"
   ]
  },
  {
   "cell_type": "code",
   "execution_count": null,
   "metadata": {},
   "outputs": [],
   "source": [
    "# Let's graph our results\n",
    "DemandGTK.scatter(\"Qdemand\", \"priceGTK\")\n",
    "plt.xlabel('Quantity')\n",
    "plt.ylabel('Price')\n",
    "plt.title('Demand for Green Tea Kitkats');"
   ]
  },
  {
   "cell_type": "code",
   "execution_count": null,
   "metadata": {},
   "outputs": [],
   "source": [
    "# What are the slope and intercept of the fit line?\n",
    "std_units = lambda a: (a - np.mean(a)) / np.std(a)\n",
    "corr = lambda x, y: np.mean(std_units(x) * std_units(y))\n",
    "slope = lambda x, y: corr(x, y) * np.std(y) / np.std(x)\n",
    "intercept = lambda x, y: np.mean(y) - slope(x, y) * np.mean(x)"
   ]
  },
  {
   "cell_type": "code",
   "execution_count": null,
   "metadata": {},
   "outputs": [],
   "source": [
    "slope(DemandGTK[\"Qdemand\"], DemandGTK[\"priceGTK\"])"
   ]
  },
  {
   "cell_type": "code",
   "execution_count": null,
   "metadata": {},
   "outputs": [],
   "source": [
    "intercept(DemandGTK[\"Qdemand\"], DemandGTK[\"priceGTK\"])"
   ]
  },
  {
   "cell_type": "markdown",
   "metadata": {},
   "source": [
    "## Optional: Recreate the demand curve for Burritos/iPhones/Tickets "
   ]
  },
  {
   "cell_type": "markdown",
   "metadata": {},
   "source": [
    "_Your code here_"
   ]
  },
  {
   "cell_type": "markdown",
   "metadata": {},
   "source": [
    "## 2. SymPy ##"
   ]
  },
  {
   "cell_type": "markdown",
   "metadata": {},
   "source": [
    "Python has many tools, such as the SymPy library [https://docs.sympy.org/latest/tutorial/index.html] that we can use for expressing and evaluating formulas and functions in economics. \n",
    "\n",
    "Since SymPy helps with symbolic math, we start out by create a symbol using `Symbol`, which we assign to a variable name. Then, we can use the symbols for constructing symbolic expressions.\n",
    "\n",
    "#### Example 1 ####"
   ]
  },
  {
   "cell_type": "code",
   "execution_count": null,
   "metadata": {},
   "outputs": [],
   "source": [
    "#Run this cell\n",
    "x = sympy.Symbol('x')\n",
    "x"
   ]
  },
  {
   "cell_type": "markdown",
   "metadata": {},
   "source": [
    "Now let's try using SymPy for creating a symbolic expression for supply and demand curves.\n",
    "\n",
    "Let's start out with an upward sloping Supply curve, where P_S is price and Q_S is quantity suppled. Create symbols for the variables P_S and Q:"
   ]
  },
  {
   "cell_type": "code",
   "execution_count": null,
   "metadata": {},
   "outputs": [],
   "source": [
    "P_S = sympy.Symbol('P_S')\n",
    "P_S"
   ]
  },
  {
   "cell_type": "code",
   "execution_count": null,
   "metadata": {},
   "outputs": [],
   "source": [
    "Q_S = sympy.Symbol('Q_S')\n",
    "Q_S"
   ]
  },
  {
   "cell_type": "code",
   "execution_count": null,
   "metadata": {},
   "outputs": [],
   "source": [
    "P_S = 2 * Q_S - 4\n",
    "P_S"
   ]
  },
  {
   "cell_type": "markdown",
   "metadata": {},
   "source": [
    "#### Example 2####\n",
    "Let's suppose our demand function is $Quantity_{D}=-2 * Price_{D} + 10$. Using SymPy, this would be\n"
   ]
  },
  {
   "cell_type": "code",
   "execution_count": null,
   "metadata": {},
   "outputs": [],
   "source": [
    "q = sympy.Symbol(\"q\")\n",
    "demand = -2*q + 10\n",
    "demand"
   ]
  },
  {
   "cell_type": "markdown",
   "metadata": {},
   "source": [
    "Suppose we have a supply function $Price_{S}=3 * Quantity_{S} + 1$. Using SymPy, this would be"
   ]
  },
  {
   "cell_type": "code",
   "execution_count": null,
   "metadata": {},
   "outputs": [],
   "source": [
    "supply = 3*q + 1\n",
    "supply"
   ]
  },
  {
   "cell_type": "markdown",
   "metadata": {},
   "source": [
    "## 3. Demand Curves and Airline Tickets ##"
   ]
  },
  {
   "cell_type": "markdown",
   "metadata": {},
   "source": [
    "Now, we will learn about the demand curve and using both the supply and demand curve to find market equilibrium. "
   ]
  },
  {
   "cell_type": "markdown",
   "metadata": {},
   "source": [
    "The demand curve shows the graphical relationship between the price of a good or service and the quantity demanded for it over a given period of time. In other words, it shows the quantity of goods or services consumers are willing to buy at each market price. The quantity of goods or services demanded or supplied is a function of price, as in:   $$\\text{Quantity} = f(\\text{Price})$$\n",
    "\n",
    "The curve decreases because of the law of demand, which states that as the price of a good or service increases, the quantity demanded for it decreases, assuming all other factors are held constant. This should make intuitive sense: as prices increase, fewer people are willing to pay the higher price for the same good. Naturally, as prices decrease, more people are willing to pay the lower price for the same good. Hence, the demand of a good or service is based on the price. This relationship is usually somewhat negative and linear, and can be found as: $$\\text{Quantity}_{d}=a \\times \\text{Price}_{d} + b$$\n",
    "\n",
    "This can be interpreted as: As the price unit increases by 1, there is an a unit decrease in the quantity demanded. An example is: $$\\text{Quantity}_{d}=2 \\times \\text{Price}_{d} + 3$$\n",
    "\n",
    "On the other hand, price can be dependent on quantity. In this case, we use an inverse demand function, as it is an inverse function of the demand function. Thus, price is a function of quantity, as shown by: $$\\text{Price} = f(\\text{Quantity})$$ Because it is the inverse of a demand function, the inverse demand function for the example above will be: $$\\text{Price}_{d}=1/2 \\times \\text{Quantity}_{d}-\\frac{3}{2}$$"
   ]
  },
  {
   "cell_type": "markdown",
   "metadata": {},
   "source": [
    "### Shifts in Demand Curve###"
   ]
  },
  {
   "cell_type": "markdown",
   "metadata": {},
   "source": [
    "The demand curve can shift out or in based on events happening in the real world. Some factors include:\n",
    "\n",
    "1) buyer's income\n",
    "\n",
    "2) consumer preferences\n",
    "\n",
    "3) expectation of future price/supply/demand/etc\n",
    "\n",
    "4) price of related goods\n",
    "\n",
    "If any of these changes occur and causes the demand for the selected good/service to decrease, then the curve shifts to the left, as less of the good or service will be demanded at every price. During the 2008 recession, consumers' incomes decreased. Because their buying power decreased, they purchased fewer items even though the prices of the select goods stayed the same. "
   ]
  },
  {
   "cell_type": "markdown",
   "metadata": {},
   "source": [
    "### Working with the Airline Dataset"
   ]
  },
  {
   "cell_type": "markdown",
   "metadata": {},
   "source": [
    "We will now apply what we've learned about demand functions onto a real world dataset. We would like to answer the question: \"What is the market equilibrium for airline tickets?\" \n",
    "\n",
    "We will use a dataset released by the U.S. Department of Transportation on about 1,000 U.S. domestic airline routes for the 4th quarter of 2002. "
   ]
  },
  {
   "cell_type": "code",
   "execution_count": null,
   "metadata": {},
   "outputs": [],
   "source": [
    "airlines = Table.read_table('airlines.csv')\n",
    "airlines = airlines.drop(\"Price\")\n",
    "airlinesFiltered = airlines.relabeled([\"Average Fare\", \"Average Weekly Passengers\"], [\"Price\", \"Quantity\"])\n",
    "airlines"
   ]
  },
  {
   "cell_type": "markdown",
   "metadata": {},
   "source": [
    "**Question 3.1** Since flights vary by distance, we must standardize them in order to fairly compare their prices. The Revenue Per Available Seat Mile (RASM) measures the efficiency of different airlines. It is found by dividing the average fare by the distance. The higher the RASM, the more profitable the airline\n",
    "\n",
    "Create a scatter plot that displays the RASM of the dataset."
   ]
  },
  {
   "cell_type": "code",
   "execution_count": null,
   "metadata": {},
   "outputs": [],
   "source": [
    "rasm = Table().with_columns(\"RASM\", airlinesFiltered.column(\"Price\") / airlines.column(\"Distance\"), \"Quantity\", airlines.column(4))\n",
    "rasm.scatter(\"Quantity\", \"RASM\", fit_line = True, alpha = 0.3, color = \"tab:blue\")"
   ]
  },
  {
   "cell_type": "markdown",
   "metadata": {},
   "source": [
    "That looks unconvincing. Let's segment the market based on distance into 3 categories. \n",
    "\n",
    "1) short (distance is less than 700)\n",
    "\n",
    "2) medium (distance is greater than or equal to 700 and less than 1900)\n",
    "\n",
    "3) long (distance is greater than or equal to 1900)"
   ]
  },
  {
   "cell_type": "code",
   "execution_count": null,
   "metadata": {},
   "outputs": [],
   "source": [
    "airlinesFiltered.show(5)"
   ]
  },
  {
   "cell_type": "code",
   "execution_count": null,
   "metadata": {},
   "outputs": [],
   "source": [
    "short = airlinesFiltered.where(airlinesFiltered.column(\"Distance\") < 700)\n",
    "medium = airlinesFiltered.where(airlinesFiltered.column(\"Distance\") >= 700 & (airlinesFiltered.column(\"Distance\") < 1900))\n",
    "long = airlinesFiltered.where(airlinesFiltered.column(\"Distance\") >= 1900)"
   ]
  },
  {
   "cell_type": "code",
   "execution_count": null,
   "metadata": {},
   "outputs": [],
   "source": [
    "# Demand for short haul flights\n",
    "short.scatter(\"Quantity\" , \"Price\", fit_line = True, alpha = 0.4, color = \"tab:blue\")"
   ]
  },
  {
   "cell_type": "code",
   "execution_count": null,
   "metadata": {},
   "outputs": [],
   "source": [
    "# Demand for medium haul flights\n",
    "medium.scatter(\"Quantity\" , \"Price\", fit_line = True, alpha = 0.4, color = \"tab:blue\")"
   ]
  },
  {
   "cell_type": "code",
   "execution_count": null,
   "metadata": {},
   "outputs": [],
   "source": [
    "# Demand for long haul flights\n",
    "long.scatter(\"Quantity\" , \"Price\", fit_line = True, alpha = 0.4, color = \"tab:blue\")"
   ]
  },
  {
   "cell_type": "markdown",
   "metadata": {},
   "source": [
    "Most of the data seems to be scattered between 0 and 2000. Let's only look at that data for each of the market segments between this price range."
   ]
  },
  {
   "cell_type": "code",
   "execution_count": null,
   "metadata": {},
   "outputs": [],
   "source": [
    "short = short.where(short.column(\"Quantity\") < 2000)\n",
    "medium = medium.where(medium.column(\"Quantity\") < 2000)\n",
    "long = long.where(long.column(\"Quantity\") < 2000)"
   ]
  },
  {
   "cell_type": "code",
   "execution_count": null,
   "metadata": {},
   "outputs": [],
   "source": [
    "short.scatter(\"Quantity\" , \"Price\", fit_line = True, alpha = 0.4, color = \"tab:blue\")"
   ]
  },
  {
   "cell_type": "code",
   "execution_count": null,
   "metadata": {},
   "outputs": [],
   "source": [
    "medium.scatter(\"Quantity\" , \"Price\", fit_line = True, alpha = 0.4, color = \"tab:blue\")"
   ]
  },
  {
   "cell_type": "code",
   "execution_count": null,
   "metadata": {},
   "outputs": [],
   "source": [
    "long.scatter(\"Quantity\" , \"Price\", fit_line = True, alpha = 0.4, color = \"tab:blue\")"
   ]
  },
  {
   "cell_type": "markdown",
   "metadata": {},
   "source": [
    "**Question 3.2** Now you should see a linear relationship between price and quantity. Find and interpret an equation for each market segment. \n",
    "\n",
    "The general template is $y = mx + b$, where m is the slope and b is y-intercept. In economic terms, m is the demand curve's slope that shows how the good's price affects the quantity demanded, and b encompasses the effects of all of the factors that are not price that affect demand. "
   ]
  },
  {
   "cell_type": "code",
   "execution_count": null,
   "metadata": {},
   "outputs": [],
   "source": [
    "shortCoefficients = np.polyfit(short.column(\"Quantity\"),short.column(\"Price\"),1)\n",
    "mediumCoefficients = np.polyfit(medium.column(\"Quantity\"), medium.column(\"Price\"),1)\n",
    "longCoefficients = np.polyfit(long.column(\"Quantity\"), long.column(\"Price\"),1)"
   ]
  },
  {
   "cell_type": "markdown",
   "metadata": {},
   "source": [
    "np.polyfit returns an array of size 2, where the 0th index is the slope and 1st index is the y-intercept. "
   ]
  },
  {
   "cell_type": "code",
   "execution_count": null,
   "metadata": {},
   "outputs": [],
   "source": [
    "shortCoefficients"
   ]
  },
  {
   "cell_type": "code",
   "execution_count": null,
   "metadata": {},
   "outputs": [],
   "source": [
    "mediumCoefficients"
   ]
  },
  {
   "cell_type": "code",
   "execution_count": null,
   "metadata": {},
   "outputs": [],
   "source": [
    "longCoefficients"
   ]
  },
  {
   "cell_type": "markdown",
   "metadata": {},
   "source": [
    "What do we notice? The short-distance and medium-distance flights have a negative slope, and the long-distance flighs have a positive slope. In general, negative slopes indicates an inverse relationship, in which as one variable's values increase, the other variable's values decrease. With positive slops, as one variable's values increase, the other variable's values increase too. "
   ]
  },
  {
   "cell_type": "code",
   "execution_count": null,
   "metadata": {},
   "outputs": [],
   "source": [
    "Q = sympy.Symbol(\"Q\")\n",
    "shortdemand = -0.037 * Q + 152.8\n",
    "shortdemand"
   ]
  },
  {
   "cell_type": "code",
   "execution_count": null,
   "metadata": {},
   "outputs": [],
   "source": [
    "mediumdemand = -0.026 * Q + 178.5\n",
    "mediumdemand"
   ]
  },
  {
   "cell_type": "code",
   "execution_count": null,
   "metadata": {},
   "outputs": [],
   "source": [
    "shortCoefficients"
   ]
  },
  {
   "cell_type": "code",
   "execution_count": null,
   "metadata": {},
   "outputs": [],
   "source": [
    "longdemand = .038 * Q + 195.5\n",
    "longdemand"
   ]
  },
  {
   "cell_type": "markdown",
   "metadata": {},
   "source": [
    "SymPy orders the equations so that the positve-value terms lead the equation, which is why for short-distance and medium-distance flights, the equation is $y = b + mx$, while for long-distance flights, the equation is y = mx + b. "
   ]
  },
  {
   "cell_type": "markdown",
   "metadata": {},
   "source": [
    "It is important to remember that scatter plots do not prove cause and effect relationships. Rather, they just show whether there is a positive, negative, or neutral relationship between two variables."
   ]
  },
  {
   "cell_type": "markdown",
   "metadata": {},
   "source": [
    "**Question 3.3** Let's assume the supply curve for airfare is $y = 0.0225x + 100$ for each. This supply curve is not based on any data. Use SymPy to create an expression for supply and interpret what this means."
   ]
  },
  {
   "cell_type": "code",
   "execution_count": null,
   "metadata": {},
   "outputs": [],
   "source": [
    "supply = 0.0225 * Q + 100\n",
    "supply"
   ]
  },
  {
   "cell_type": "markdown",
   "metadata": {},
   "source": [
    "Remember that supply curves show how much of a good suppliers are willing and able to supply at different prices. In this case, as the price of the airfare ticket increases, the quantity of airfare tickets that airlines are willing to supply increases. This makes sense, because firms are rational and want to maximize their profits."
   ]
  },
  {
   "cell_type": "markdown",
   "metadata": {},
   "source": [
    "**Question 3.4** Find the quantity equilibrium using the supply and demand curves for each market. Describe Q*. "
   ]
  },
  {
   "cell_type": "markdown",
   "metadata": {},
   "source": [
    "Quantity equilibrium is the quantity at which the supply curve and demand curve intersect. The quantity of the good that consumers desire to purchase is equivalent to the quantity of the good that producers supply. There is no shortage or surplus of the product at this quantity. In this case, quantity equilibrium would be both the number of airfare tickets that consumers want to purchase and airlines want to provide. "
   ]
  },
  {
   "cell_type": "code",
   "execution_count": null,
   "metadata": {},
   "outputs": [],
   "source": [
    "Q_star_short = solve(shortdemand, supply)\n",
    "Q_star_short"
   ]
  },
  {
   "cell_type": "code",
   "execution_count": null,
   "metadata": {},
   "outputs": [],
   "source": [
    "Q_star_medium = solve(mediumdemand, supply)\n",
    "Q_star_medium"
   ]
  },
  {
   "cell_type": "code",
   "execution_count": null,
   "metadata": {},
   "outputs": [],
   "source": [
    "Q_star_long = solve(longdemand, supply)\n",
    "Q_star_long"
   ]
  },
  {
   "cell_type": "markdown",
   "metadata": {},
   "source": [
    "This means that the number of airline tickets that consumers want to purchase and airlines want to provide are about 887 for short-distance flights, 1618 for medium-distance flights, and 1578 for long-distance flights. \n",
    "\n",
    "Why might airlines want to have fewer tickets for long-distance flights compared to medium-distance flights? "
   ]
  },
  {
   "cell_type": "markdown",
   "metadata": {},
   "source": [
    "**Question 3.5** Find the price equilibrium using the supply and demand curves for each market. Describe P*."
   ]
  },
  {
   "cell_type": "markdown",
   "metadata": {},
   "source": [
    "Price equilibrium is the price at which the supply curve and demand curve intersect. The price of the good that consumers desire to purchase at is equivalent to the price of the good that producers want to sell at. There is no shortage of surplus of the product at this price. In this case, price equilibrium would be both the price of airfare tickets that consumers want to purchase at and the price of airfare tickets that the airlines want to sell at. "
   ]
  },
  {
   "cell_type": "code",
   "execution_count": null,
   "metadata": {},
   "outputs": [],
   "source": [
    "shortdemand.subs(Q, Q_star_short)\n",
    "supply.subs(Q, Q_star_short)"
   ]
  },
  {
   "cell_type": "code",
   "execution_count": null,
   "metadata": {},
   "outputs": [],
   "source": [
    "mediumdemand.subs(Q, Q_star_medium)\n",
    "supply.subs(Q, Q_star_medium)"
   ]
  },
  {
   "cell_type": "code",
   "execution_count": null,
   "metadata": {},
   "outputs": [],
   "source": [
    "longdemand.subs(Q, Q_star_long)\n",
    "supply.subs(Q, Q_star_long)"
   ]
  },
  {
   "cell_type": "markdown",
   "metadata": {},
   "source": [
    "This means that the price of airline tickets that consumers want to purchase at and airlines want to provide are about 119.97 dollars for short-distance flights, 136.41 dollars for medium-distance flights, and 135.52 dollars for long-distance flights.\n",
    "\n",
    "This might seem kind of low. Given that this data is from 2002, let's convert these dollar amounts to present-day value. As of 2019, the price equilibrium is 173.83 dollars for short-distance flight, 197.66 dollars for medium-distance flights, and 196.36 dollars for long-distance flights. \n",
    "\n",
    "Even then, that seems kind of low. Why else do you think flight tickets prices have increased?  \n",
    "\n",
    "A few reasons are \n",
    "- fewer major airline industries. There have been many mergers and bankruptcies in the past, so the decreased competition means airlines can raise prices\n",
    "- plane fuel costs have increased. In 2002, airline fuel costed 55 cents a gallon. Now, it is 1.95 dollars a gallon\n",
    "- increasing number of taxes and fees per passenger. New fees such as September 11 Security Fee, US Federal Domestic Segment Fee, and US Travel Facilities Tax have increased the overall price per ticket. \n",
    "\n",
    "You can read more about this increase in airline prices at https://www.nomadicmatt.com/travel-blogs/expensive-airfare/"
   ]
  },
  {
   "cell_type": "markdown",
   "metadata": {},
   "source": [
    "**Question 3.6** Visualize the market equilibrium on a graph. Describe the market equilibrium in this case."
   ]
  },
  {
   "cell_type": "code",
   "execution_count": null,
   "metadata": {},
   "outputs": [],
   "source": [
    "def plot_equation(equation, price_start, price_end, label=None):\n",
    "    plot_prices = [price_start, price_end]\n",
    "    plot_quantities = [equation.subs(list(equation.free_symbols)[0], c) for c in plot_prices]\n",
    "    plt.plot(plot_prices, plot_quantities, label=label)\n",
    "    \n",
    "def plot_intercept(eq1, eq2):\n",
    "    ex = sympy.solve(eq1-eq2)[0]\n",
    "    why = eq1.subs(list(eq1.free_symbols)[0], ex)\n",
    "    plt.scatter([ex], [why])\n",
    "    return (ex, why)\n",
    "    \n",
    "plot_equation(shortdemand, -2500, 5000)\n",
    "plot_equation(supply, -2500, 5000)\n",
    "plt.ylim(0,250)\n",
    "plt.title(\"Airfare Supply and Demand for Short Distance Market\")\n",
    "plt.xlabel(\"Quantity\")\n",
    "plt.ylabel(\"Price\")\n",
    "plot_intercept(supply, shortdemand)\n",
    "plt.show()"
   ]
  },
  {
   "cell_type": "code",
   "execution_count": null,
   "metadata": {},
   "outputs": [],
   "source": [
    "plot_equation(mediumdemand, -2500, 5000)\n",
    "plot_equation(supply, -2500, 5000)\n",
    "plt.ylim(0,250)\n",
    "plt.title(\"Airfare Supply and Demand for Medium Distance Market\")\n",
    "plt.xlabel(\"Quantity\")\n",
    "plt.ylabel(\"Price\")\n",
    "plot_intercept(supply, mediumdemand)\n",
    "plt.show()"
   ]
  },
  {
   "cell_type": "code",
   "execution_count": null,
   "metadata": {},
   "outputs": [],
   "source": [
    "plot_equation(longdemand, -2500, 5000)\n",
    "plot_equation(supply, -2500, 5000)\n",
    "plt.ylim(0,250)\n",
    "plt.title(\"Airfare Supply and Demand for Long Distance Market\")\n",
    "plt.xlabel(\"Quantity\")\n",
    "plt.ylabel(\"Price\")\n",
    "plot_intercept(supply, longdemand)\n",
    "plt.show()"
   ]
  },
  {
   "cell_type": "markdown",
   "metadata": {},
   "source": [
    "How do the three market segments compare against each other?"
   ]
  },
  {
   "cell_type": "code",
   "execution_count": null,
   "metadata": {},
   "outputs": [],
   "source": [
    "plot_equation(shortdemand, -1000, 3000, label = \"Short Demand\")\n",
    "plot_equation(supply, -1000, 3000)\n",
    "plt.ylim(50,220)\n",
    "plt.title(\"Airfare Supply and Demand Market Segments\")\n",
    "plt.xlabel(\"Quantity\")\n",
    "plt.ylabel(\"Price\")\n",
    "plot_intercept(supply, shortdemand)\n",
    "\n",
    "plot_equation(mediumdemand, -1000, 3000, label = \"Medium Demand\")\n",
    "plot_equation(supply, -1000, 3000)\n",
    "plot_intercept(supply, mediumdemand)\n",
    "\n",
    "plot_equation(longdemand, -1000, 3000, label = \"Long Demand\")\n",
    "plot_equation(supply, -1000, 3000)\n",
    "plot_intercept(supply, longdemand)\n",
    "\n",
    "plt.legend(loc = \"upper right\")\n",
    "plt.show()"
   ]
  },
  {
   "cell_type": "markdown",
   "metadata": {},
   "source": [
    "**Question 3.7** Assume the economy boosted 4% last quarter and all consumers in the short distance airfare industry now have $40 more to spend on airfare. How will this impact the demand curve? Describe how this will change market equilibrium both algebraically and graphically."
   ]
  },
  {
   "cell_type": "code",
   "execution_count": null,
   "metadata": {},
   "outputs": [],
   "source": [
    "newDemand = shortdemand + 40\n",
    "Q_star = solve(newDemand, supply)\n",
    "newDemand.subs(Q, Q_star)\n",
    "supply.subs(Q, Q_star)\n",
    "\n",
    "plot_equation(newDemand, -1000, 3000, label = \"Modified Demand\")\n",
    "plot_equation(supply, -1000, 3000)\n",
    "plt.ylim(50,225)\n",
    "plt.title(\"Shift in Short Distance Industry\")\n",
    "plt.xlabel(\"Quantity\")\n",
    "plt.ylabel(\"Price\")\n",
    "plot_intercept(supply, newDemand)\n",
    "\n",
    "plot_equation(shortdemand, -1000, 3000, label = \"Original Demand\")\n",
    "plot_equation(supply, -1000, 3000)\n",
    "plot_intercept(supply, shortdemand)\n",
    "\n",
    "plt.legend(loc = \"upper right\")\n",
    "\n",
    "xstmark=1200\n",
    "xenmark=1900\n",
    "ystmark=110\n",
    "an1=plt.annotate(s='',xy=(xstmark, ystmark), xycoords='data', xytext=(xenmark, ystmark),textcoords='data', arrowprops=dict(arrowstyle=\"<-\"))\n",
    "plt.annotate(s='Shift',xy=(((xstmark+xenmark)/2), ystmark), xycoords='data',fontsize=12.0,textcoords='data',ha='center')\n",
    "\n",
    "plt.show()"
   ]
  },
  {
   "cell_type": "markdown",
   "metadata": {},
   "source": [
    "This increase in price equilbrium and quantity equilibrium makes sense. Because the economy increased and consumers' purchasing powers increased by 40 dollars, they are willing to spend  40 dollars more on flights. Because the suppliers (airlines) are rational, they want to maximize their profit, so they are willing to sell the airline tickets for 40 dollars more. Hence, the price equilibrium increases by 40 dollars. "
   ]
  },
  {
   "cell_type": "markdown",
   "metadata": {},
   "source": [
    "---\n",
    "\n",
    "### Feedback\n",
    "\n",
    "Please fill out the form below to give us feedback on today's lecture."
   ]
  },
  {
   "cell_type": "code",
   "execution_count": null,
   "metadata": {},
   "outputs": [],
   "source": [
    "feedback = nbforms.Notebook(\"feedback_form_config.json\")\n",
    "feedback.ask()"
   ]
  },
  {
   "cell_type": "markdown",
   "metadata": {},
   "source": [
    "# Congrats! You finished the Lab 1! "
   ]
  }
 ],
 "metadata": {
  "@webio": {
   "lastCommId": null,
   "lastKernelId": null
  },
  "kernelspec": {
   "display_name": "Python 3",
   "language": "python",
   "name": "python3"
  },
  "language_info": {
   "codemirror_mode": {
    "name": "ipython",
    "version": 3
   },
   "file_extension": ".py",
   "mimetype": "text/x-python",
   "name": "python",
   "nbconvert_exporter": "python",
   "pygments_lexer": "ipython3",
   "version": "3.6.9"
  },
  "varInspector": {
   "cols": {
    "lenName": 16,
    "lenType": 16,
    "lenVar": 40
   },
   "kernels_config": {
    "python": {
     "delete_cmd_postfix": "",
     "delete_cmd_prefix": "del ",
     "library": "var_list.py",
     "varRefreshCmd": "print(var_dic_list())"
    },
    "r": {
     "delete_cmd_postfix": ") ",
     "delete_cmd_prefix": "rm(",
     "library": "var_list.r",
     "varRefreshCmd": "cat(var_dic_list()) "
    }
   },
   "types_to_exclude": [
    "module",
    "function",
    "builtin_function_or_method",
    "instance",
    "_Feature"
   ],
   "window_display": false
  }
 },
 "nbformat": 4,
 "nbformat_minor": 2
}
